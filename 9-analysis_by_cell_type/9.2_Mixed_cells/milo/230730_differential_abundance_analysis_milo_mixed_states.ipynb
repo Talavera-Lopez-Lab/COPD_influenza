{
 "cells": [
  {
   "cell_type": "markdown",
   "metadata": {},
   "source": [
    "### Notebook for the differential abundance analysis on mixed cell states using `milopy`\n",
    "\n",
    "- **Developed by:** Carlos Talavera-López Ph.D\n",
    "- **Institute of Systems Immunology (WüSI) - JMU-Würzburg**\n",
    "- v230730"
   ]
  },
  {
   "cell_type": "markdown",
   "metadata": {},
   "source": [
    "### Import required packages"
   ]
  },
  {
   "cell_type": "code",
   "execution_count": 1,
   "metadata": {},
   "outputs": [],
   "source": [
    "import anndata\n",
    "import numpy as np\n",
    "import pandas as pd\n",
    "import scanpy as sc \n",
    "import milopy.core as milo\n",
    "import milopy.plot as milopl\n",
    "import matplotlib.pyplot as plt"
   ]
  },
  {
   "cell_type": "markdown",
   "metadata": {},
   "source": [
    "### Set up working environment"
   ]
  },
  {
   "cell_type": "code",
   "execution_count": 2,
   "metadata": {},
   "outputs": [
    {
     "name": "stdout",
     "output_type": "stream",
     "text": [
      "-----\n",
      "anndata     0.9.2\n",
      "scanpy      1.9.3\n",
      "-----\n",
      "PIL                 10.0.0\n",
      "appnope             0.1.3\n",
      "asttokens           NA\n",
      "backcall            0.2.0\n",
      "cffi                1.15.1\n",
      "comm                0.1.3\n",
      "cycler              0.10.0\n",
      "cython_runtime      NA\n",
      "dateutil            2.8.2\n",
      "debugpy             1.6.7\n",
      "decorator           5.1.1\n",
      "executing           1.2.0\n",
      "h5py                3.9.0\n",
      "importlib_resources NA\n",
      "ipykernel           6.25.0\n",
      "ipywidgets          8.0.7\n",
      "jedi                0.19.0\n",
      "jinja2              3.1.2\n",
      "joblib              1.3.1\n",
      "kiwisolver          1.4.4\n",
      "llvmlite            0.40.1\n",
      "markupsafe          2.1.3\n",
      "matplotlib          3.7.2\n",
      "milopy              0.1.1\n",
      "mpl_toolkits        NA\n",
      "natsort             8.4.0\n",
      "numba               0.57.1\n",
      "numpy               1.24.4\n",
      "packaging           23.1\n",
      "pandas              2.0.3\n",
      "parso               0.8.3\n",
      "patsy               0.5.3\n",
      "pexpect             4.8.0\n",
      "pickleshare         0.7.5\n",
      "pkg_resources       NA\n",
      "platformdirs        3.10.0\n",
      "prompt_toolkit      3.0.39\n",
      "psutil              5.9.5\n",
      "ptyprocess          0.7.0\n",
      "pure_eval           0.2.2\n",
      "pydev_ipython       NA\n",
      "pydevconsole        NA\n",
      "pydevd              2.9.5\n",
      "pydevd_file_utils   NA\n",
      "pydevd_plugins      NA\n",
      "pydevd_tracing      NA\n",
      "pygments            2.15.1\n",
      "pyparsing           3.0.9\n",
      "pytz                2023.3\n",
      "rpy2                3.5.13\n",
      "scipy               1.11.1\n",
      "seaborn             0.12.2\n",
      "session_info        1.0.0\n",
      "six                 1.16.0\n",
      "sklearn             1.3.0\n",
      "stack_data          0.6.2\n",
      "statsmodels         0.14.0\n",
      "threadpoolctl       3.2.0\n",
      "tornado             6.3.2\n",
      "traitlets           5.9.0\n",
      "typing_extensions   NA\n",
      "tzlocal             NA\n",
      "wcwidth             0.2.6\n",
      "zipp                NA\n",
      "zmq                 25.1.0\n",
      "zoneinfo            NA\n",
      "-----\n",
      "IPython             8.14.0\n",
      "jupyter_client      8.3.0\n",
      "jupyter_core        5.3.1\n",
      "-----\n",
      "Python 3.9.16 | packaged by conda-forge | (main, Feb  1 2023, 21:42:20) [Clang 14.0.6 ]\n",
      "macOS-13.4.1-x86_64-i386-64bit\n",
      "-----\n",
      "Session information updated at 2023-07-30 16:06\n"
     ]
    }
   ],
   "source": [
    "sc.settings.verbosity = 3\n",
    "sc.logging.print_versions()\n",
    "sc.settings.set_figure_params(dpi = 180, color_map = 'magma_r', dpi_save = 300, vector_friendly = True, format = 'svg')"
   ]
  },
  {
   "cell_type": "markdown",
   "metadata": {},
   "source": [
    "### Read in data"
   ]
  },
  {
   "cell_type": "code",
   "execution_count": null,
   "metadata": {},
   "outputs": [],
   "source": [
    "adata = sc.read('../../../data/Epithelial_Mixed_states_locked_ctl230730.raw.h5ad')\n",
    "adata"
   ]
  },
  {
   "cell_type": "markdown",
   "metadata": {},
   "source": [
    "### Visualise manifold"
   ]
  },
  {
   "cell_type": "code",
   "execution_count": null,
   "metadata": {},
   "outputs": [],
   "source": [
    "sc.pl.umap(adata, frameon = False, color = ['IAV_score', 'cell_states'], size = 3, legend_fontsize = 8, ncols = 3)"
   ]
  }
 ],
 "metadata": {
  "kernelspec": {
   "display_name": "milopy",
   "language": "python",
   "name": "python3"
  },
  "language_info": {
   "codemirror_mode": {
    "name": "ipython",
    "version": 3
   },
   "file_extension": ".py",
   "mimetype": "text/x-python",
   "name": "python",
   "nbconvert_exporter": "python",
   "pygments_lexer": "ipython3",
   "version": "3.9.16"
  },
  "orig_nbformat": 4
 },
 "nbformat": 4,
 "nbformat_minor": 2
}
