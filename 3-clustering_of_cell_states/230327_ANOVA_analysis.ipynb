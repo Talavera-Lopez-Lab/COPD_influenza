{
 "cells": [
  {
   "cell_type": "markdown",
   "metadata": {},
   "source": [
    "# Notebook for the statistical analysis of the different cell types abundance for COPD project\n",
    "\n",
    "- **Developed by:** Anna Maguza\n",
    "- **Institute of Computational Biology - Computational Health Department - Helmholtz Munich**\n",
    "- 27th February 2022"
   ]
  },
  {
   "cell_type": "markdown",
   "metadata": {},
   "source": [
    "#### Load required packages"
   ]
  },
  {
   "cell_type": "code",
   "execution_count": 1,
   "metadata": {},
   "outputs": [],
   "source": [
    "import numpy as np\n",
    "import pandas as pd\n",
    "import scanpy as sc\n",
    "import anndata as an\n",
    "import matplotlib.pyplot as plt\n",
    "from matplotlib.pyplot import figure"
   ]
  },
  {
   "cell_type": "code",
   "execution_count": 2,
   "metadata": {},
   "outputs": [],
   "source": [
    "import statsmodels as stats\n",
    "from scipy.stats import f_oneway\n",
    "import statsmodels.api as sm\n",
    "import statsmodels.api as sm\n",
    "from statsmodels.formula.api import ols\n",
    "from statsmodels.stats.multicomp import MultiComparison, pairwise_tukeyhsd"
   ]
  },
  {
   "cell_type": "markdown",
   "metadata": {},
   "source": [
    "#### Setup Cells"
   ]
  },
  {
   "cell_type": "code",
   "execution_count": 3,
   "metadata": {},
   "outputs": [],
   "source": [
    "%matplotlib inline"
   ]
  },
  {
   "cell_type": "code",
   "execution_count": 4,
   "metadata": {},
   "outputs": [
    {
     "name": "stderr",
     "output_type": "stream",
     "text": [
      "/Users/anna.maguza/miniconda3/envs/stats_env/lib/python3.9/site-packages/tqdm/auto.py:21: TqdmWarning: IProgress not found. Please update jupyter and ipywidgets. See https://ipywidgets.readthedocs.io/en/stable/user_install.html\n",
      "  from .autonotebook import tqdm as notebook_tqdm\n"
     ]
    },
    {
     "name": "stdout",
     "output_type": "stream",
     "text": [
      "scanpy==1.9.3 anndata==0.8.0 umap==0.5.3 numpy==1.23.5 scipy==1.10.1 pandas==1.5.3 scikit-learn==1.2.2 statsmodels==0.13.5 pynndescent==0.5.8\n"
     ]
    }
   ],
   "source": [
    "sc.settings.verbosity = 3             # verbosity: errors (0), warnings (1), info (2), hints (3)\n",
    "sc.logging.print_header()\n",
    "sc.settings.set_figure_params(dpi=80, facecolor='white')"
   ]
  },
  {
   "cell_type": "markdown",
   "metadata": {},
   "source": [
    "#### Upload Data"
   ]
  },
  {
   "cell_type": "code",
   "execution_count": 5,
   "metadata": {},
   "outputs": [],
   "source": [
    "input_data = '/Users/anna.maguza/Desktop/Data/COPD_project/Marburg_All_ctl230321_leiden_states.raw.h5ad'\n",
    "output_data = '/Users/anna.maguza/Desktop/Data/COPD_project/Marburg_All_ctl230321_leiden_states_output.h5ad'"
   ]
  },
  {
   "cell_type": "code",
   "execution_count": 6,
   "metadata": {},
   "outputs": [],
   "source": [
    "adata = sc.read_h5ad(input_data)"
   ]
  },
  {
   "cell_type": "markdown",
   "metadata": {},
   "source": [
    "## One-way ANOVA statistical analysis"
   ]
  },
  {
   "cell_type": "code",
   "execution_count": 7,
   "metadata": {},
   "outputs": [],
   "source": [
    "# Get the cell type and condition information\n",
    "obs_df = adata.obs[['group', 'leiden_states']]"
   ]
  },
  {
   "cell_type": "code",
   "execution_count": 8,
   "metadata": {},
   "outputs": [],
   "source": [
    "# Calculate the proprtions of each cell type in each condition\n",
    "cell_types_number = obs_df.groupby('group')['leiden_states'].value_counts().unstack().fillna(0)"
   ]
  },
  {
   "cell_type": "markdown",
   "metadata": {},
   "source": [
    "### ANOVA test for only one cell type (SupraB_0)"
   ]
  },
  {
   "cell_type": "code",
   "execution_count": 17,
   "metadata": {},
   "outputs": [],
   "source": [
    "# Drop everything except the SupraB_0 cells\n",
    "filtered = cell_types_number[['SupraB_0']]\n",
    "\n",
    "# Transpose dataframe\n",
    "filtered = filtered.T"
   ]
  },
  {
   "cell_type": "code",
   "execution_count": 16,
   "metadata": {},
   "outputs": [
    {
     "name": "stdout",
     "output_type": "stream",
     "text": [
      "nan nan\n"
     ]
    },
    {
     "name": "stderr",
     "output_type": "stream",
     "text": [
      "/Users/anna.maguza/miniconda3/envs/stats_env/lib/python3.9/site-packages/scipy/stats/_stats_py.py:3869: DegenerateDataWarning: all input arrays have length 1.  f_oneway requires that at least one input has length greater than 1.\n",
      "  warnings.warn(stats.DegenerateDataWarning(msg))\n"
     ]
    }
   ],
   "source": [
    "import scipy.stats as stats\n",
    "\n",
    "fvalue, pvalue = stats.f_oneway(filtered['healthy_ctrl'], filtered['healthy_iav'], filtered['copd_ctrl'], filtered['copd_iav'])\n",
    "print(fvalue, pvalue)"
   ]
  },
  {
   "cell_type": "markdown",
   "metadata": {},
   "source": [
    "### Anova test for each cell type separately (creating a loop)"
   ]
  },
  {
   "cell_type": "code",
   "execution_count": 18,
   "metadata": {},
   "outputs": [],
   "source": [
    "#Reshape the data frame\n",
    "cell_types_number_flat = cell_types_number.stack().reset_index()\n",
    "cell_types_number_flat.columns = ['index', 'leiden_states', 'value']"
   ]
  },
  {
   "cell_type": "code",
   "execution_count": 19,
   "metadata": {},
   "outputs": [],
   "source": [
    "# Create a list of unique cell types and patient groups\n",
    "cell_types = cell_types_number_flat['leiden_states'].unique()\n",
    "patient_groups = cell_types_number_flat['index'].unique()\n"
   ]
  },
  {
   "cell_type": "code",
   "execution_count": 20,
   "metadata": {},
   "outputs": [
    {
     "name": "stdout",
     "output_type": "stream",
     "text": [
      "SupraB_0: F-statistic = nan, p-value = nan\n",
      "Club_1: F-statistic = nan, p-value = nan\n",
      "Basal_2: F-statistic = nan, p-value = nan\n",
      "Goblet_3: F-statistic = nan, p-value = nan\n",
      "Goblet_4: F-statistic = nan, p-value = nan\n",
      "SupraB_5: F-statistic = nan, p-value = nan\n",
      "SupraB_6: F-statistic = nan, p-value = nan\n",
      "SupraB_7: F-statistic = nan, p-value = nan\n",
      "Goblet_8: F-statistic = nan, p-value = nan\n",
      "Club_9: F-statistic = nan, p-value = nan\n",
      "Club_10: F-statistic = nan, p-value = nan\n",
      "Goblet_11: F-statistic = nan, p-value = nan\n",
      "Goblet_12: F-statistic = nan, p-value = nan\n",
      "Goblet_13: F-statistic = nan, p-value = nan\n",
      "SupraB_14: F-statistic = nan, p-value = nan\n",
      "SupraB_15: F-statistic = nan, p-value = nan\n",
      "Basal_16: F-statistic = nan, p-value = nan\n",
      "MultiC_17: F-statistic = nan, p-value = nan\n",
      "MultiC_18: F-statistic = nan, p-value = nan\n",
      "MultiC_19: F-statistic = nan, p-value = nan\n",
      "Club_20: F-statistic = nan, p-value = nan\n",
      "Goblet_21: F-statistic = nan, p-value = nan\n",
      "Basal_22: F-statistic = nan, p-value = nan\n",
      "Club_23: F-statistic = nan, p-value = nan\n"
     ]
    },
    {
     "name": "stderr",
     "output_type": "stream",
     "text": [
      "/Users/anna.maguza/miniconda3/envs/stats_env/lib/python3.9/site-packages/scipy/stats/_stats_py.py:3869: DegenerateDataWarning: all input arrays have length 1.  f_oneway requires that at least one input has length greater than 1.\n",
      "  warnings.warn(stats.DegenerateDataWarning(msg))\n"
     ]
    }
   ],
   "source": [
    "# Initialize an empty dictionary to store ANOVA results\n",
    "anova_results = {}\n",
    "\n",
    "# Perform one-way ANOVA test for each cell type\n",
    "for cell_type in cell_types:\n",
    "    samples = []\n",
    "    for group in patient_groups:\n",
    "        # Filter data for the current cell type and patient group\n",
    "        filtered_data = cell_types_number_flat[(cell_types_number_flat['index'] == group) & (cell_types_number_flat['leiden_states'] == cell_type)]\n",
    "        \n",
    "        # Append the values for the current group to the samples list\n",
    "        samples.append(filtered_data['value'].values)\n",
    "    \n",
    "    # Perform the one-way ANOVA test and store the result in the dictionary\n",
    "    f_stat, p_value = f_oneway(*samples)\n",
    "    anova_results[cell_type] = (f_stat, p_value)\n",
    "\n",
    "# Print ANOVA results\n",
    "for cell_type, (f_stat, p_value) in anova_results.items():\n",
    "    print(f\"{cell_type}: F-statistic = {f_stat:.4f}, p-value = {p_value:.4e}\")\n"
   ]
  },
  {
   "cell_type": "code",
   "execution_count": 24,
   "metadata": {},
   "outputs": [
    {
     "name": "stdout",
     "output_type": "stream",
     "text": [
      "Tukey HSD test results for cell type: SupraB_0\n",
      "    Multiple Comparison of Means - Tukey HSD, FWER=0.05    \n",
      "===========================================================\n",
      "   group1       group2    meandiff p-adj lower upper reject\n",
      "-----------------------------------------------------------\n",
      "   copd_ctrl     copd_iav  -1406.0   nan   nan   nan  False\n",
      "   copd_ctrl healthy_ctrl  -1575.0   nan   nan   nan  False\n",
      "   copd_ctrl  healthy_iav  -1893.0   nan   nan   nan  False\n",
      "    copd_iav healthy_ctrl   -169.0   nan   nan   nan  False\n",
      "    copd_iav  healthy_iav   -487.0   nan   nan   nan  False\n",
      "healthy_ctrl  healthy_iav   -318.0   nan   nan   nan  False\n",
      "-----------------------------------------------------------\n",
      "\n",
      "\n",
      "Tukey HSD test results for cell type: Club_1\n",
      "    Multiple Comparison of Means - Tukey HSD, FWER=0.05    \n",
      "===========================================================\n",
      "   group1       group2    meandiff p-adj lower upper reject\n",
      "-----------------------------------------------------------\n",
      "   copd_ctrl     copd_iav   -584.0   nan   nan   nan  False\n",
      "   copd_ctrl healthy_ctrl    105.0   nan   nan   nan  False\n",
      "   copd_ctrl  healthy_iav   -755.0   nan   nan   nan  False\n",
      "    copd_iav healthy_ctrl    689.0   nan   nan   nan  False\n",
      "    copd_iav  healthy_iav   -171.0   nan   nan   nan  False\n",
      "healthy_ctrl  healthy_iav   -860.0   nan   nan   nan  False\n",
      "-----------------------------------------------------------\n",
      "\n",
      "\n",
      "Tukey HSD test results for cell type: Basal_2\n",
      "    Multiple Comparison of Means - Tukey HSD, FWER=0.05    \n",
      "===========================================================\n",
      "   group1       group2    meandiff p-adj lower upper reject\n",
      "-----------------------------------------------------------\n",
      "   copd_ctrl     copd_iav   1100.0   nan   nan   nan  False\n",
      "   copd_ctrl healthy_ctrl    466.0   nan   nan   nan  False\n",
      "   copd_ctrl  healthy_iav   1270.0   nan   nan   nan  False\n",
      "    copd_iav healthy_ctrl   -634.0   nan   nan   nan  False\n",
      "    copd_iav  healthy_iav    170.0   nan   nan   nan  False\n",
      "healthy_ctrl  healthy_iav    804.0   nan   nan   nan  False\n",
      "-----------------------------------------------------------\n",
      "\n",
      "\n",
      "Tukey HSD test results for cell type: Goblet_3\n",
      "    Multiple Comparison of Means - Tukey HSD, FWER=0.05    \n",
      "===========================================================\n",
      "   group1       group2    meandiff p-adj lower upper reject\n",
      "-----------------------------------------------------------\n",
      "   copd_ctrl     copd_iav  -1756.0   nan   nan   nan  False\n",
      "   copd_ctrl healthy_ctrl  -2070.0   nan   nan   nan  False\n",
      "   copd_ctrl  healthy_iav  -3166.0   nan   nan   nan  False\n",
      "    copd_iav healthy_ctrl   -314.0   nan   nan   nan  False\n",
      "    copd_iav  healthy_iav  -1410.0   nan   nan   nan  False\n",
      "healthy_ctrl  healthy_iav  -1096.0   nan   nan   nan  False\n",
      "-----------------------------------------------------------\n",
      "\n",
      "\n",
      "Tukey HSD test results for cell type: Goblet_4\n",
      "    Multiple Comparison of Means - Tukey HSD, FWER=0.05    \n",
      "===========================================================\n",
      "   group1       group2    meandiff p-adj lower upper reject\n",
      "-----------------------------------------------------------\n",
      "   copd_ctrl     copd_iav  -1714.0   nan   nan   nan  False\n",
      "   copd_ctrl healthy_ctrl    534.0   nan   nan   nan  False\n",
      "   copd_ctrl  healthy_iav  -1772.0   nan   nan   nan  False\n",
      "    copd_iav healthy_ctrl   2248.0   nan   nan   nan  False\n",
      "    copd_iav  healthy_iav    -58.0   nan   nan   nan  False\n",
      "healthy_ctrl  healthy_iav  -2306.0   nan   nan   nan  False\n",
      "-----------------------------------------------------------\n",
      "\n",
      "\n",
      "Tukey HSD test results for cell type: SupraB_5\n",
      "    Multiple Comparison of Means - Tukey HSD, FWER=0.05    \n",
      "===========================================================\n",
      "   group1       group2    meandiff p-adj lower upper reject\n",
      "-----------------------------------------------------------\n",
      "   copd_ctrl     copd_iav   -246.0   nan   nan   nan  False\n",
      "   copd_ctrl healthy_ctrl   -140.0   nan   nan   nan  False\n",
      "   copd_ctrl  healthy_iav   -360.0   nan   nan   nan  False\n",
      "    copd_iav healthy_ctrl    106.0   nan   nan   nan  False\n",
      "    copd_iav  healthy_iav   -114.0   nan   nan   nan  False\n",
      "healthy_ctrl  healthy_iav   -220.0   nan   nan   nan  False\n",
      "-----------------------------------------------------------\n",
      "\n",
      "\n",
      "Tukey HSD test results for cell type: SupraB_6\n",
      "    Multiple Comparison of Means - Tukey HSD, FWER=0.05    \n",
      "===========================================================\n",
      "   group1       group2    meandiff p-adj lower upper reject\n",
      "-----------------------------------------------------------\n",
      "   copd_ctrl     copd_iav    358.0   nan   nan   nan  False\n",
      "   copd_ctrl healthy_ctrl    511.0   nan   nan   nan  False\n",
      "   copd_ctrl  healthy_iav    947.0   nan   nan   nan  False\n",
      "    copd_iav healthy_ctrl    153.0   nan   nan   nan  False\n",
      "    copd_iav  healthy_iav    589.0   nan   nan   nan  False\n",
      "healthy_ctrl  healthy_iav    436.0   nan   nan   nan  False\n",
      "-----------------------------------------------------------\n",
      "\n",
      "\n",
      "Tukey HSD test results for cell type: SupraB_7\n",
      "    Multiple Comparison of Means - Tukey HSD, FWER=0.05    \n",
      "===========================================================\n",
      "   group1       group2    meandiff p-adj lower upper reject\n",
      "-----------------------------------------------------------\n",
      "   copd_ctrl     copd_iav    290.0   nan   nan   nan  False\n",
      "   copd_ctrl healthy_ctrl    179.0   nan   nan   nan  False\n",
      "   copd_ctrl  healthy_iav    534.0   nan   nan   nan  False\n",
      "    copd_iav healthy_ctrl   -111.0   nan   nan   nan  False\n",
      "    copd_iav  healthy_iav    244.0   nan   nan   nan  False\n",
      "healthy_ctrl  healthy_iav    355.0   nan   nan   nan  False\n",
      "-----------------------------------------------------------\n",
      "\n",
      "\n",
      "Tukey HSD test results for cell type: Goblet_8\n",
      "    Multiple Comparison of Means - Tukey HSD, FWER=0.05    \n",
      "===========================================================\n",
      "   group1       group2    meandiff p-adj lower upper reject\n",
      "-----------------------------------------------------------\n",
      "   copd_ctrl     copd_iav   -251.0   nan   nan   nan  False\n",
      "   copd_ctrl healthy_ctrl   -181.0   nan   nan   nan  False\n",
      "   copd_ctrl  healthy_iav   -136.0   nan   nan   nan  False\n",
      "    copd_iav healthy_ctrl     70.0   nan   nan   nan  False\n",
      "    copd_iav  healthy_iav    115.0   nan   nan   nan  False\n",
      "healthy_ctrl  healthy_iav     45.0   nan   nan   nan  False\n",
      "-----------------------------------------------------------\n",
      "\n",
      "\n",
      "Tukey HSD test results for cell type: Club_9\n",
      "    Multiple Comparison of Means - Tukey HSD, FWER=0.05    \n",
      "===========================================================\n",
      "   group1       group2    meandiff p-adj lower upper reject\n",
      "-----------------------------------------------------------\n",
      "   copd_ctrl     copd_iav   -351.0   nan   nan   nan  False\n",
      "   copd_ctrl healthy_ctrl   -275.0   nan   nan   nan  False\n",
      "   copd_ctrl  healthy_iav   -257.0   nan   nan   nan  False\n",
      "    copd_iav healthy_ctrl     76.0   nan   nan   nan  False\n",
      "    copd_iav  healthy_iav     94.0   nan   nan   nan  False\n",
      "healthy_ctrl  healthy_iav     18.0   nan   nan   nan  False\n",
      "-----------------------------------------------------------\n",
      "\n",
      "\n",
      "Tukey HSD test results for cell type: Club_10\n",
      "    Multiple Comparison of Means - Tukey HSD, FWER=0.05    \n",
      "===========================================================\n",
      "   group1       group2    meandiff p-adj lower upper reject\n",
      "-----------------------------------------------------------\n",
      "   copd_ctrl     copd_iav   -410.0   nan   nan   nan  False\n",
      "   copd_ctrl healthy_ctrl   -145.0   nan   nan   nan  False\n",
      "   copd_ctrl  healthy_iav   -888.0   nan   nan   nan  False\n",
      "    copd_iav healthy_ctrl    265.0   nan   nan   nan  False\n",
      "    copd_iav  healthy_iav   -478.0   nan   nan   nan  False\n",
      "healthy_ctrl  healthy_iav   -743.0   nan   nan   nan  False\n",
      "-----------------------------------------------------------\n",
      "\n",
      "\n",
      "Tukey HSD test results for cell type: Goblet_11\n",
      "    Multiple Comparison of Means - Tukey HSD, FWER=0.05    \n",
      "===========================================================\n",
      "   group1       group2    meandiff p-adj lower upper reject\n",
      "-----------------------------------------------------------\n",
      "   copd_ctrl     copd_iav    140.0   nan   nan   nan  False\n",
      "   copd_ctrl healthy_ctrl    -30.0   nan   nan   nan  False\n",
      "   copd_ctrl  healthy_iav    178.0   nan   nan   nan  False\n",
      "    copd_iav healthy_ctrl   -170.0   nan   nan   nan  False\n",
      "    copd_iav  healthy_iav     38.0   nan   nan   nan  False\n",
      "healthy_ctrl  healthy_iav    208.0   nan   nan   nan  False\n",
      "-----------------------------------------------------------\n",
      "\n",
      "\n",
      "Tukey HSD test results for cell type: Goblet_12\n",
      "    Multiple Comparison of Means - Tukey HSD, FWER=0.05    \n",
      "===========================================================\n",
      "   group1       group2    meandiff p-adj lower upper reject\n",
      "-----------------------------------------------------------\n",
      "   copd_ctrl     copd_iav   2135.0   nan   nan   nan  False\n",
      "   copd_ctrl healthy_ctrl   -192.0   nan   nan   nan  False\n",
      "   copd_ctrl  healthy_iav   1110.0   nan   nan   nan  False\n",
      "    copd_iav healthy_ctrl  -2327.0   nan   nan   nan  False\n",
      "    copd_iav  healthy_iav  -1025.0   nan   nan   nan  False\n",
      "healthy_ctrl  healthy_iav   1302.0   nan   nan   nan  False\n",
      "-----------------------------------------------------------\n",
      "\n",
      "\n",
      "Tukey HSD test results for cell type: Goblet_13\n",
      "    Multiple Comparison of Means - Tukey HSD, FWER=0.05    \n",
      "===========================================================\n",
      "   group1       group2    meandiff p-adj lower upper reject\n",
      "-----------------------------------------------------------\n",
      "   copd_ctrl     copd_iav   -446.0   nan   nan   nan  False\n",
      "   copd_ctrl healthy_ctrl   -218.0   nan   nan   nan  False\n",
      "   copd_ctrl  healthy_iav   -578.0   nan   nan   nan  False\n",
      "    copd_iav healthy_ctrl    228.0   nan   nan   nan  False\n",
      "    copd_iav  healthy_iav   -132.0   nan   nan   nan  False\n",
      "healthy_ctrl  healthy_iav   -360.0   nan   nan   nan  False\n",
      "-----------------------------------------------------------\n",
      "\n",
      "\n",
      "Tukey HSD test results for cell type: SupraB_14\n",
      "    Multiple Comparison of Means - Tukey HSD, FWER=0.05    \n",
      "===========================================================\n",
      "   group1       group2    meandiff p-adj lower upper reject\n",
      "-----------------------------------------------------------\n",
      "   copd_ctrl     copd_iav     56.0   nan   nan   nan  False\n",
      "   copd_ctrl healthy_ctrl    256.0   nan   nan   nan  False\n",
      "   copd_ctrl  healthy_iav    335.0   nan   nan   nan  False\n",
      "    copd_iav healthy_ctrl    200.0   nan   nan   nan  False\n",
      "    copd_iav  healthy_iav    279.0   nan   nan   nan  False\n",
      "healthy_ctrl  healthy_iav     79.0   nan   nan   nan  False\n",
      "-----------------------------------------------------------\n",
      "\n",
      "\n",
      "Tukey HSD test results for cell type: SupraB_15\n",
      "    Multiple Comparison of Means - Tukey HSD, FWER=0.05    \n",
      "===========================================================\n",
      "   group1       group2    meandiff p-adj lower upper reject\n",
      "-----------------------------------------------------------\n",
      "   copd_ctrl     copd_iav      3.0   nan   nan   nan  False\n",
      "   copd_ctrl healthy_ctrl   -326.0   nan   nan   nan  False\n",
      "   copd_ctrl  healthy_iav   -321.0   nan   nan   nan  False\n",
      "    copd_iav healthy_ctrl   -329.0   nan   nan   nan  False\n",
      "    copd_iav  healthy_iav   -324.0   nan   nan   nan  False\n",
      "healthy_ctrl  healthy_iav      5.0   nan   nan   nan  False\n",
      "-----------------------------------------------------------\n",
      "\n",
      "\n",
      "Tukey HSD test results for cell type: Basal_16\n",
      "    Multiple Comparison of Means - Tukey HSD, FWER=0.05    \n",
      "===========================================================\n",
      "   group1       group2    meandiff p-adj lower upper reject\n",
      "-----------------------------------------------------------\n",
      "   copd_ctrl     copd_iav    279.0   nan   nan   nan  False\n",
      "   copd_ctrl healthy_ctrl   -161.0   nan   nan   nan  False\n",
      "   copd_ctrl  healthy_iav    235.0   nan   nan   nan  False\n",
      "    copd_iav healthy_ctrl   -440.0   nan   nan   nan  False\n",
      "    copd_iav  healthy_iav    -44.0   nan   nan   nan  False\n",
      "healthy_ctrl  healthy_iav    396.0   nan   nan   nan  False\n",
      "-----------------------------------------------------------\n",
      "\n",
      "\n",
      "Tukey HSD test results for cell type: MultiC_17\n",
      "    Multiple Comparison of Means - Tukey HSD, FWER=0.05    \n",
      "===========================================================\n",
      "   group1       group2    meandiff p-adj lower upper reject\n",
      "-----------------------------------------------------------\n",
      "   copd_ctrl     copd_iav     41.0   nan   nan   nan  False\n",
      "   copd_ctrl healthy_ctrl    451.0   nan   nan   nan  False\n",
      "   copd_ctrl  healthy_iav    389.0   nan   nan   nan  False\n",
      "    copd_iav healthy_ctrl    410.0   nan   nan   nan  False\n",
      "    copd_iav  healthy_iav    348.0   nan   nan   nan  False\n",
      "healthy_ctrl  healthy_iav    -62.0   nan   nan   nan  False\n",
      "-----------------------------------------------------------\n",
      "\n",
      "\n",
      "Tukey HSD test results for cell type: MultiC_18\n",
      "    Multiple Comparison of Means - Tukey HSD, FWER=0.05    \n",
      "===========================================================\n",
      "   group1       group2    meandiff p-adj lower upper reject\n",
      "-----------------------------------------------------------\n",
      "   copd_ctrl     copd_iav    180.0   nan   nan   nan  False\n",
      "   copd_ctrl healthy_ctrl    311.0   nan   nan   nan  False\n",
      "   copd_ctrl  healthy_iav    376.0   nan   nan   nan  False\n",
      "    copd_iav healthy_ctrl    131.0   nan   nan   nan  False\n",
      "    copd_iav  healthy_iav    196.0   nan   nan   nan  False\n",
      "healthy_ctrl  healthy_iav     65.0   nan   nan   nan  False\n",
      "-----------------------------------------------------------\n",
      "\n",
      "\n",
      "Tukey HSD test results for cell type: MultiC_19\n",
      "    Multiple Comparison of Means - Tukey HSD, FWER=0.05    \n",
      "===========================================================\n",
      "   group1       group2    meandiff p-adj lower upper reject\n",
      "-----------------------------------------------------------\n",
      "   copd_ctrl     copd_iav     -8.0   nan   nan   nan  False\n",
      "   copd_ctrl healthy_ctrl    220.0   nan   nan   nan  False\n",
      "   copd_ctrl  healthy_iav    282.0   nan   nan   nan  False\n",
      "    copd_iav healthy_ctrl    228.0   nan   nan   nan  False\n",
      "    copd_iav  healthy_iav    290.0   nan   nan   nan  False\n",
      "healthy_ctrl  healthy_iav     62.0   nan   nan   nan  False\n",
      "-----------------------------------------------------------\n",
      "\n",
      "\n",
      "Tukey HSD test results for cell type: Club_20\n",
      "    Multiple Comparison of Means - Tukey HSD, FWER=0.05    \n",
      "===========================================================\n",
      "   group1       group2    meandiff p-adj lower upper reject\n",
      "-----------------------------------------------------------\n",
      "   copd_ctrl     copd_iav    -80.0   nan   nan   nan  False\n",
      "   copd_ctrl healthy_ctrl    -67.0   nan   nan   nan  False\n",
      "   copd_ctrl  healthy_iav    -67.0   nan   nan   nan  False\n",
      "    copd_iav healthy_ctrl     13.0   nan   nan   nan  False\n",
      "    copd_iav  healthy_iav     13.0   nan   nan   nan  False\n",
      "healthy_ctrl  healthy_iav      0.0   nan   nan   nan  False\n",
      "-----------------------------------------------------------\n",
      "\n",
      "\n",
      "Tukey HSD test results for cell type: Goblet_21\n",
      "    Multiple Comparison of Means - Tukey HSD, FWER=0.05    \n",
      "===========================================================\n",
      "   group1       group2    meandiff p-adj lower upper reject\n",
      "-----------------------------------------------------------\n",
      "   copd_ctrl     copd_iav    720.0   nan   nan   nan  False\n",
      "   copd_ctrl healthy_ctrl    -33.0   nan   nan   nan  False\n",
      "   copd_ctrl  healthy_iav    549.0   nan   nan   nan  False\n",
      "    copd_iav healthy_ctrl   -753.0   nan   nan   nan  False\n",
      "    copd_iav  healthy_iav   -171.0   nan   nan   nan  False\n",
      "healthy_ctrl  healthy_iav    582.0   nan   nan   nan  False\n",
      "-----------------------------------------------------------\n",
      "\n",
      "\n",
      "Tukey HSD test results for cell type: Basal_22\n",
      "    Multiple Comparison of Means - Tukey HSD, FWER=0.05    \n",
      "===========================================================\n",
      "   group1       group2    meandiff p-adj lower upper reject\n",
      "-----------------------------------------------------------\n",
      "   copd_ctrl     copd_iav    509.0   nan   nan   nan  False\n",
      "   copd_ctrl healthy_ctrl    -22.0   nan   nan   nan  False\n",
      "   copd_ctrl  healthy_iav    563.0   nan   nan   nan  False\n",
      "    copd_iav healthy_ctrl   -531.0   nan   nan   nan  False\n",
      "    copd_iav  healthy_iav     54.0   nan   nan   nan  False\n",
      "healthy_ctrl  healthy_iav    585.0   nan   nan   nan  False\n",
      "-----------------------------------------------------------\n",
      "\n",
      "\n",
      "Tukey HSD test results for cell type: Club_23\n",
      "    Multiple Comparison of Means - Tukey HSD, FWER=0.05    \n",
      "===========================================================\n",
      "   group1       group2    meandiff p-adj lower upper reject\n",
      "-----------------------------------------------------------\n",
      "   copd_ctrl     copd_iav    -11.0   nan   nan   nan  False\n",
      "   copd_ctrl healthy_ctrl    -32.0   nan   nan   nan  False\n",
      "   copd_ctrl  healthy_iav    -23.0   nan   nan   nan  False\n",
      "    copd_iav healthy_ctrl    -21.0   nan   nan   nan  False\n",
      "    copd_iav  healthy_iav    -12.0   nan   nan   nan  False\n",
      "healthy_ctrl  healthy_iav      9.0   nan   nan   nan  False\n",
      "-----------------------------------------------------------\n",
      "\n",
      "\n"
     ]
    },
    {
     "name": "stderr",
     "output_type": "stream",
     "text": [
      "/Users/anna.maguza/miniconda3/envs/stats_env/lib/python3.9/site-packages/numpy/core/fromnumeric.py:3715: RuntimeWarning: Degrees of freedom <= 0 for slice\n",
      "  return _methods._var(a, axis=axis, dtype=dtype, out=out, ddof=ddof,\n",
      "/Users/anna.maguza/miniconda3/envs/stats_env/lib/python3.9/site-packages/numpy/core/_methods.py:257: RuntimeWarning: invalid value encountered in double_scalars\n",
      "  ret = ret.dtype.type(ret / rcount)\n"
     ]
    }
   ],
   "source": [
    "from statsmodels.stats.multicomp import MultiComparison\n",
    "\n",
    "# Create a list of unique cell types\n",
    "cell_types = cell_types_number_flat['leiden_states'].unique()\n",
    "\n",
    "# Initialize an empty dictionary to store Tukey HSD results\n",
    "tukey_hsd_results = {}\n",
    "\n",
    "# Perform Tukey HSD test for each cell type\n",
    "for cell_type in cell_types:\n",
    "    # Filter data for the current cell type\n",
    "    filtered_data = cell_types_number_flat[cell_types_number_flat['leiden_states'] == cell_type]\n",
    "\n",
    "    # Perform the Tukey HSD test\n",
    "    mc = MultiComparison(filtered_data['value'], filtered_data['index'])\n",
    "    result = mc.tukeyhsd()\n",
    "    \n",
    "    # Store the result in the dictionary\n",
    "    tukey_hsd_results[cell_type] = result\n",
    "\n",
    "# Print Tukey HSD results\n",
    "for cell_type, result in tukey_hsd_results.items():\n",
    "    print(f\"Tukey HSD test results for cell type: {cell_type}\")\n",
    "    print(result)\n",
    "    print('\\n')\n"
   ]
  },
  {
   "cell_type": "code",
   "execution_count": 27,
   "metadata": {},
   "outputs": [],
   "source": [
    "# Write results to a file \n",
    "with open(r\"/Users/anna.maguza/Desktop/Data/COPD_project\\Tukey_HSD_test_results.txt\", \"w+\") as f:\n",
    "    for cell_type, result in tukey_hsd_results.items():\n",
    "        f.write(f\"Tukey HSD test results for cell type: {cell_type} \\n\")\n",
    "        f.write(f\"{result} \\n\")\n",
    "        f.write('\\n')\n",
    "        "
   ]
  }
 ],
 "metadata": {
  "kernelspec": {
   "display_name": "Python 3.9.16 ('stats_env')",
   "language": "python",
   "name": "python3"
  },
  "language_info": {
   "codemirror_mode": {
    "name": "ipython",
    "version": 3
   },
   "file_extension": ".py",
   "mimetype": "text/x-python",
   "name": "python",
   "nbconvert_exporter": "python",
   "pygments_lexer": "ipython3",
   "version": "3.9.16"
  },
  "orig_nbformat": 4,
  "vscode": {
   "interpreter": {
    "hash": "1b007543425fbd789558df8d25e046a6708c150814cbb6ba942aef0e52552a4b"
   }
  }
 },
 "nbformat": 4,
 "nbformat_minor": 2
}
