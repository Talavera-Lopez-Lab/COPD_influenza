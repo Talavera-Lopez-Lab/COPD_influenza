{
 "cells": [
  {
   "cell_type": "markdown",
   "metadata": {},
   "source": [
    "### Notebook for the inference of cell-cell communications on Healthy-CTRL data using `LIANA+`\n",
    "\n",
    "- **Developed by**: Carlos Talavera-López\n",
    "- **Würzburg Institute for Systems Immunology, Faculty of Medicine, Julius-Maximilian-Universität Würzburg**\n",
    "- **Created**: 231109\n",
    "- **Latest version**: 240508"
   ]
  },
  {
   "cell_type": "markdown",
   "metadata": {},
   "source": [
    "### Import required modules"
   ]
  },
  {
   "cell_type": "code",
   "execution_count": 1,
   "metadata": {},
   "outputs": [],
   "source": [
    "import anndata\n",
    "import numpy as np\n",
    "import liana as li\n",
    "import pandas as pd\n",
    "import scanpy as sc\n",
    "\n",
    "from liana.mt import rank_aggregate\n",
    "from liana.method import singlecellsignalr, connectome, cellphonedb, natmi, logfc, cellchat, geometric_mean"
   ]
  },
  {
   "cell_type": "markdown",
   "metadata": {},
   "source": [
    "### Set up working environment"
   ]
  },
  {
   "cell_type": "code",
   "execution_count": 2,
   "metadata": {},
   "outputs": [
    {
     "name": "stdout",
     "output_type": "stream",
     "text": [
      "-----\n",
      "anndata     0.10.3\n",
      "scanpy      1.9.6\n",
      "-----\n",
      "PIL                 10.1.0\n",
      "appnope             0.1.3\n",
      "asttokens           NA\n",
      "comm                0.2.0\n",
      "cycler              0.12.1\n",
      "cython_runtime      NA\n",
      "dateutil            2.8.2\n",
      "debugpy             1.8.0\n",
      "decorator           5.1.1\n",
      "exceptiongroup      1.1.3\n",
      "executing           2.0.1\n",
      "h5py                3.10.0\n",
      "ipykernel           6.26.0\n",
      "ipywidgets          8.1.1\n",
      "jedi                0.19.1\n",
      "joblib              1.3.2\n",
      "kiwisolver          1.4.5\n",
      "liana               1.0.2\n",
      "llvmlite            0.41.1\n",
      "matplotlib          3.8.1\n",
      "mizani              0.9.3\n",
      "mpl_toolkits        NA\n",
      "mudata              0.2.3\n",
      "natsort             8.4.0\n",
      "numba               0.58.1\n",
      "numpy               1.26.1\n",
      "packaging           23.2\n",
      "pandas              2.1.1\n",
      "parso               0.8.3\n",
      "patsy               0.5.3\n",
      "pexpect             4.8.0\n",
      "platformdirs        3.11.0\n",
      "plotnine            0.12.4\n",
      "prompt_toolkit      3.0.39\n",
      "psutil              5.9.6\n",
      "ptyprocess          0.7.0\n",
      "pure_eval           0.2.2\n",
      "pydev_ipython       NA\n",
      "pydevconsole        NA\n",
      "pydevd              2.9.5\n",
      "pydevd_file_utils   NA\n",
      "pydevd_plugins      NA\n",
      "pydevd_tracing      NA\n",
      "pygments            2.16.1\n",
      "pyparsing           3.1.1\n",
      "pytz                2023.3.post1\n",
      "scipy               1.11.3\n",
      "session_info        1.0.0\n",
      "six                 1.16.0\n",
      "sklearn             1.3.2\n",
      "stack_data          0.6.3\n",
      "statsmodels         0.14.0\n",
      "threadpoolctl       3.2.0\n",
      "tornado             6.3.3\n",
      "tqdm                4.66.1\n",
      "traitlets           5.13.0\n",
      "vscode              NA\n",
      "wcwidth             0.2.9\n",
      "zmq                 25.1.1\n",
      "zoneinfo            NA\n",
      "-----\n",
      "IPython             8.17.2\n",
      "jupyter_client      8.6.0\n",
      "jupyter_core        5.5.0\n",
      "-----\n",
      "Python 3.10.13 | packaged by conda-forge | (main, Oct 26 2023, 18:09:17) [Clang 16.0.6 ]\n",
      "macOS-14.4.1-arm64-arm-64bit\n",
      "-----\n",
      "Session information updated at 2024-05-08 10:40\n"
     ]
    }
   ],
   "source": [
    "sc.settings.verbosity = 3\n",
    "sc.logging.print_versions()\n",
    "sc.settings.set_figure_params(dpi = 180, color_map = 'magma_r', dpi_save = 300, vector_friendly = True, format = 'svg')"
   ]
  },
  {
   "cell_type": "markdown",
   "metadata": {},
   "source": [
    "### Read in data"
   ]
  },
  {
   "cell_type": "code",
   "execution_count": 3,
   "metadata": {},
   "outputs": [
    {
     "data": {
      "text/plain": [
       "AnnData object with n_obs × n_vars = 97573 × 27208\n",
       "    obs: 'sex', 'age', 'ethnicity', 'PaCO2', 'donor', 'infection', 'disease', 'SMK', 'illumina_stimunr', 'bd_rhapsody', 'n_genes', 'doublet_scores', 'predicted_doublets', 'batch', 'n_genes_by_counts', 'total_counts', 'total_counts_mt', 'pct_counts_mt', 'total_counts_ribo', 'pct_counts_ribo', 'percent_mt2', 'n_counts', 'percent_chrY', 'XIST-counts', 'S_score', 'G2M_score', 'condition', 'sample_group', 'IAV_score', 'group', 'Viral_score', 'cell_type', 'cell_states', 'leiden', 'cell_compartment', '_scvi_batch', '_scvi_labels', 'C_scANVI', 'viral_counts', 'infected_status'\n",
       "    var: 'mt', 'ribo'\n",
       "    uns: 'cell_states_colors', 'disease_colors', 'group_colors', 'infected_status_colors', 'infection_colors'\n",
       "    obsm: 'X_scANVI', 'X_scVI', 'X_umap'"
      ]
     },
     "execution_count": 3,
     "metadata": {},
     "output_type": "execute_result"
    }
   ],
   "source": [
    "adata_all = sc.read_h5ad('../../../data/Marburg_cell_states_locked_ctl231212.raw.h5ad') \n",
    "adata_all"
   ]
  },
  {
   "cell_type": "markdown",
   "metadata": {},
   "source": [
    "### Subset conditions"
   ]
  },
  {
   "cell_type": "code",
   "execution_count": 4,
   "metadata": {},
   "outputs": [
    {
     "data": {
      "text/plain": [
       "View of AnnData object with n_obs × n_vars = 23667 × 27208\n",
       "    obs: 'sex', 'age', 'ethnicity', 'PaCO2', 'donor', 'infection', 'disease', 'SMK', 'illumina_stimunr', 'bd_rhapsody', 'n_genes', 'doublet_scores', 'predicted_doublets', 'batch', 'n_genes_by_counts', 'total_counts', 'total_counts_mt', 'pct_counts_mt', 'total_counts_ribo', 'pct_counts_ribo', 'percent_mt2', 'n_counts', 'percent_chrY', 'XIST-counts', 'S_score', 'G2M_score', 'condition', 'sample_group', 'IAV_score', 'group', 'Viral_score', 'cell_type', 'cell_states', 'leiden', 'cell_compartment', '_scvi_batch', '_scvi_labels', 'C_scANVI', 'viral_counts', 'infected_status'\n",
       "    var: 'mt', 'ribo'\n",
       "    uns: 'cell_states_colors', 'disease_colors', 'group_colors', 'infected_status_colors', 'infection_colors'\n",
       "    obsm: 'X_scANVI', 'X_scVI', 'X_umap'"
      ]
     },
     "execution_count": 4,
     "metadata": {},
     "output_type": "execute_result"
    }
   ],
   "source": [
    "adata = adata_all[adata_all.obs['group'].isin(['healthy_ctrl'])]\n",
    "adata"
   ]
  },
  {
   "cell_type": "markdown",
   "metadata": {},
   "source": [
    "### Check `LIANA+` available methods"
   ]
  },
  {
   "cell_type": "code",
   "execution_count": 5,
   "metadata": {},
   "outputs": [
    {
     "data": {
      "text/html": [
       "<div>\n",
       "<style scoped>\n",
       "    .dataframe tbody tr th:only-of-type {\n",
       "        vertical-align: middle;\n",
       "    }\n",
       "\n",
       "    .dataframe tbody tr th {\n",
       "        vertical-align: top;\n",
       "    }\n",
       "\n",
       "    .dataframe thead th {\n",
       "        text-align: right;\n",
       "    }\n",
       "</style>\n",
       "<table border=\"1\" class=\"dataframe\">\n",
       "  <thead>\n",
       "    <tr style=\"text-align: right;\">\n",
       "      <th></th>\n",
       "      <th>Method Name</th>\n",
       "      <th>Magnitude Score</th>\n",
       "      <th>Specificity Score</th>\n",
       "      <th>Reference</th>\n",
       "    </tr>\n",
       "  </thead>\n",
       "  <tbody>\n",
       "    <tr>\n",
       "      <th>0</th>\n",
       "      <td>CellPhoneDB</td>\n",
       "      <td>lr_means</td>\n",
       "      <td>cellphone_pvals</td>\n",
       "      <td>Efremova, M., Vento-Tormo, M., Teichmann, S.A....</td>\n",
       "    </tr>\n",
       "    <tr>\n",
       "      <th>0</th>\n",
       "      <td>Connectome</td>\n",
       "      <td>expr_prod</td>\n",
       "      <td>scaled_weight</td>\n",
       "      <td>Raredon, M.S.B., Yang, J., Garritano, J., Wang...</td>\n",
       "    </tr>\n",
       "    <tr>\n",
       "      <th>0</th>\n",
       "      <td>log2FC</td>\n",
       "      <td>None</td>\n",
       "      <td>lr_logfc</td>\n",
       "      <td>Dimitrov, D., Türei, D., Garrido-Rodriguez, M....</td>\n",
       "    </tr>\n",
       "    <tr>\n",
       "      <th>0</th>\n",
       "      <td>NATMI</td>\n",
       "      <td>expr_prod</td>\n",
       "      <td>spec_weight</td>\n",
       "      <td>Hou, R., Denisenko, E., Ong, H.T., Ramilowski,...</td>\n",
       "    </tr>\n",
       "    <tr>\n",
       "      <th>0</th>\n",
       "      <td>SingleCellSignalR</td>\n",
       "      <td>lrscore</td>\n",
       "      <td>None</td>\n",
       "      <td>Cabello-Aguilar, S., Alame, M., Kon-Sun-Tack, ...</td>\n",
       "    </tr>\n",
       "    <tr>\n",
       "      <th>0</th>\n",
       "      <td>CellChat</td>\n",
       "      <td>lr_probs</td>\n",
       "      <td>cellchat_pvals</td>\n",
       "      <td>Jin, S., Guerrero-Juarez, C.F., Zhang, L., Cha...</td>\n",
       "    </tr>\n",
       "    <tr>\n",
       "      <th>0</th>\n",
       "      <td>Rank_Aggregate</td>\n",
       "      <td>magnitude_rank</td>\n",
       "      <td>specificity_rank</td>\n",
       "      <td>Dimitrov, D., Türei, D., Garrido-Rodriguez, M....</td>\n",
       "    </tr>\n",
       "    <tr>\n",
       "      <th>0</th>\n",
       "      <td>Geometric Mean</td>\n",
       "      <td>lr_gmeans</td>\n",
       "      <td>gmean_pvals</td>\n",
       "      <td>CellPhoneDBv2's permutation approach applied t...</td>\n",
       "    </tr>\n",
       "  </tbody>\n",
       "</table>\n",
       "</div>"
      ],
      "text/plain": [
       "         Method Name Magnitude Score Specificity Score  \\\n",
       "0        CellPhoneDB        lr_means   cellphone_pvals   \n",
       "0         Connectome       expr_prod     scaled_weight   \n",
       "0             log2FC            None          lr_logfc   \n",
       "0              NATMI       expr_prod       spec_weight   \n",
       "0  SingleCellSignalR         lrscore              None   \n",
       "0           CellChat        lr_probs    cellchat_pvals   \n",
       "0     Rank_Aggregate  magnitude_rank  specificity_rank   \n",
       "0     Geometric Mean       lr_gmeans       gmean_pvals   \n",
       "\n",
       "                                           Reference  \n",
       "0  Efremova, M., Vento-Tormo, M., Teichmann, S.A....  \n",
       "0  Raredon, M.S.B., Yang, J., Garritano, J., Wang...  \n",
       "0  Dimitrov, D., Türei, D., Garrido-Rodriguez, M....  \n",
       "0  Hou, R., Denisenko, E., Ong, H.T., Ramilowski,...  \n",
       "0  Cabello-Aguilar, S., Alame, M., Kon-Sun-Tack, ...  \n",
       "0  Jin, S., Guerrero-Juarez, C.F., Zhang, L., Cha...  \n",
       "0  Dimitrov, D., Türei, D., Garrido-Rodriguez, M....  \n",
       "0  CellPhoneDBv2's permutation approach applied t...  "
      ]
     },
     "execution_count": 5,
     "metadata": {},
     "output_type": "execute_result"
    }
   ],
   "source": [
    "li.mt.show_methods()"
   ]
  },
  {
   "cell_type": "markdown",
   "metadata": {},
   "source": [
    "### Run aggregated estimate "
   ]
  },
  {
   "cell_type": "code",
   "execution_count": 6,
   "metadata": {},
   "outputs": [
    {
     "name": "stderr",
     "output_type": "stream",
     "text": [
      "Using `.X`!\n",
      "/Users/cartalop/mambaforge/envs/liana+/lib/python3.10/site-packages/anndata/_core/anndata.py:522: FutureWarning: The dtype argument is deprecated and will be removed in late 2024.\n",
      "120 features of mat are empty, they will be removed.\n",
      "Make sure that normalized counts are passed!\n",
      "/Users/cartalop/mambaforge/envs/liana+/lib/python3.10/site-packages/pandas/core/indexing.py:1819: ImplicitModificationWarning: Trying to modify attribute `.obs` of view, initializing view as actual.\n",
      "/Users/cartalop/mambaforge/envs/liana+/lib/python3.10/site-packages/liana/method/_pipe_utils/_pre.py:144: FutureWarning: The default of observed=False is deprecated and will be changed to True in a future version of pandas. Pass observed=False to retain current behavior or observed=True to adopt the future default and silence this warning.\n",
      "The following cell identities were excluded: OASiav_Ciliated, SCGB1+KRT5-FOXA1+iav_Club, iav-lip_Club, ifn_Basal, ifn_Goblet\n",
      "['NC_026431.1', 'NC_026432.1', 'NC_026433.1', 'NC_026434.1', 'NC_026435.1', 'NC_026436.1', 'NC_026437.1', 'NC_026438.1'] contain `_`. Consider replacing those!\n",
      "Using resource `consensus`.\n",
      "0.09 of entities in the resource are missing from the data.\n"
     ]
    },
    {
     "name": "stdout",
     "output_type": "stream",
     "text": [
      "Generating ligand-receptor stats for 23650 samples and 27088 features\n",
      "... as `zero_center=True`, sparse input is densified and may lead to large memory consumption\n"
     ]
    },
    {
     "name": "stderr",
     "output_type": "stream",
     "text": [
      "/Users/cartalop/mambaforge/envs/liana+/lib/python3.10/site-packages/liana/method/sc/_liana_pipe.py:283: ImplicitModificationWarning: Setting element `.layers['scaled']` of view, initializing view as actual.\n"
     ]
    },
    {
     "name": "stdout",
     "output_type": "stream",
     "text": [
      "Assuming that counts were `natural` log-normalized!\n"
     ]
    },
    {
     "name": "stderr",
     "output_type": "stream",
     "text": [
      "/Users/cartalop/mambaforge/envs/liana+/lib/python3.10/site-packages/liana/method/sc/_liana_pipe.py:413: RuntimeWarning: overflow encountered in power\n",
      "/Users/cartalop/mambaforge/envs/liana+/lib/python3.10/site-packages/liana/method/sc/_liana_pipe.py:406: RuntimeWarning: invalid value encountered in subtract\n",
      "/Users/cartalop/mambaforge/envs/liana+/lib/python3.10/site-packages/liana/method/sc/_liana_pipe.py:406: RuntimeWarning: invalid value encountered in subtract\n",
      "/Users/cartalop/mambaforge/envs/liana+/lib/python3.10/site-packages/liana/method/sc/_liana_pipe.py:406: RuntimeWarning: invalid value encountered in subtract\n",
      "/Users/cartalop/mambaforge/envs/liana+/lib/python3.10/site-packages/liana/method/sc/_liana_pipe.py:406: RuntimeWarning: invalid value encountered in subtract\n",
      "/Users/cartalop/mambaforge/envs/liana+/lib/python3.10/site-packages/liana/method/sc/_liana_pipe.py:406: RuntimeWarning: invalid value encountered in subtract\n",
      "/Users/cartalop/mambaforge/envs/liana+/lib/python3.10/site-packages/liana/method/sc/_liana_pipe.py:406: RuntimeWarning: invalid value encountered in subtract\n",
      "/Users/cartalop/mambaforge/envs/liana+/lib/python3.10/site-packages/liana/method/sc/_liana_pipe.py:406: RuntimeWarning: invalid value encountered in subtract\n",
      "/Users/cartalop/mambaforge/envs/liana+/lib/python3.10/site-packages/liana/method/sc/_liana_pipe.py:406: RuntimeWarning: invalid value encountered in subtract\n",
      "/Users/cartalop/mambaforge/envs/liana+/lib/python3.10/site-packages/liana/method/sc/_liana_pipe.py:406: RuntimeWarning: invalid value encountered in subtract\n",
      "/Users/cartalop/mambaforge/envs/liana+/lib/python3.10/site-packages/liana/method/sc/_liana_pipe.py:406: RuntimeWarning: invalid value encountered in subtract\n",
      "/Users/cartalop/mambaforge/envs/liana+/lib/python3.10/site-packages/liana/method/sc/_liana_pipe.py:406: RuntimeWarning: invalid value encountered in subtract\n",
      "/Users/cartalop/mambaforge/envs/liana+/lib/python3.10/site-packages/liana/method/sc/_liana_pipe.py:406: RuntimeWarning: invalid value encountered in subtract\n",
      "/Users/cartalop/mambaforge/envs/liana+/lib/python3.10/site-packages/liana/method/sc/_liana_pipe.py:406: RuntimeWarning: invalid value encountered in subtract\n",
      "/Users/cartalop/mambaforge/envs/liana+/lib/python3.10/site-packages/liana/method/sc/_liana_pipe.py:406: RuntimeWarning: invalid value encountered in subtract\n",
      "/Users/cartalop/mambaforge/envs/liana+/lib/python3.10/site-packages/liana/method/sc/_liana_pipe.py:406: RuntimeWarning: invalid value encountered in subtract\n",
      "/Users/cartalop/mambaforge/envs/liana+/lib/python3.10/site-packages/liana/method/sc/_liana_pipe.py:406: RuntimeWarning: invalid value encountered in subtract\n",
      "/Users/cartalop/mambaforge/envs/liana+/lib/python3.10/site-packages/liana/method/sc/_liana_pipe.py:406: RuntimeWarning: invalid value encountered in subtract\n",
      "/Users/cartalop/mambaforge/envs/liana+/lib/python3.10/site-packages/liana/method/sc/_liana_pipe.py:406: RuntimeWarning: invalid value encountered in subtract\n",
      "/Users/cartalop/mambaforge/envs/liana+/lib/python3.10/site-packages/liana/method/sc/_liana_pipe.py:406: RuntimeWarning: invalid value encountered in subtract\n",
      "/Users/cartalop/mambaforge/envs/liana+/lib/python3.10/site-packages/liana/method/sc/_liana_pipe.py:406: RuntimeWarning: invalid value encountered in subtract\n",
      "/Users/cartalop/mambaforge/envs/liana+/lib/python3.10/site-packages/liana/method/sc/_liana_pipe.py:406: RuntimeWarning: invalid value encountered in subtract\n",
      "/Users/cartalop/mambaforge/envs/liana+/lib/python3.10/site-packages/liana/method/sc/_liana_pipe.py:406: RuntimeWarning: invalid value encountered in subtract\n",
      "/Users/cartalop/mambaforge/envs/liana+/lib/python3.10/site-packages/liana/method/sc/_liana_pipe.py:406: RuntimeWarning: invalid value encountered in subtract\n",
      "/Users/cartalop/mambaforge/envs/liana+/lib/python3.10/site-packages/liana/method/sc/_liana_pipe.py:406: RuntimeWarning: invalid value encountered in subtract\n",
      "/Users/cartalop/mambaforge/envs/liana+/lib/python3.10/site-packages/liana/method/sc/_liana_pipe.py:406: RuntimeWarning: invalid value encountered in subtract\n",
      "/Users/cartalop/mambaforge/envs/liana+/lib/python3.10/site-packages/liana/method/sc/_liana_pipe.py:406: RuntimeWarning: invalid value encountered in subtract\n",
      "/Users/cartalop/mambaforge/envs/liana+/lib/python3.10/site-packages/liana/method/sc/_liana_pipe.py:406: RuntimeWarning: invalid value encountered in subtract\n",
      "/Users/cartalop/mambaforge/envs/liana+/lib/python3.10/site-packages/liana/method/sc/_liana_pipe.py:406: RuntimeWarning: invalid value encountered in subtract\n",
      "/Users/cartalop/mambaforge/envs/liana+/lib/python3.10/site-packages/liana/method/sc/_liana_pipe.py:406: RuntimeWarning: invalid value encountered in subtract\n",
      "/Users/cartalop/mambaforge/envs/liana+/lib/python3.10/site-packages/liana/method/sc/_liana_pipe.py:406: RuntimeWarning: invalid value encountered in subtract\n"
     ]
    },
    {
     "name": "stdout",
     "output_type": "stream",
     "text": [
      "Running CellPhoneDB\n"
     ]
    },
    {
     "name": "stderr",
     "output_type": "stream",
     "text": [
      "100%|██████████| 1000/1000 [01:21<00:00, 12.29it/s]\n"
     ]
    },
    {
     "name": "stdout",
     "output_type": "stream",
     "text": [
      "Running Connectome\n",
      "Running log2FC\n"
     ]
    },
    {
     "name": "stderr",
     "output_type": "stream",
     "text": [
      "/Users/cartalop/mambaforge/envs/liana+/lib/python3.10/site-packages/numpy/core/_methods.py:118: RuntimeWarning: invalid value encountered in reduce\n"
     ]
    },
    {
     "name": "stdout",
     "output_type": "stream",
     "text": [
      "Running NATMI\n",
      "Running SingleCellSignalR\n",
      "Running CellChat\n"
     ]
    },
    {
     "name": "stderr",
     "output_type": "stream",
     "text": [
      "100%|██████████| 1000/1000 [11:49<00:00,  1.41it/s]\n",
      "/Users/cartalop/mambaforge/envs/liana+/lib/python3.10/site-packages/liana/method/sc/_rank_aggregate.py:164: ImplicitModificationWarning: Trying to modify attribute `._uns` of view, initializing view as actual.\n"
     ]
    },
    {
     "data": {
      "text/html": [
       "<div>\n",
       "<style scoped>\n",
       "    .dataframe tbody tr th:only-of-type {\n",
       "        vertical-align: middle;\n",
       "    }\n",
       "\n",
       "    .dataframe tbody tr th {\n",
       "        vertical-align: top;\n",
       "    }\n",
       "\n",
       "    .dataframe thead th {\n",
       "        text-align: right;\n",
       "    }\n",
       "</style>\n",
       "<table border=\"1\" class=\"dataframe\">\n",
       "  <thead>\n",
       "    <tr style=\"text-align: right;\">\n",
       "      <th></th>\n",
       "      <th>source</th>\n",
       "      <th>target</th>\n",
       "      <th>ligand_complex</th>\n",
       "      <th>receptor_complex</th>\n",
       "      <th>lr_means</th>\n",
       "      <th>cellphone_pvals</th>\n",
       "      <th>expr_prod</th>\n",
       "      <th>scaled_weight</th>\n",
       "      <th>lr_logfc</th>\n",
       "      <th>spec_weight</th>\n",
       "      <th>lrscore</th>\n",
       "      <th>lr_probs</th>\n",
       "      <th>cellchat_pvals</th>\n",
       "      <th>specificity_rank</th>\n",
       "      <th>magnitude_rank</th>\n",
       "    </tr>\n",
       "  </thead>\n",
       "  <tbody>\n",
       "    <tr>\n",
       "      <th>269278</th>\n",
       "      <td>mixed_Goblet2</td>\n",
       "      <td>MHCII+Club</td>\n",
       "      <td>SLPI</td>\n",
       "      <td>PLSCR1</td>\n",
       "      <td>782.273499</td>\n",
       "      <td>0.0</td>\n",
       "      <td>28474.570312</td>\n",
       "      <td>2.449424</td>\n",
       "      <td>NaN</td>\n",
       "      <td>0.013771</td>\n",
       "      <td>0.991049</td>\n",
       "      <td>0.000451</td>\n",
       "      <td>0.0</td>\n",
       "      <td>NaN</td>\n",
       "      <td>1.408636e-16</td>\n",
       "    </tr>\n",
       "    <tr>\n",
       "      <th>103885</th>\n",
       "      <td>mixed_Goblet2</td>\n",
       "      <td>DHRS9+Club</td>\n",
       "      <td>SLPI</td>\n",
       "      <td>PLSCR1</td>\n",
       "      <td>782.110657</td>\n",
       "      <td>0.0</td>\n",
       "      <td>27970.906250</td>\n",
       "      <td>2.413791</td>\n",
       "      <td>NaN</td>\n",
       "      <td>0.013528</td>\n",
       "      <td>0.990970</td>\n",
       "      <td>0.000424</td>\n",
       "      <td>0.0</td>\n",
       "      <td>NaN</td>\n",
       "      <td>3.803305e-15</td>\n",
       "    </tr>\n",
       "    <tr>\n",
       "      <th>620876</th>\n",
       "      <td>mixed_Goblet2</td>\n",
       "      <td>p53_Ciliated</td>\n",
       "      <td>SLPI</td>\n",
       "      <td>PLSCR1</td>\n",
       "      <td>778.007385</td>\n",
       "      <td>0.0</td>\n",
       "      <td>15282.640625</td>\n",
       "      <td>1.516125</td>\n",
       "      <td>NaN</td>\n",
       "      <td>0.007391</td>\n",
       "      <td>0.987822</td>\n",
       "      <td>0.000204</td>\n",
       "      <td>0.0</td>\n",
       "      <td>NaN</td>\n",
       "      <td>1.408616e-13</td>\n",
       "    </tr>\n",
       "    <tr>\n",
       "      <th>371848</th>\n",
       "      <td>mixed_Goblet2</td>\n",
       "      <td>OMG+Ciliated</td>\n",
       "      <td>SLPI</td>\n",
       "      <td>PLSCR1</td>\n",
       "      <td>776.935425</td>\n",
       "      <td>0.0</td>\n",
       "      <td>11967.809570</td>\n",
       "      <td>1.281608</td>\n",
       "      <td>NaN</td>\n",
       "      <td>0.005788</td>\n",
       "      <td>0.986260</td>\n",
       "      <td>0.000168</td>\n",
       "      <td>0.0</td>\n",
       "      <td>NaN</td>\n",
       "      <td>5.769639e-13</td>\n",
       "    </tr>\n",
       "    <tr>\n",
       "      <th>21043</th>\n",
       "      <td>mixed_Goblet2</td>\n",
       "      <td>APOD+Ciliated</td>\n",
       "      <td>SLPI</td>\n",
       "      <td>PLSCR1</td>\n",
       "      <td>777.012634</td>\n",
       "      <td>0.0</td>\n",
       "      <td>12206.550781</td>\n",
       "      <td>1.298499</td>\n",
       "      <td>NaN</td>\n",
       "      <td>0.005903</td>\n",
       "      <td>0.986393</td>\n",
       "      <td>0.000158</td>\n",
       "      <td>0.0</td>\n",
       "      <td>NaN</td>\n",
       "      <td>8.214949e-13</td>\n",
       "    </tr>\n",
       "  </tbody>\n",
       "</table>\n",
       "</div>"
      ],
      "text/plain": [
       "               source         target ligand_complex receptor_complex  \\\n",
       "269278  mixed_Goblet2     MHCII+Club           SLPI           PLSCR1   \n",
       "103885  mixed_Goblet2     DHRS9+Club           SLPI           PLSCR1   \n",
       "620876  mixed_Goblet2   p53_Ciliated           SLPI           PLSCR1   \n",
       "371848  mixed_Goblet2   OMG+Ciliated           SLPI           PLSCR1   \n",
       "21043   mixed_Goblet2  APOD+Ciliated           SLPI           PLSCR1   \n",
       "\n",
       "          lr_means  cellphone_pvals     expr_prod  scaled_weight  lr_logfc  \\\n",
       "269278  782.273499              0.0  28474.570312       2.449424       NaN   \n",
       "103885  782.110657              0.0  27970.906250       2.413791       NaN   \n",
       "620876  778.007385              0.0  15282.640625       1.516125       NaN   \n",
       "371848  776.935425              0.0  11967.809570       1.281608       NaN   \n",
       "21043   777.012634              0.0  12206.550781       1.298499       NaN   \n",
       "\n",
       "        spec_weight   lrscore  lr_probs  cellchat_pvals  specificity_rank  \\\n",
       "269278     0.013771  0.991049  0.000451             0.0               NaN   \n",
       "103885     0.013528  0.990970  0.000424             0.0               NaN   \n",
       "620876     0.007391  0.987822  0.000204             0.0               NaN   \n",
       "371848     0.005788  0.986260  0.000168             0.0               NaN   \n",
       "21043      0.005903  0.986393  0.000158             0.0               NaN   \n",
       "\n",
       "        magnitude_rank  \n",
       "269278    1.408636e-16  \n",
       "103885    3.803305e-15  \n",
       "620876    1.408616e-13  \n",
       "371848    5.769639e-13  \n",
       "21043     8.214949e-13  "
      ]
     },
     "execution_count": 6,
     "metadata": {},
     "output_type": "execute_result"
    }
   ],
   "source": [
    "li.mt.rank_aggregate(adata, groupby = 'cell_states', expr_prop = 0.1, verbose = True, use_raw = False)\n",
    "adata.uns['liana_res'].head()"
   ]
  },
  {
   "cell_type": "code",
   "execution_count": 7,
   "metadata": {},
   "outputs": [
    {
     "ename": "TypeError",
     "evalue": "dotplot() got an unexpected keyword argument 'filter_fun'",
     "output_type": "error",
     "traceback": [
      "\u001b[0;31m---------------------------------------------------------------------------\u001b[0m",
      "\u001b[0;31mTypeError\u001b[0m                                 Traceback (most recent call last)",
      "Cell \u001b[0;32mIn[7], line 1\u001b[0m\n\u001b[0;32m----> 1\u001b[0m my_plot \u001b[38;5;241m=\u001b[39m \u001b[43mli\u001b[49m\u001b[38;5;241;43m.\u001b[39;49m\u001b[43mpl\u001b[49m\u001b[38;5;241;43m.\u001b[39;49m\u001b[43mdotplot\u001b[49m\u001b[43m(\u001b[49m\u001b[43madata\u001b[49m\u001b[43m \u001b[49m\u001b[38;5;241;43m=\u001b[39;49m\u001b[43m \u001b[49m\u001b[43madata\u001b[49m\u001b[43m,\u001b[49m\n\u001b[1;32m      2\u001b[0m \u001b[43m                        \u001b[49m\u001b[43mcolour\u001b[49m\u001b[38;5;241;43m=\u001b[39;49m\u001b[38;5;124;43m'\u001b[39;49m\u001b[38;5;124;43mmagnitude_rank\u001b[39;49m\u001b[38;5;124;43m'\u001b[39;49m\u001b[43m,\u001b[49m\n\u001b[1;32m      3\u001b[0m \u001b[43m                        \u001b[49m\u001b[43minverse_colour\u001b[49m\u001b[43m \u001b[49m\u001b[38;5;241;43m=\u001b[39;49m\u001b[43m \u001b[49m\u001b[38;5;28;43;01mTrue\u001b[39;49;00m\u001b[43m,\u001b[49m\n\u001b[1;32m      4\u001b[0m \u001b[43m                        \u001b[49m\u001b[43msize\u001b[49m\u001b[43m \u001b[49m\u001b[38;5;241;43m=\u001b[39;49m\u001b[43m \u001b[49m\u001b[38;5;124;43m'\u001b[39;49m\u001b[38;5;124;43mmagnitude_rank\u001b[39;49m\u001b[38;5;124;43m'\u001b[39;49m\u001b[43m,\u001b[49m\n\u001b[1;32m      5\u001b[0m \u001b[43m                        \u001b[49m\u001b[43minverse_size\u001b[49m\u001b[38;5;241;43m=\u001b[39;49m\u001b[38;5;28;43;01mFalse\u001b[39;49;00m\u001b[43m,\u001b[49m\n\u001b[1;32m      6\u001b[0m \u001b[43m                        \u001b[49m\u001b[43msource_labels\u001b[49m\u001b[38;5;241;43m=\u001b[39;49m\u001b[43m[\u001b[49m\u001b[38;5;124;43m'\u001b[39;49m\u001b[38;5;124;43mSERPINE2+Basal\u001b[39;49m\u001b[38;5;124;43m'\u001b[39;49m\u001b[43m]\u001b[49m\u001b[43m,\u001b[49m\n\u001b[1;32m      7\u001b[0m \u001b[43m                        \u001b[49m\u001b[43mtarget_labels\u001b[49m\u001b[43m \u001b[49m\u001b[38;5;241;43m=\u001b[39;49m\u001b[43m \u001b[49m\u001b[43m[\u001b[49m\u001b[38;5;124;43m'\u001b[39;49m\u001b[38;5;124;43mRARRES1+lip_Goblet\u001b[39;49m\u001b[38;5;124;43m'\u001b[39;49m\u001b[43m,\u001b[49m\u001b[38;5;124;43m'\u001b[39;49m\u001b[38;5;124;43mMHCII+Club\u001b[39;49m\u001b[38;5;124;43m'\u001b[39;49m\u001b[43m,\u001b[49m\u001b[43m \u001b[49m\u001b[38;5;124;43m'\u001b[39;49m\u001b[38;5;124;43mIonocyte\u001b[39;49m\u001b[38;5;124;43m'\u001b[39;49m\u001b[43m,\u001b[49m\u001b[43m \u001b[49m\u001b[38;5;124;43m'\u001b[39;49m\u001b[38;5;124;43mmixed_Goblet1\u001b[39;49m\u001b[38;5;124;43m'\u001b[39;49m\u001b[43m,\u001b[49m\u001b[43m \u001b[49m\u001b[38;5;124;43m'\u001b[39;49m\u001b[38;5;124;43mmixed_Goblet2\u001b[39;49m\u001b[38;5;124;43m'\u001b[39;49m\u001b[43m]\u001b[49m\u001b[43m,\u001b[49m\n\u001b[1;32m      8\u001b[0m \u001b[43m                        \u001b[49m\u001b[43mfilter_fun\u001b[49m\u001b[38;5;241;43m=\u001b[39;49m\u001b[38;5;28;43;01mlambda\u001b[39;49;00m\u001b[43m \u001b[49m\u001b[43mx\u001b[49m\u001b[43m:\u001b[49m\u001b[43m \u001b[49m\u001b[43mx\u001b[49m\u001b[43m[\u001b[49m\u001b[38;5;124;43m'\u001b[39;49m\u001b[38;5;124;43mmagnitude_rank\u001b[39;49m\u001b[38;5;124;43m'\u001b[39;49m\u001b[43m]\u001b[49m\u001b[43m \u001b[49m\u001b[38;5;241;43m<\u001b[39;49m\u001b[38;5;241;43m=\u001b[39;49m\u001b[43m \u001b[49m\u001b[38;5;241;43m0.01\u001b[39;49m\u001b[43m,\u001b[49m\n\u001b[1;32m      9\u001b[0m \u001b[43m                        \u001b[49m\u001b[43mfigure_size\u001b[49m\u001b[43m \u001b[49m\u001b[38;5;241;43m=\u001b[39;49m\u001b[43m \u001b[49m\u001b[43m(\u001b[49m\u001b[38;5;241;43m10\u001b[39;49m\u001b[43m,\u001b[49m\u001b[43m \u001b[49m\u001b[38;5;241;43m10\u001b[39;49m\u001b[43m)\u001b[49m\u001b[43m,\u001b[49m\n\u001b[1;32m     10\u001b[0m \u001b[43m                        \u001b[49m\u001b[43mcmap\u001b[49m\u001b[43m \u001b[49m\u001b[38;5;241;43m=\u001b[39;49m\u001b[43m \u001b[49m\u001b[38;5;124;43m'\u001b[39;49m\u001b[38;5;124;43mmagma\u001b[39;49m\u001b[38;5;124;43m'\u001b[39;49m\n\u001b[1;32m     11\u001b[0m \u001b[43m                       \u001b[49m\u001b[43m)\u001b[49m\n\u001b[1;32m     12\u001b[0m my_plot\n",
      "\u001b[0;31mTypeError\u001b[0m: dotplot() got an unexpected keyword argument 'filter_fun'"
     ]
    }
   ],
   "source": [
    "my_plot = li.pl.dotplot(adata = adata,\n",
    "                        colour='magnitude_rank',\n",
    "                        inverse_colour = True,\n",
    "                        size = 'magnitude_rank',\n",
    "                        inverse_size=False,\n",
    "                        source_labels=['SERPINE2+Basal'],\n",
    "                        target_labels = ['RARRES1+lip_Goblet','MHCII+Club', 'Ionocyte', 'mixed_Goblet1', 'mixed_Goblet2'],\n",
    "                        filter_fun=lambda x: x['magnitude_rank'] <= 0.01,\n",
    "                        figure_size = (10, 10),\n",
    "                        cmap = 'magma'\n",
    "                       )\n",
    "my_plot"
   ]
  },
  {
   "cell_type": "code",
   "execution_count": null,
   "metadata": {},
   "outputs": [],
   "source": [
    "rank_aggregate.describe()"
   ]
  },
  {
   "cell_type": "code",
   "execution_count": null,
   "metadata": {},
   "outputs": [],
   "source": [
    "adata.obs['cell_states'].cat.categories"
   ]
  },
  {
   "cell_type": "code",
   "execution_count": null,
   "metadata": {},
   "outputs": [],
   "source": [
    "li.pl.dotplot(adata = adata,\n",
    "              colour = 'magnitude_rank',\n",
    "              size = 'magnitude_rank',\n",
    "              inverse_size = True,\n",
    "              inverse_colour = True,\n",
    "              source_labels = ['SERPINE2+Basal'],\n",
    "              target_labels = ['KRT17+Goblet', 'MHCII+Club'],\n",
    "              top_n = 10,\n",
    "              orderby = 'magnitude_rank',\n",
    "              orderby_ascending = True,\n",
    "              figure_size = (10, 10)\n",
    "             )"
   ]
  },
  {
   "cell_type": "code",
   "execution_count": null,
   "metadata": {},
   "outputs": [],
   "source": [
    "methods = [logfc, geometric_mean]\n",
    "new_rank_aggregate = li.mt.AggregateClass(li.mt.aggregate_meta, methods=methods)"
   ]
  },
  {
   "cell_type": "code",
   "execution_count": null,
   "metadata": {},
   "outputs": [],
   "source": [
    "new_rank_aggregate(adata,\n",
    "                   groupby='cell_states',\n",
    "                   expr_prop=0.1,\n",
    "                   verbose=True,\n",
    "                   # Note that with this option, we don't perform permutations\n",
    "                   # and hence we exclude the p-value for geometric_mean, as well as specificity_rank\n",
    "                   n_perms=None,\n",
    "                   use_raw=False,\n",
    "                   )"
   ]
  },
  {
   "cell_type": "code",
   "execution_count": null,
   "metadata": {},
   "outputs": [],
   "source": [
    "adata.uns['liana_res'].head()"
   ]
  },
  {
   "cell_type": "code",
   "execution_count": null,
   "metadata": {},
   "outputs": [],
   "source": []
  }
 ],
 "metadata": {
  "kernelspec": {
   "display_name": "liana+",
   "language": "python",
   "name": "python3"
  },
  "language_info": {
   "codemirror_mode": {
    "name": "ipython",
    "version": 3
   },
   "file_extension": ".py",
   "mimetype": "text/x-python",
   "name": "python",
   "nbconvert_exporter": "python",
   "pygments_lexer": "ipython3",
   "version": "3.10.13"
  }
 },
 "nbformat": 4,
 "nbformat_minor": 2
}
