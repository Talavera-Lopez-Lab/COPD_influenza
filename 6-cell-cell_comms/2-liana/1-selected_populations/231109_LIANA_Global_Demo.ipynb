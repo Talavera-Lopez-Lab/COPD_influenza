{
 "cells": [
  {
   "cell_type": "markdown",
   "metadata": {},
   "source": [
    "### Notebook for the inference of cell-cell communications on COPD-IAV data using `LIANA+`\n",
    "\n",
    "- **Developed by**: Carlos Talavera-López\n",
    "- **Würzburg Institute for Systems Immunology, Faculty of Medicine, Julius-Maximilian-Universität Würzburg**\n",
    "- **Created**: 231109\n",
    "- **Latest version**: 231109"
   ]
  },
  {
   "cell_type": "markdown",
   "metadata": {},
   "source": [
    "### Import required modules"
   ]
  },
  {
   "cell_type": "code",
   "execution_count": 6,
   "metadata": {},
   "outputs": [],
   "source": [
    "import anndata\n",
    "import numpy as np\n",
    "import liana as li\n",
    "import pandas as pd\n",
    "import scanpy as sc\n",
    "\n",
    "from liana.method import singlecellsignalr, connectome, cellphonedb, natmi, logfc, cellchat, geometric_mean"
   ]
  },
  {
   "cell_type": "markdown",
   "metadata": {},
   "source": [
    "### Set up working environment"
   ]
  },
  {
   "cell_type": "code",
   "execution_count": 2,
   "metadata": {},
   "outputs": [
    {
     "name": "stdout",
     "output_type": "stream",
     "text": [
      "-----\n",
      "anndata     0.10.3\n",
      "scanpy      1.9.6\n",
      "-----\n",
      "PIL                 10.1.0\n",
      "appnope             0.1.3\n",
      "asttokens           NA\n",
      "comm                0.2.0\n",
      "cycler              0.12.1\n",
      "cython_runtime      NA\n",
      "dateutil            2.8.2\n",
      "debugpy             1.8.0\n",
      "decorator           5.1.1\n",
      "exceptiongroup      1.1.3\n",
      "executing           2.0.1\n",
      "h5py                3.10.0\n",
      "ipykernel           6.26.0\n",
      "ipywidgets          8.1.1\n",
      "jedi                0.19.1\n",
      "joblib              1.3.2\n",
      "kiwisolver          1.4.5\n",
      "liana               1.0.2\n",
      "llvmlite            0.41.1\n",
      "matplotlib          3.8.1\n",
      "mizani              0.9.3\n",
      "mpl_toolkits        NA\n",
      "mudata              0.2.3\n",
      "natsort             8.4.0\n",
      "numba               0.58.1\n",
      "numpy               1.26.1\n",
      "packaging           23.2\n",
      "pandas              2.1.1\n",
      "parso               0.8.3\n",
      "patsy               0.5.3\n",
      "pexpect             4.8.0\n",
      "platformdirs        3.11.0\n",
      "plotnine            0.12.4\n",
      "prompt_toolkit      3.0.39\n",
      "psutil              5.9.6\n",
      "ptyprocess          0.7.0\n",
      "pure_eval           0.2.2\n",
      "pydev_ipython       NA\n",
      "pydevconsole        NA\n",
      "pydevd              2.9.5\n",
      "pydevd_file_utils   NA\n",
      "pydevd_plugins      NA\n",
      "pydevd_tracing      NA\n",
      "pygments            2.16.1\n",
      "pyparsing           3.1.1\n",
      "pytz                2023.3.post1\n",
      "scipy               1.11.3\n",
      "session_info        1.0.0\n",
      "six                 1.16.0\n",
      "sklearn             1.3.2\n",
      "stack_data          0.6.3\n",
      "statsmodels         0.14.0\n",
      "threadpoolctl       3.2.0\n",
      "tornado             6.3.3\n",
      "tqdm                4.66.1\n",
      "traitlets           5.13.0\n",
      "wcwidth             0.2.9\n",
      "zmq                 25.1.1\n",
      "zoneinfo            NA\n",
      "-----\n",
      "IPython             8.17.2\n",
      "jupyter_client      8.6.0\n",
      "jupyter_core        5.5.0\n",
      "-----\n",
      "Python 3.10.13 | packaged by conda-forge | (main, Oct 26 2023, 18:09:17) [Clang 16.0.6 ]\n",
      "macOS-14.1-arm64-arm-64bit\n",
      "-----\n",
      "Session information updated at 2023-11-09 11:19\n"
     ]
    }
   ],
   "source": [
    "sc.settings.verbosity = 3\n",
    "sc.logging.print_versions()\n",
    "sc.settings.set_figure_params(dpi = 180, color_map = 'magma_r', dpi_save = 300, vector_friendly = True, format = 'svg')"
   ]
  },
  {
   "cell_type": "markdown",
   "metadata": {},
   "source": [
    "### Read in data"
   ]
  },
  {
   "cell_type": "code",
   "execution_count": 3,
   "metadata": {},
   "outputs": [
    {
     "name": "stderr",
     "output_type": "stream",
     "text": [
      "/Users/cartalop/mambaforge/envs/liana+/lib/python3.10/site-packages/anndata/__init__.py:51: FutureWarning: `anndata.read` is deprecated, use `anndata.read_h5ad` instead. `ad.read` will be removed in mid 2024.\n"
     ]
    },
    {
     "data": {
      "text/plain": [
       "AnnData object with n_obs × n_vars = 97573 × 27208\n",
       "    obs: 'sex', 'age', 'ethnicity', 'PaCO2', 'donor', 'infection', 'disease', 'SMK', 'illumina_stimunr', 'bd_rhapsody', 'n_genes', 'doublet_scores', 'predicted_doublets', 'batch', 'n_genes_by_counts', 'total_counts', 'total_counts_mt', 'pct_counts_mt', 'total_counts_ribo', 'pct_counts_ribo', 'percent_mt2', 'n_counts', 'percent_chrY', 'XIST-counts', 'S_score', 'G2M_score', 'condition', 'sample_group', 'IAV_score', 'group', 'Viral_score', 'cell_type', 'cell_states', 'leiden', 'cell_compartment', 'seed_labels', '_scvi_batch', '_scvi_labels', 'C_scANVI'\n",
       "    var: 'mt', 'ribo'\n",
       "    obsm: 'X_scANVI', 'X_scVI', 'X_umap'"
      ]
     },
     "execution_count": 3,
     "metadata": {},
     "output_type": "execute_result"
    }
   ],
   "source": [
    "adata_all = sc.read_h5ad('../../../data/Marburg_cell_states_locked_scANVI_ctl230901.raw.h5ad') \n",
    "adata_all"
   ]
  },
  {
   "cell_type": "markdown",
   "metadata": {},
   "source": [
    "### Check `LIANA+` available methods"
   ]
  },
  {
   "cell_type": "code",
   "execution_count": 4,
   "metadata": {},
   "outputs": [
    {
     "data": {
      "text/html": [
       "<div>\n",
       "<style scoped>\n",
       "    .dataframe tbody tr th:only-of-type {\n",
       "        vertical-align: middle;\n",
       "    }\n",
       "\n",
       "    .dataframe tbody tr th {\n",
       "        vertical-align: top;\n",
       "    }\n",
       "\n",
       "    .dataframe thead th {\n",
       "        text-align: right;\n",
       "    }\n",
       "</style>\n",
       "<table border=\"1\" class=\"dataframe\">\n",
       "  <thead>\n",
       "    <tr style=\"text-align: right;\">\n",
       "      <th></th>\n",
       "      <th>Method Name</th>\n",
       "      <th>Magnitude Score</th>\n",
       "      <th>Specificity Score</th>\n",
       "      <th>Reference</th>\n",
       "    </tr>\n",
       "  </thead>\n",
       "  <tbody>\n",
       "    <tr>\n",
       "      <th>0</th>\n",
       "      <td>CellPhoneDB</td>\n",
       "      <td>lr_means</td>\n",
       "      <td>cellphone_pvals</td>\n",
       "      <td>Efremova, M., Vento-Tormo, M., Teichmann, S.A....</td>\n",
       "    </tr>\n",
       "    <tr>\n",
       "      <th>0</th>\n",
       "      <td>Connectome</td>\n",
       "      <td>expr_prod</td>\n",
       "      <td>scaled_weight</td>\n",
       "      <td>Raredon, M.S.B., Yang, J., Garritano, J., Wang...</td>\n",
       "    </tr>\n",
       "    <tr>\n",
       "      <th>0</th>\n",
       "      <td>log2FC</td>\n",
       "      <td>None</td>\n",
       "      <td>lr_logfc</td>\n",
       "      <td>Dimitrov, D., Türei, D., Garrido-Rodriguez, M....</td>\n",
       "    </tr>\n",
       "    <tr>\n",
       "      <th>0</th>\n",
       "      <td>NATMI</td>\n",
       "      <td>expr_prod</td>\n",
       "      <td>spec_weight</td>\n",
       "      <td>Hou, R., Denisenko, E., Ong, H.T., Ramilowski,...</td>\n",
       "    </tr>\n",
       "    <tr>\n",
       "      <th>0</th>\n",
       "      <td>SingleCellSignalR</td>\n",
       "      <td>lrscore</td>\n",
       "      <td>None</td>\n",
       "      <td>Cabello-Aguilar, S., Alame, M., Kon-Sun-Tack, ...</td>\n",
       "    </tr>\n",
       "    <tr>\n",
       "      <th>0</th>\n",
       "      <td>CellChat</td>\n",
       "      <td>lr_probs</td>\n",
       "      <td>cellchat_pvals</td>\n",
       "      <td>Jin, S., Guerrero-Juarez, C.F., Zhang, L., Cha...</td>\n",
       "    </tr>\n",
       "    <tr>\n",
       "      <th>0</th>\n",
       "      <td>Rank_Aggregate</td>\n",
       "      <td>magnitude_rank</td>\n",
       "      <td>specificity_rank</td>\n",
       "      <td>Dimitrov, D., Türei, D., Garrido-Rodriguez, M....</td>\n",
       "    </tr>\n",
       "    <tr>\n",
       "      <th>0</th>\n",
       "      <td>Geometric Mean</td>\n",
       "      <td>lr_gmeans</td>\n",
       "      <td>gmean_pvals</td>\n",
       "      <td>CellPhoneDBv2's permutation approach applied t...</td>\n",
       "    </tr>\n",
       "  </tbody>\n",
       "</table>\n",
       "</div>"
      ],
      "text/plain": [
       "         Method Name Magnitude Score Specificity Score  \\\n",
       "0        CellPhoneDB        lr_means   cellphone_pvals   \n",
       "0         Connectome       expr_prod     scaled_weight   \n",
       "0             log2FC            None          lr_logfc   \n",
       "0              NATMI       expr_prod       spec_weight   \n",
       "0  SingleCellSignalR         lrscore              None   \n",
       "0           CellChat        lr_probs    cellchat_pvals   \n",
       "0     Rank_Aggregate  magnitude_rank  specificity_rank   \n",
       "0     Geometric Mean       lr_gmeans       gmean_pvals   \n",
       "\n",
       "                                           Reference  \n",
       "0  Efremova, M., Vento-Tormo, M., Teichmann, S.A....  \n",
       "0  Raredon, M.S.B., Yang, J., Garritano, J., Wang...  \n",
       "0  Dimitrov, D., Türei, D., Garrido-Rodriguez, M....  \n",
       "0  Hou, R., Denisenko, E., Ong, H.T., Ramilowski,...  \n",
       "0  Cabello-Aguilar, S., Alame, M., Kon-Sun-Tack, ...  \n",
       "0  Jin, S., Guerrero-Juarez, C.F., Zhang, L., Cha...  \n",
       "0  Dimitrov, D., Türei, D., Garrido-Rodriguez, M....  \n",
       "0  CellPhoneDBv2's permutation approach applied t...  "
      ]
     },
     "execution_count": 4,
     "metadata": {},
     "output_type": "execute_result"
    }
   ],
   "source": [
    "li.mt.show_methods()"
   ]
  },
  {
   "cell_type": "markdown",
   "metadata": {},
   "source": [
    "### Run `cellphoneDB` for trial"
   ]
  },
  {
   "cell_type": "code",
   "execution_count": 8,
   "metadata": {},
   "outputs": [
    {
     "name": "stderr",
     "output_type": "stream",
     "text": [
      "Using `.X`!\n",
      "/Users/cartalop/mambaforge/envs/liana+/lib/python3.10/site-packages/anndata/_core/anndata.py:522: FutureWarning: The dtype argument is deprecated and will be removed in late 2024.\n",
      "Make sure that normalized counts are passed!\n",
      "/Users/cartalop/mambaforge/envs/liana+/lib/python3.10/site-packages/liana/method/_pipe_utils/_pre.py:144: FutureWarning: The default of observed=False is deprecated and will be changed to True in a future version of pandas. Pass observed=False to retain current behavior or observed=True to adopt the future default and silence this warning.\n",
      "['NC_026431.1', 'NC_026432.1', 'NC_026433.1', 'NC_026434.1', 'NC_026435.1', 'NC_026436.1', 'NC_026437.1', 'NC_026438.1'] contain `_`. Consider replacing those!\n",
      "Using resource `consensus`.\n",
      "0.08 of entities in the resource are missing from the data.\n"
     ]
    },
    {
     "name": "stdout",
     "output_type": "stream",
     "text": [
      "Generating ligand-receptor stats for 97573 samples and 27208 features\n"
     ]
    },
    {
     "name": "stderr",
     "output_type": "stream",
     "text": [
      "100%|██████████| 1000/1000 [03:03<00:00,  5.46it/s]\n"
     ]
    },
    {
     "data": {
      "text/html": [
       "<div>\n",
       "<style scoped>\n",
       "    .dataframe tbody tr th:only-of-type {\n",
       "        vertical-align: middle;\n",
       "    }\n",
       "\n",
       "    .dataframe tbody tr th {\n",
       "        vertical-align: top;\n",
       "    }\n",
       "\n",
       "    .dataframe thead th {\n",
       "        text-align: right;\n",
       "    }\n",
       "</style>\n",
       "<table border=\"1\" class=\"dataframe\">\n",
       "  <thead>\n",
       "    <tr style=\"text-align: right;\">\n",
       "      <th></th>\n",
       "      <th>ligand</th>\n",
       "      <th>ligand_complex</th>\n",
       "      <th>ligand_means</th>\n",
       "      <th>ligand_props</th>\n",
       "      <th>receptor</th>\n",
       "      <th>receptor_complex</th>\n",
       "      <th>receptor_means</th>\n",
       "      <th>receptor_props</th>\n",
       "      <th>source</th>\n",
       "      <th>target</th>\n",
       "      <th>lr_means</th>\n",
       "      <th>cellphone_pvals</th>\n",
       "    </tr>\n",
       "  </thead>\n",
       "  <tbody>\n",
       "    <tr>\n",
       "      <th>987236</th>\n",
       "      <td>SLPI</td>\n",
       "      <td>SLPI</td>\n",
       "      <td>1278.597168</td>\n",
       "      <td>1.0</td>\n",
       "      <td>PLSCR1</td>\n",
       "      <td>PLSCR1</td>\n",
       "      <td>35.724625</td>\n",
       "      <td>1.000000</td>\n",
       "      <td>mixed_Goblet2</td>\n",
       "      <td>ifn_Goblet</td>\n",
       "      <td>657.160889</td>\n",
       "      <td>0.0</td>\n",
       "    </tr>\n",
       "    <tr>\n",
       "      <th>93082</th>\n",
       "      <td>SLPI</td>\n",
       "      <td>SLPI</td>\n",
       "      <td>1278.597168</td>\n",
       "      <td>1.0</td>\n",
       "      <td>PLSCR1</td>\n",
       "      <td>PLSCR1</td>\n",
       "      <td>27.771564</td>\n",
       "      <td>0.998572</td>\n",
       "      <td>mixed_Goblet2</td>\n",
       "      <td>SERPINE1+Basal</td>\n",
       "      <td>653.184387</td>\n",
       "      <td>0.0</td>\n",
       "    </tr>\n",
       "    <tr>\n",
       "      <th>785864</th>\n",
       "      <td>SLPI</td>\n",
       "      <td>SLPI</td>\n",
       "      <td>1278.597168</td>\n",
       "      <td>1.0</td>\n",
       "      <td>PLSCR1</td>\n",
       "      <td>PLSCR1</td>\n",
       "      <td>26.151073</td>\n",
       "      <td>0.974820</td>\n",
       "      <td>mixed_Goblet2</td>\n",
       "      <td>KRT16+SupraB</td>\n",
       "      <td>652.374146</td>\n",
       "      <td>0.0</td>\n",
       "    </tr>\n",
       "    <tr>\n",
       "      <th>428293</th>\n",
       "      <td>SLPI</td>\n",
       "      <td>SLPI</td>\n",
       "      <td>1278.597168</td>\n",
       "      <td>1.0</td>\n",
       "      <td>PLSCR1</td>\n",
       "      <td>PLSCR1</td>\n",
       "      <td>21.818146</td>\n",
       "      <td>0.999192</td>\n",
       "      <td>mixed_Goblet2</td>\n",
       "      <td>MHCII+Club</td>\n",
       "      <td>650.207642</td>\n",
       "      <td>0.0</td>\n",
       "    </tr>\n",
       "    <tr>\n",
       "      <th>184745</th>\n",
       "      <td>SLPI</td>\n",
       "      <td>SLPI</td>\n",
       "      <td>1278.597168</td>\n",
       "      <td>1.0</td>\n",
       "      <td>PLSCR1</td>\n",
       "      <td>PLSCR1</td>\n",
       "      <td>21.258554</td>\n",
       "      <td>0.997415</td>\n",
       "      <td>mixed_Goblet2</td>\n",
       "      <td>DHRS9+Club</td>\n",
       "      <td>649.927856</td>\n",
       "      <td>0.0</td>\n",
       "    </tr>\n",
       "  </tbody>\n",
       "</table>\n",
       "</div>"
      ],
      "text/plain": [
       "       ligand ligand_complex  ligand_means  ligand_props receptor  \\\n",
       "987236   SLPI           SLPI   1278.597168           1.0   PLSCR1   \n",
       "93082    SLPI           SLPI   1278.597168           1.0   PLSCR1   \n",
       "785864   SLPI           SLPI   1278.597168           1.0   PLSCR1   \n",
       "428293   SLPI           SLPI   1278.597168           1.0   PLSCR1   \n",
       "184745   SLPI           SLPI   1278.597168           1.0   PLSCR1   \n",
       "\n",
       "       receptor_complex  receptor_means  receptor_props         source  \\\n",
       "987236           PLSCR1       35.724625        1.000000  mixed_Goblet2   \n",
       "93082            PLSCR1       27.771564        0.998572  mixed_Goblet2   \n",
       "785864           PLSCR1       26.151073        0.974820  mixed_Goblet2   \n",
       "428293           PLSCR1       21.818146        0.999192  mixed_Goblet2   \n",
       "184745           PLSCR1       21.258554        0.997415  mixed_Goblet2   \n",
       "\n",
       "                target    lr_means  cellphone_pvals  \n",
       "987236      ifn_Goblet  657.160889              0.0  \n",
       "93082   SERPINE1+Basal  653.184387              0.0  \n",
       "785864    KRT16+SupraB  652.374146              0.0  \n",
       "428293      MHCII+Club  650.207642              0.0  \n",
       "184745      DHRS9+Club  649.927856              0.0  "
      ]
     },
     "execution_count": 8,
     "metadata": {},
     "output_type": "execute_result"
    }
   ],
   "source": [
    "cellphonedb(adata_all, groupby = 'cell_states', \n",
    "            expr_prop = 0.1, \n",
    "            resource_name = 'consensus', \n",
    "            verbose = True, \n",
    "            key_added = 'cpdb_res',\n",
    "            use_raw = False)\n",
    "adata_all.uns['cpdb_res'].head()"
   ]
  },
  {
   "cell_type": "code",
   "execution_count": null,
   "metadata": {},
   "outputs": [],
   "source": [
    "adata_all.obs['cell_states'].cat.categories"
   ]
  },
  {
   "cell_type": "markdown",
   "metadata": {},
   "source": [
    "### Visualise `cellphoneDB` interactions using a dotplot"
   ]
  },
  {
   "cell_type": "code",
   "execution_count": null,
   "metadata": {},
   "outputs": [],
   "source": [
    "li.pl.dotplot(adata = adata_all,\n",
    "              colour = 'lr_means',\n",
    "              size = 'cellphone_pvals',\n",
    "              inverse_size = True, # we inverse sign since we want small p-values to have large sizes\n",
    "              source_labels = ['SERPINE1+Basal', 'SERPINE2+Basal', 'SERPINE1+Basal'],\n",
    "              target_labels = ['CD34+', 'CD56+ NK'],\n",
    "              figure_size = (8, 7),\n",
    "              # finally, since cpdbv2 suggests using a filter to FPs\n",
    "              # we filter the pvals column to <= 0.05\n",
    "              filterby = 'cellphone_pvals',\n",
    "              filter_lambda = lambda x: x <= 0.05,\n",
    "              uns_key = 'cpdb_res'\n",
    "             )"
   ]
  },
  {
   "cell_type": "code",
   "execution_count": null,
   "metadata": {},
   "outputs": [],
   "source": []
  },
  {
   "cell_type": "markdown",
   "metadata": {},
   "source": [
    "### Run `cellchat` for trial"
   ]
  },
  {
   "cell_type": "code",
   "execution_count": 9,
   "metadata": {},
   "outputs": [
    {
     "name": "stderr",
     "output_type": "stream",
     "text": [
      "Using `.X`!\n",
      "/Users/cartalop/mambaforge/envs/liana+/lib/python3.10/site-packages/anndata/_core/anndata.py:522: FutureWarning: The dtype argument is deprecated and will be removed in late 2024.\n",
      "Make sure that normalized counts are passed!\n",
      "/Users/cartalop/mambaforge/envs/liana+/lib/python3.10/site-packages/liana/method/_pipe_utils/_pre.py:144: FutureWarning: The default of observed=False is deprecated and will be changed to True in a future version of pandas. Pass observed=False to retain current behavior or observed=True to adopt the future default and silence this warning.\n",
      "['NC_026431.1', 'NC_026432.1', 'NC_026433.1', 'NC_026434.1', 'NC_026435.1', 'NC_026436.1', 'NC_026437.1', 'NC_026438.1'] contain `_`. Consider replacing those!\n",
      "Using resource `consensus`.\n",
      "0.08 of entities in the resource are missing from the data.\n"
     ]
    },
    {
     "name": "stdout",
     "output_type": "stream",
     "text": [
      "Generating ligand-receptor stats for 97573 samples and 27208 features\n"
     ]
    },
    {
     "name": "stderr",
     "output_type": "stream",
     "text": [
      " 11%|█▏        | 113/1000 [04:45<38:17,  2.59s/it]"
     ]
    }
   ],
   "source": [
    "cellchat(adata_all, groupby = 'cell_states', \n",
    "            expr_prop = 0.1, \n",
    "            resource_name = 'consensus', \n",
    "            verbose = True, \n",
    "            key_added = 'ccdb_res',\n",
    "            use_raw = False)\n",
    "adata_all.uns['ccdb_res'].head()"
   ]
  },
  {
   "cell_type": "code",
   "execution_count": null,
   "metadata": {},
   "outputs": [],
   "source": []
  }
 ],
 "metadata": {
  "kernelspec": {
   "display_name": "liana+",
   "language": "python",
   "name": "python3"
  },
  "language_info": {
   "codemirror_mode": {
    "name": "ipython",
    "version": 3
   },
   "file_extension": ".py",
   "mimetype": "text/x-python",
   "name": "python",
   "nbconvert_exporter": "python",
   "pygments_lexer": "ipython3",
   "version": "3.10.13"
  }
 },
 "nbformat": 4,
 "nbformat_minor": 2
}
