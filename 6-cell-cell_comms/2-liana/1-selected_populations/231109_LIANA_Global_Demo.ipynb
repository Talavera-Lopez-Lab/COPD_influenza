{
 "cells": [
  {
   "cell_type": "markdown",
   "metadata": {},
   "source": [
    "### Notebook for the inference of cell-cell communications on COPD-IAV data using `LIANA+`\n",
    "\n",
    "- **Developed by**: Carlos Talavera-López\n",
    "- **Würzburg Institute for Systems Immunology, Faculty of Medicine, Julius-Maximilian-Universität Würzburg**\n",
    "- **Created**: 231109\n",
    "- **Latest version**: 240508"
   ]
  },
  {
   "cell_type": "markdown",
   "metadata": {},
   "source": [
    "### Import required modules"
   ]
  },
  {
   "cell_type": "code",
   "execution_count": 1,
   "metadata": {},
   "outputs": [
    {
     "name": "stderr",
     "output_type": "stream",
     "text": [
      "OMP: Info #276: omp_set_nested routine deprecated, please use omp_set_max_active_levels instead.\n"
     ]
    }
   ],
   "source": [
    "import anndata\n",
    "import numpy as np\n",
    "import liana as li\n",
    "import pandas as pd\n",
    "import scanpy as sc\n",
    "\n",
    "from liana.method import singlecellsignalr, connectome, cellphonedb, natmi, logfc, cellchat, geometric_mean"
   ]
  },
  {
   "cell_type": "markdown",
   "metadata": {},
   "source": [
    "### Set up working environment"
   ]
  },
  {
   "cell_type": "code",
   "execution_count": 2,
   "metadata": {},
   "outputs": [
    {
     "name": "stdout",
     "output_type": "stream",
     "text": [
      "-----\n",
      "anndata     0.10.7\n",
      "scanpy      1.10.1\n",
      "-----\n",
      "PIL                 9.3.0\n",
      "appnope             0.1.4\n",
      "asttokens           NA\n",
      "comm                0.2.2\n",
      "cycler              0.12.1\n",
      "cython_runtime      NA\n",
      "dateutil            2.9.0.post0\n",
      "debugpy             1.8.1\n",
      "decorator           5.1.1\n",
      "docrep              0.3.2\n",
      "executing           2.0.1\n",
      "h5py                3.11.0\n",
      "ipykernel           6.29.4\n",
      "ipywidgets          8.1.2\n",
      "jedi                0.19.1\n",
      "joblib              1.4.2\n",
      "kiwisolver          1.4.5\n",
      "legacy_api_wrap     NA\n",
      "liana               1.1.0\n",
      "llvmlite            0.42.0\n",
      "matplotlib          3.8.4\n",
      "mizani              0.11.2\n",
      "mpl_toolkits        NA\n",
      "mudata              0.2.3\n",
      "natsort             8.4.0\n",
      "numba               0.59.1\n",
      "numpy               1.26.4\n",
      "packaging           24.0\n",
      "pandas              2.2.2\n",
      "parso               0.8.4\n",
      "patsy               0.5.6\n",
      "platformdirs        4.2.1\n",
      "plotnine            0.13.5\n",
      "prompt_toolkit      3.0.43\n",
      "psutil              5.9.8\n",
      "pure_eval           0.2.2\n",
      "pydev_ipython       NA\n",
      "pydevconsole        NA\n",
      "pydevd              2.9.5\n",
      "pydevd_file_utils   NA\n",
      "pydevd_plugins      NA\n",
      "pydevd_tracing      NA\n",
      "pygments            2.18.0\n",
      "pyparsing           3.1.2\n",
      "pytz                2024.1\n",
      "scipy               1.13.0\n",
      "session_info        1.0.0\n",
      "six                 1.16.0\n",
      "sklearn             1.4.2\n",
      "stack_data          0.6.3\n",
      "statsmodels         0.14.2\n",
      "threadpoolctl       3.5.0\n",
      "torch               2.4.0.dev20240507\n",
      "torchgen            NA\n",
      "tornado             6.4\n",
      "tqdm                4.66.4\n",
      "traitlets           5.14.3\n",
      "typing_extensions   NA\n",
      "vscode              NA\n",
      "wcwidth             0.2.13\n",
      "yaml                6.0.1\n",
      "zmq                 26.0.3\n",
      "-----\n",
      "IPython             8.24.0\n",
      "jupyter_client      8.6.1\n",
      "jupyter_core        5.7.2\n",
      "-----\n",
      "Python 3.11.9 | packaged by conda-forge | (main, Apr 19 2024, 18:34:54) [Clang 16.0.6 ]\n",
      "macOS-14.4.1-arm64-arm-64bit\n",
      "-----\n",
      "Session information updated at 2024-05-07 19:08\n"
     ]
    }
   ],
   "source": [
    "sc.settings.verbosity = 3\n",
    "sc.logging.print_versions()\n",
    "sc.settings.set_figure_params(dpi = 180, color_map = 'magma_r', dpi_save = 300, vector_friendly = True, format = 'svg')"
   ]
  },
  {
   "cell_type": "markdown",
   "metadata": {},
   "source": [
    "### Read in data"
   ]
  },
  {
   "cell_type": "code",
   "execution_count": 3,
   "metadata": {},
   "outputs": [
    {
     "data": {
      "text/plain": [
       "AnnData object with n_obs × n_vars = 97573 × 27208\n",
       "    obs: 'sex', 'age', 'ethnicity', 'PaCO2', 'donor', 'infection', 'disease', 'SMK', 'illumina_stimunr', 'bd_rhapsody', 'n_genes', 'doublet_scores', 'predicted_doublets', 'batch', 'n_genes_by_counts', 'total_counts', 'total_counts_mt', 'pct_counts_mt', 'total_counts_ribo', 'pct_counts_ribo', 'percent_mt2', 'n_counts', 'percent_chrY', 'XIST-counts', 'S_score', 'G2M_score', 'condition', 'sample_group', 'IAV_score', 'group', 'Viral_score', 'cell_type', 'cell_states', 'leiden', 'cell_compartment', '_scvi_batch', '_scvi_labels', 'C_scANVI', 'viral_counts', 'infected_status', 'seed_labels', 'batch-scANVI'\n",
       "    var: 'mt', 'ribo'\n",
       "    uns: 'cell_compartment_colors', 'cell_states_colors', 'disease_colors', 'group_colors', 'infection_colors'\n",
       "    obsm: 'X_scANVI', 'X_umap'"
      ]
     },
     "execution_count": 3,
     "metadata": {},
     "output_type": "execute_result"
    }
   ],
   "source": [
    "adata_all = sc.read_h5ad('../../../data/Marburg_cell_states_locked_ctl240504.raw.h5ad') \n",
    "adata_all"
   ]
  },
  {
   "cell_type": "markdown",
   "metadata": {},
   "source": [
    "### Check `LIANA+` available methods"
   ]
  },
  {
   "cell_type": "code",
   "execution_count": 4,
   "metadata": {},
   "outputs": [
    {
     "data": {
      "text/html": [
       "<div>\n",
       "<style scoped>\n",
       "    .dataframe tbody tr th:only-of-type {\n",
       "        vertical-align: middle;\n",
       "    }\n",
       "\n",
       "    .dataframe tbody tr th {\n",
       "        vertical-align: top;\n",
       "    }\n",
       "\n",
       "    .dataframe thead th {\n",
       "        text-align: right;\n",
       "    }\n",
       "</style>\n",
       "<table border=\"1\" class=\"dataframe\">\n",
       "  <thead>\n",
       "    <tr style=\"text-align: right;\">\n",
       "      <th></th>\n",
       "      <th>Method Name</th>\n",
       "      <th>Magnitude Score</th>\n",
       "      <th>Specificity Score</th>\n",
       "      <th>Reference</th>\n",
       "    </tr>\n",
       "  </thead>\n",
       "  <tbody>\n",
       "    <tr>\n",
       "      <th>0</th>\n",
       "      <td>CellPhoneDB</td>\n",
       "      <td>lr_means</td>\n",
       "      <td>cellphone_pvals</td>\n",
       "      <td>Efremova, M., Vento-Tormo, M., Teichmann, S.A....</td>\n",
       "    </tr>\n",
       "    <tr>\n",
       "      <th>0</th>\n",
       "      <td>Connectome</td>\n",
       "      <td>expr_prod</td>\n",
       "      <td>scaled_weight</td>\n",
       "      <td>Raredon, M.S.B., Yang, J., Garritano, J., Wang...</td>\n",
       "    </tr>\n",
       "    <tr>\n",
       "      <th>0</th>\n",
       "      <td>log2FC</td>\n",
       "      <td>None</td>\n",
       "      <td>lr_logfc</td>\n",
       "      <td>Dimitrov, D., Türei, D., Garrido-Rodriguez, M....</td>\n",
       "    </tr>\n",
       "    <tr>\n",
       "      <th>0</th>\n",
       "      <td>NATMI</td>\n",
       "      <td>expr_prod</td>\n",
       "      <td>spec_weight</td>\n",
       "      <td>Hou, R., Denisenko, E., Ong, H.T., Ramilowski,...</td>\n",
       "    </tr>\n",
       "    <tr>\n",
       "      <th>0</th>\n",
       "      <td>SingleCellSignalR</td>\n",
       "      <td>lrscore</td>\n",
       "      <td>None</td>\n",
       "      <td>Cabello-Aguilar, S., Alame, M., Kon-Sun-Tack, ...</td>\n",
       "    </tr>\n",
       "    <tr>\n",
       "      <th>0</th>\n",
       "      <td>Rank_Aggregate</td>\n",
       "      <td>magnitude_rank</td>\n",
       "      <td>specificity_rank</td>\n",
       "      <td>Dimitrov, D., Türei, D., Garrido-Rodriguez, M....</td>\n",
       "    </tr>\n",
       "    <tr>\n",
       "      <th>0</th>\n",
       "      <td>Geometric Mean</td>\n",
       "      <td>lr_gmeans</td>\n",
       "      <td>gmean_pvals</td>\n",
       "      <td>CellPhoneDBv2's permutation approach applied t...</td>\n",
       "    </tr>\n",
       "    <tr>\n",
       "      <th>0</th>\n",
       "      <td>scSeqComm</td>\n",
       "      <td>inter_score</td>\n",
       "      <td>None</td>\n",
       "      <td>Baruzzo, G., Cesaro, G., Di Camillo, B. 2022. ...</td>\n",
       "    </tr>\n",
       "    <tr>\n",
       "      <th>0</th>\n",
       "      <td>CellChat</td>\n",
       "      <td>lr_probs</td>\n",
       "      <td>cellchat_pvals</td>\n",
       "      <td>Jin, S., Guerrero-Juarez, C.F., Zhang, L., Cha...</td>\n",
       "    </tr>\n",
       "  </tbody>\n",
       "</table>\n",
       "</div>"
      ],
      "text/plain": [
       "         Method Name Magnitude Score Specificity Score  \\\n",
       "0        CellPhoneDB        lr_means   cellphone_pvals   \n",
       "0         Connectome       expr_prod     scaled_weight   \n",
       "0             log2FC            None          lr_logfc   \n",
       "0              NATMI       expr_prod       spec_weight   \n",
       "0  SingleCellSignalR         lrscore              None   \n",
       "0     Rank_Aggregate  magnitude_rank  specificity_rank   \n",
       "0     Geometric Mean       lr_gmeans       gmean_pvals   \n",
       "0          scSeqComm     inter_score              None   \n",
       "0           CellChat        lr_probs    cellchat_pvals   \n",
       "\n",
       "                                           Reference  \n",
       "0  Efremova, M., Vento-Tormo, M., Teichmann, S.A....  \n",
       "0  Raredon, M.S.B., Yang, J., Garritano, J., Wang...  \n",
       "0  Dimitrov, D., Türei, D., Garrido-Rodriguez, M....  \n",
       "0  Hou, R., Denisenko, E., Ong, H.T., Ramilowski,...  \n",
       "0  Cabello-Aguilar, S., Alame, M., Kon-Sun-Tack, ...  \n",
       "0  Dimitrov, D., Türei, D., Garrido-Rodriguez, M....  \n",
       "0  CellPhoneDBv2's permutation approach applied t...  \n",
       "0  Baruzzo, G., Cesaro, G., Di Camillo, B. 2022. ...  \n",
       "0  Jin, S., Guerrero-Juarez, C.F., Zhang, L., Cha...  "
      ]
     },
     "execution_count": 4,
     "metadata": {},
     "output_type": "execute_result"
    }
   ],
   "source": [
    "li.mt.show_methods()"
   ]
  },
  {
   "cell_type": "markdown",
   "metadata": {},
   "source": [
    "### Run `cellphoneDB` for trial"
   ]
  },
  {
   "cell_type": "code",
   "execution_count": 5,
   "metadata": {},
   "outputs": [
    {
     "name": "stderr",
     "output_type": "stream",
     "text": [
      "Using `.X`!\n",
      "/Users/cartalop/miniforge3/envs/liana+/lib/python3.11/site-packages/anndata/_core/anndata.py:430: FutureWarning: The dtype argument is deprecated and will be removed in late 2024.\n",
      "Make sure that normalized counts are passed!\n",
      "/Users/cartalop/miniforge3/envs/liana+/lib/python3.11/site-packages/liana/method/_pipe_utils/_pre.py:153: FutureWarning: The default of observed=False is deprecated and will be changed to True in a future version of pandas. Pass observed=False to retain current behavior or observed=True to adopt the future default and silence this warning.\n",
      "['NC_026431.1', 'NC_026432.1', 'NC_026433.1', 'NC_026434.1', 'NC_026435.1', 'NC_026436.1', 'NC_026437.1', 'NC_026438.1'] contain `_`. Consider replacing those!\n",
      "Using resource `consensus`.\n",
      "0.09 of entities in the resource are missing from the data.\n"
     ]
    },
    {
     "name": "stdout",
     "output_type": "stream",
     "text": [
      "Generating ligand-receptor stats for 97573 samples and 1693 features\n"
     ]
    },
    {
     "name": "stderr",
     "output_type": "stream",
     "text": [
      "100%|██████████| 1000/1000 [02:44<00:00,  6.07it/s]\n"
     ]
    },
    {
     "data": {
      "text/html": [
       "<div>\n",
       "<style scoped>\n",
       "    .dataframe tbody tr th:only-of-type {\n",
       "        vertical-align: middle;\n",
       "    }\n",
       "\n",
       "    .dataframe tbody tr th {\n",
       "        vertical-align: top;\n",
       "    }\n",
       "\n",
       "    .dataframe thead th {\n",
       "        text-align: right;\n",
       "    }\n",
       "</style>\n",
       "<table border=\"1\" class=\"dataframe\">\n",
       "  <thead>\n",
       "    <tr style=\"text-align: right;\">\n",
       "      <th></th>\n",
       "      <th>ligand</th>\n",
       "      <th>ligand_complex</th>\n",
       "      <th>ligand_means</th>\n",
       "      <th>ligand_props</th>\n",
       "      <th>receptor</th>\n",
       "      <th>receptor_complex</th>\n",
       "      <th>receptor_means</th>\n",
       "      <th>receptor_props</th>\n",
       "      <th>source</th>\n",
       "      <th>target</th>\n",
       "      <th>lr_means</th>\n",
       "      <th>cellphone_pvals</th>\n",
       "    </tr>\n",
       "  </thead>\n",
       "  <tbody>\n",
       "    <tr>\n",
       "      <th>961483</th>\n",
       "      <td>SLPI</td>\n",
       "      <td>SLPI</td>\n",
       "      <td>1292.280884</td>\n",
       "      <td>1.0</td>\n",
       "      <td>PLSCR1</td>\n",
       "      <td>PLSCR1</td>\n",
       "      <td>36.042686</td>\n",
       "      <td>1.000000</td>\n",
       "      <td>mixed_Goblet2</td>\n",
       "      <td>ifn_Goblet</td>\n",
       "      <td>664.161804</td>\n",
       "      <td>0.0</td>\n",
       "    </tr>\n",
       "    <tr>\n",
       "      <th>734339</th>\n",
       "      <td>SLPI</td>\n",
       "      <td>SLPI</td>\n",
       "      <td>1292.280884</td>\n",
       "      <td>1.0</td>\n",
       "      <td>PLSCR1</td>\n",
       "      <td>PLSCR1</td>\n",
       "      <td>27.638779</td>\n",
       "      <td>0.998639</td>\n",
       "      <td>mixed_Goblet2</td>\n",
       "      <td>SERPINE1+Basal</td>\n",
       "      <td>659.959839</td>\n",
       "      <td>0.0</td>\n",
       "    </tr>\n",
       "    <tr>\n",
       "      <th>324490</th>\n",
       "      <td>SLPI</td>\n",
       "      <td>SLPI</td>\n",
       "      <td>1292.280884</td>\n",
       "      <td>1.0</td>\n",
       "      <td>PLSCR1</td>\n",
       "      <td>PLSCR1</td>\n",
       "      <td>24.531784</td>\n",
       "      <td>0.976589</td>\n",
       "      <td>mixed_Goblet2</td>\n",
       "      <td>KRT16+SupraB</td>\n",
       "      <td>658.406311</td>\n",
       "      <td>0.0</td>\n",
       "    </tr>\n",
       "    <tr>\n",
       "      <th>385296</th>\n",
       "      <td>SLPI</td>\n",
       "      <td>SLPI</td>\n",
       "      <td>1292.280884</td>\n",
       "      <td>1.0</td>\n",
       "      <td>PLSCR1</td>\n",
       "      <td>PLSCR1</td>\n",
       "      <td>21.717438</td>\n",
       "      <td>0.998129</td>\n",
       "      <td>mixed_Goblet2</td>\n",
       "      <td>MHCII+Club</td>\n",
       "      <td>656.999146</td>\n",
       "      <td>0.0</td>\n",
       "    </tr>\n",
       "    <tr>\n",
       "      <th>87863</th>\n",
       "      <td>SLPI</td>\n",
       "      <td>SLPI</td>\n",
       "      <td>1292.280884</td>\n",
       "      <td>1.0</td>\n",
       "      <td>PLSCR1</td>\n",
       "      <td>PLSCR1</td>\n",
       "      <td>20.917444</td>\n",
       "      <td>0.998349</td>\n",
       "      <td>mixed_Goblet2</td>\n",
       "      <td>DHRS9+Club</td>\n",
       "      <td>656.599182</td>\n",
       "      <td>0.0</td>\n",
       "    </tr>\n",
       "  </tbody>\n",
       "</table>\n",
       "</div>"
      ],
      "text/plain": [
       "       ligand ligand_complex  ligand_means  ligand_props receptor  \\\n",
       "961483   SLPI           SLPI   1292.280884           1.0   PLSCR1   \n",
       "734339   SLPI           SLPI   1292.280884           1.0   PLSCR1   \n",
       "324490   SLPI           SLPI   1292.280884           1.0   PLSCR1   \n",
       "385296   SLPI           SLPI   1292.280884           1.0   PLSCR1   \n",
       "87863    SLPI           SLPI   1292.280884           1.0   PLSCR1   \n",
       "\n",
       "       receptor_complex  receptor_means  receptor_props         source  \\\n",
       "961483           PLSCR1       36.042686        1.000000  mixed_Goblet2   \n",
       "734339           PLSCR1       27.638779        0.998639  mixed_Goblet2   \n",
       "324490           PLSCR1       24.531784        0.976589  mixed_Goblet2   \n",
       "385296           PLSCR1       21.717438        0.998129  mixed_Goblet2   \n",
       "87863            PLSCR1       20.917444        0.998349  mixed_Goblet2   \n",
       "\n",
       "                target    lr_means  cellphone_pvals  \n",
       "961483      ifn_Goblet  664.161804              0.0  \n",
       "734339  SERPINE1+Basal  659.959839              0.0  \n",
       "324490    KRT16+SupraB  658.406311              0.0  \n",
       "385296      MHCII+Club  656.999146              0.0  \n",
       "87863       DHRS9+Club  656.599182              0.0  "
      ]
     },
     "execution_count": 5,
     "metadata": {},
     "output_type": "execute_result"
    }
   ],
   "source": [
    "cellphonedb(adata_all, groupby = 'cell_states', \n",
    "            expr_prop = 0.1, \n",
    "            resource_name = 'consensus', \n",
    "            verbose = True, \n",
    "            key_added = 'cpdb_res',\n",
    "            use_raw = False)\n",
    "adata_all.uns['cpdb_res'].head()"
   ]
  },
  {
   "cell_type": "code",
   "execution_count": 6,
   "metadata": {},
   "outputs": [
    {
     "data": {
      "text/plain": [
       "Index(['APOD+Ciliated', 'CCDC3+Basal1', 'DHRS9+Club', 'FB-like_Basal',\n",
       "       'IGFBP6+Basal', 'IGFBP+Basal', 'ImmuneClub', 'Ionocyte',\n",
       "       'KRT14+AQP1+Secretory', 'KRT14+Goblet', 'KRT16+SupraB', 'KRT17+Goblet',\n",
       "       'MHCII+Club', 'MKI67+pBasal', 'MUC5B+Goblet', 'NOTCH3+SupraB',\n",
       "       'NOTCH+Basal2', 'OASiav_Ciliated', 'OMG+Ciliated', 'RARRES1+lip_Goblet',\n",
       "       'S100A2+Basal', 'SCGB1+KRT5-FOXA1+iav_Club', 'SCGB1A1+Deutero',\n",
       "       'SCGB1A1+Goblet', 'SERPINE1+Basal', 'SERPINE2+Basal', 'TCN1+Club',\n",
       "       'TNC+Basal', 'iav-lip_Club', 'iavAPC_Epi', 'iav_Goblet', 'ifn_Basal',\n",
       "       'ifn_Goblet', 'mixed_Goblet1', 'mixed_Goblet2', 'p53_Ciliated'],\n",
       "      dtype='object')"
      ]
     },
     "execution_count": 6,
     "metadata": {},
     "output_type": "execute_result"
    }
   ],
   "source": [
    "adata_all.obs['cell_states'].cat.categories"
   ]
  },
  {
   "cell_type": "markdown",
   "metadata": {},
   "source": [
    "### Run `cellchat` for trial"
   ]
  },
  {
   "cell_type": "code",
   "execution_count": null,
   "metadata": {},
   "outputs": [],
   "source": [
    "cellchat(adata_all, groupby = 'cell_states', \n",
    "            expr_prop = 0.1, \n",
    "            resource_name = 'consensus', \n",
    "            verbose = True, \n",
    "            key_added = 'ccdb_res',\n",
    "            use_raw = False)\n",
    "adata_all.uns['ccdb_res'].head()"
   ]
  },
  {
   "cell_type": "code",
   "execution_count": null,
   "metadata": {},
   "outputs": [],
   "source": [
    "li.pl.dotplot(adata = adata_all,\n",
    "              colour = 'lr_probs',\n",
    "              size = 'cellchat_pvals',\n",
    "              inverse_size = True, \n",
    "              source_labels = ['SERPINE1+Basal', 'SERPINE2+Basal', 'iavAPC_Epi', 'MHCII+Club', 'TNC+Basal'],\n",
    "              target_labels = ['SERPINE1+Basal', 'SERPINE2+Basal', 'iavAPC_Epi', 'MHCII+Club', 'TNC+Basal'],\n",
    "              figure_size = (25, 50),\n",
    "              filterby = 'cellchat_pvals',\n",
    "              filter_lambda = lambda x: x <= 0.05,\n",
    "              uns_key = 'ccdb_res',\n",
    "              cmap = 'magma'\n",
    "             )"
   ]
  },
  {
   "cell_type": "code",
   "execution_count": null,
   "metadata": {},
   "outputs": [],
   "source": [
    "my_plot = li.pl.tileplot(adata = adata_all,\n",
    "                         # NOTE: fill & label need to exist for both\n",
    "                         # ligand_ and receptor_ columns\n",
    "                         fill = 'cellchat_pvals',\n",
    "                         label = 'lr_probs',\n",
    "                         label_fun = lambda x: f'{x:.2f}',\n",
    "                         top_n = 10,\n",
    "                         orderby = 'cellchat_pvals',\n",
    "                         orderby_ascending = True,\n",
    "                         figure_size = (20, 10),\n",
    "                         source_labels = ['SERPINE1+Basal', 'SERPINE2+Basal', 'iavAPC_Epi', 'MHCII+Club', 'TNC+Basal'],\n",
    "                         target_labels = ['SERPINE1+Basal', 'SERPINE2+Basal', 'iavAPC_Epi', 'MHCII+Club', 'TNC+Basal'],\n",
    "                         uns_key = 'ccdb_res'\n",
    "                         )\n",
    "my_plot"
   ]
  },
  {
   "cell_type": "markdown",
   "metadata": {},
   "source": [
    "### Run aggregated estimate "
   ]
  },
  {
   "cell_type": "code",
   "execution_count": 23,
   "metadata": {},
   "outputs": [
    {
     "name": "stderr",
     "output_type": "stream",
     "text": [
      "Using `.X`!\n",
      "/Users/cartalop/miniforge3/envs/liana+/lib/python3.11/site-packages/anndata/_core/anndata.py:430: FutureWarning: The dtype argument is deprecated and will be removed in late 2024.\n",
      "Make sure that normalized counts are passed!\n",
      "/Users/cartalop/miniforge3/envs/liana+/lib/python3.11/site-packages/liana/method/_pipe_utils/_pre.py:153: FutureWarning: The default of observed=False is deprecated and will be changed to True in a future version of pandas. Pass observed=False to retain current behavior or observed=True to adopt the future default and silence this warning.\n",
      "['NC_026431.1', 'NC_026432.1', 'NC_026433.1', 'NC_026434.1', 'NC_026435.1', 'NC_026436.1', 'NC_026437.1', 'NC_026438.1'] contain `_`. Consider replacing those!\n",
      "Using resource `consensus`.\n",
      "0.09 of entities in the resource are missing from the data.\n"
     ]
    },
    {
     "name": "stdout",
     "output_type": "stream",
     "text": [
      "Generating ligand-receptor stats for 97573 samples and 1693 features\n",
      "... as `zero_center=True`, sparse input is densified and may lead to large memory consumption\n"
     ]
    },
    {
     "name": "stderr",
     "output_type": "stream",
     "text": [
      "/Users/cartalop/miniforge3/envs/liana+/lib/python3.11/site-packages/liana/method/sc/_liana_pipe.py:256: ImplicitModificationWarning: Setting element `.layers['scaled']` of view, initializing view as actual.\n"
     ]
    },
    {
     "name": "stdout",
     "output_type": "stream",
     "text": [
      "Assuming that counts were `natural` log-normalized!\n"
     ]
    },
    {
     "name": "stderr",
     "output_type": "stream",
     "text": [
      "/Users/cartalop/miniforge3/envs/liana+/lib/python3.11/site-packages/liana/method/sc/_liana_pipe.py:354: RuntimeWarning: overflow encountered in power\n",
      "/Users/cartalop/miniforge3/envs/liana+/lib/python3.11/site-packages/liana/method/sc/_liana_pipe.py:348: RuntimeWarning: invalid value encountered in subtract\n",
      "/Users/cartalop/miniforge3/envs/liana+/lib/python3.11/site-packages/liana/method/sc/_liana_pipe.py:348: RuntimeWarning: invalid value encountered in subtract\n",
      "/Users/cartalop/miniforge3/envs/liana+/lib/python3.11/site-packages/liana/method/sc/_liana_pipe.py:348: RuntimeWarning: invalid value encountered in subtract\n",
      "/Users/cartalop/miniforge3/envs/liana+/lib/python3.11/site-packages/liana/method/sc/_liana_pipe.py:348: RuntimeWarning: invalid value encountered in subtract\n",
      "/Users/cartalop/miniforge3/envs/liana+/lib/python3.11/site-packages/liana/method/sc/_liana_pipe.py:348: RuntimeWarning: invalid value encountered in subtract\n",
      "/Users/cartalop/miniforge3/envs/liana+/lib/python3.11/site-packages/liana/method/sc/_liana_pipe.py:348: RuntimeWarning: invalid value encountered in subtract\n",
      "/Users/cartalop/miniforge3/envs/liana+/lib/python3.11/site-packages/liana/method/sc/_liana_pipe.py:348: RuntimeWarning: invalid value encountered in subtract\n",
      "/Users/cartalop/miniforge3/envs/liana+/lib/python3.11/site-packages/liana/method/sc/_liana_pipe.py:348: RuntimeWarning: invalid value encountered in subtract\n",
      "/Users/cartalop/miniforge3/envs/liana+/lib/python3.11/site-packages/liana/method/sc/_liana_pipe.py:348: RuntimeWarning: invalid value encountered in subtract\n",
      "/Users/cartalop/miniforge3/envs/liana+/lib/python3.11/site-packages/liana/method/sc/_liana_pipe.py:348: RuntimeWarning: invalid value encountered in subtract\n",
      "/Users/cartalop/miniforge3/envs/liana+/lib/python3.11/site-packages/liana/method/sc/_liana_pipe.py:348: RuntimeWarning: invalid value encountered in subtract\n",
      "/Users/cartalop/miniforge3/envs/liana+/lib/python3.11/site-packages/liana/method/sc/_liana_pipe.py:348: RuntimeWarning: invalid value encountered in subtract\n",
      "/Users/cartalop/miniforge3/envs/liana+/lib/python3.11/site-packages/liana/method/sc/_liana_pipe.py:348: RuntimeWarning: invalid value encountered in subtract\n",
      "/Users/cartalop/miniforge3/envs/liana+/lib/python3.11/site-packages/liana/method/sc/_liana_pipe.py:348: RuntimeWarning: invalid value encountered in subtract\n",
      "/Users/cartalop/miniforge3/envs/liana+/lib/python3.11/site-packages/liana/method/sc/_liana_pipe.py:348: RuntimeWarning: invalid value encountered in subtract\n",
      "/Users/cartalop/miniforge3/envs/liana+/lib/python3.11/site-packages/liana/method/sc/_liana_pipe.py:348: RuntimeWarning: invalid value encountered in subtract\n",
      "/Users/cartalop/miniforge3/envs/liana+/lib/python3.11/site-packages/liana/method/sc/_liana_pipe.py:348: RuntimeWarning: invalid value encountered in subtract\n",
      "/Users/cartalop/miniforge3/envs/liana+/lib/python3.11/site-packages/liana/method/sc/_liana_pipe.py:348: RuntimeWarning: invalid value encountered in subtract\n",
      "/Users/cartalop/miniforge3/envs/liana+/lib/python3.11/site-packages/liana/method/sc/_liana_pipe.py:348: RuntimeWarning: invalid value encountered in subtract\n",
      "/Users/cartalop/miniforge3/envs/liana+/lib/python3.11/site-packages/liana/method/sc/_liana_pipe.py:348: RuntimeWarning: invalid value encountered in subtract\n",
      "/Users/cartalop/miniforge3/envs/liana+/lib/python3.11/site-packages/liana/method/sc/_liana_pipe.py:348: RuntimeWarning: invalid value encountered in subtract\n",
      "/Users/cartalop/miniforge3/envs/liana+/lib/python3.11/site-packages/liana/method/sc/_liana_pipe.py:348: RuntimeWarning: invalid value encountered in subtract\n",
      "/Users/cartalop/miniforge3/envs/liana+/lib/python3.11/site-packages/liana/method/sc/_liana_pipe.py:348: RuntimeWarning: invalid value encountered in subtract\n",
      "/Users/cartalop/miniforge3/envs/liana+/lib/python3.11/site-packages/liana/method/sc/_liana_pipe.py:348: RuntimeWarning: invalid value encountered in subtract\n",
      "/Users/cartalop/miniforge3/envs/liana+/lib/python3.11/site-packages/liana/method/sc/_liana_pipe.py:348: RuntimeWarning: invalid value encountered in subtract\n",
      "/Users/cartalop/miniforge3/envs/liana+/lib/python3.11/site-packages/liana/method/sc/_liana_pipe.py:348: RuntimeWarning: invalid value encountered in subtract\n",
      "/Users/cartalop/miniforge3/envs/liana+/lib/python3.11/site-packages/liana/method/sc/_liana_pipe.py:348: RuntimeWarning: invalid value encountered in subtract\n",
      "/Users/cartalop/miniforge3/envs/liana+/lib/python3.11/site-packages/liana/method/sc/_liana_pipe.py:348: RuntimeWarning: invalid value encountered in subtract\n",
      "/Users/cartalop/miniforge3/envs/liana+/lib/python3.11/site-packages/liana/method/sc/_liana_pipe.py:348: RuntimeWarning: invalid value encountered in subtract\n",
      "/Users/cartalop/miniforge3/envs/liana+/lib/python3.11/site-packages/liana/method/sc/_liana_pipe.py:348: RuntimeWarning: invalid value encountered in subtract\n",
      "/Users/cartalop/miniforge3/envs/liana+/lib/python3.11/site-packages/liana/method/sc/_liana_pipe.py:348: RuntimeWarning: invalid value encountered in subtract\n",
      "/Users/cartalop/miniforge3/envs/liana+/lib/python3.11/site-packages/liana/method/sc/_liana_pipe.py:348: RuntimeWarning: invalid value encountered in subtract\n",
      "/Users/cartalop/miniforge3/envs/liana+/lib/python3.11/site-packages/liana/method/sc/_liana_pipe.py:348: RuntimeWarning: invalid value encountered in subtract\n",
      "/Users/cartalop/miniforge3/envs/liana+/lib/python3.11/site-packages/liana/method/sc/_liana_pipe.py:348: RuntimeWarning: invalid value encountered in subtract\n",
      "/Users/cartalop/miniforge3/envs/liana+/lib/python3.11/site-packages/liana/method/sc/_liana_pipe.py:348: RuntimeWarning: invalid value encountered in subtract\n",
      "/Users/cartalop/miniforge3/envs/liana+/lib/python3.11/site-packages/liana/method/sc/_liana_pipe.py:348: RuntimeWarning: invalid value encountered in subtract\n"
     ]
    },
    {
     "name": "stdout",
     "output_type": "stream",
     "text": [
      "Running CellPhoneDB\n"
     ]
    },
    {
     "name": "stderr",
     "output_type": "stream",
     "text": [
      "100%|██████████| 1000/1000 [02:48<00:00,  5.94it/s]\n"
     ]
    }
   ],
   "source": [
    "li.mt.rank_aggregate(adata_all, groupby = 'cell_states', expr_prop = 0.1, verbose = True, use_raw = False)\n",
    "adata_all.uns['liana_res'].head()"
   ]
  },
  {
   "cell_type": "code",
   "execution_count": null,
   "metadata": {},
   "outputs": [],
   "source": [
    "rank_aggregate.describe()"
   ]
  },
  {
   "cell_type": "code",
   "execution_count": null,
   "metadata": {},
   "outputs": [],
   "source": []
  }
 ],
 "metadata": {
  "kernelspec": {
   "display_name": "liana+",
   "language": "python",
   "name": "python3"
  },
  "language_info": {
   "codemirror_mode": {
    "name": "ipython",
    "version": 3
   },
   "file_extension": ".py",
   "mimetype": "text/x-python",
   "name": "python",
   "nbconvert_exporter": "python",
   "pygments_lexer": "ipython3",
   "version": "3.11.9"
  }
 },
 "nbformat": 4,
 "nbformat_minor": 2
}
