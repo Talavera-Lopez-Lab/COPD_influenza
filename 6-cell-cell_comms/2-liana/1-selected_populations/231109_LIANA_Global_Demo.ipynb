{
 "cells": [
  {
   "cell_type": "markdown",
   "metadata": {},
   "source": [
    "### Notebook for the inference of cell-cell communications on COPD-IAV data using `LIANA+`\n",
    "\n",
    "- **Developed by**: Carlos Talavera-López\n",
    "- **Würzburg Institute for Systems Immunology, Faculty of Medicine, Julius-Maximilian-Universität Würzburg**\n",
    "- **Created**: 231109\n",
    "- **Latest version**: 231109"
   ]
  },
  {
   "cell_type": "markdown",
   "metadata": {},
   "source": [
    "### Import required modules"
   ]
  },
  {
   "cell_type": "code",
   "execution_count": 1,
   "metadata": {},
   "outputs": [],
   "source": [
    "import anndata\n",
    "import numpy as np\n",
    "import liana as li\n",
    "import pandas as pd\n",
    "import scanpy as sc"
   ]
  },
  {
   "cell_type": "markdown",
   "metadata": {},
   "source": [
    "### Set up working environment"
   ]
  },
  {
   "cell_type": "code",
   "execution_count": 2,
   "metadata": {},
   "outputs": [
    {
     "name": "stdout",
     "output_type": "stream",
     "text": [
      "-----\n",
      "anndata     0.10.3\n",
      "scanpy      1.9.6\n",
      "-----\n",
      "PIL                 10.1.0\n",
      "appnope             0.1.3\n",
      "asttokens           NA\n",
      "comm                0.2.0\n",
      "cycler              0.12.1\n",
      "cython_runtime      NA\n",
      "dateutil            2.8.2\n",
      "debugpy             1.8.0\n",
      "decorator           5.1.1\n",
      "exceptiongroup      1.1.3\n",
      "executing           2.0.1\n",
      "h5py                3.10.0\n",
      "ipykernel           6.26.0\n",
      "ipywidgets          8.1.1\n",
      "jedi                0.19.1\n",
      "joblib              1.3.2\n",
      "kiwisolver          1.4.5\n",
      "liana               1.0.2\n",
      "llvmlite            0.41.1\n",
      "matplotlib          3.8.1\n",
      "mizani              0.9.3\n",
      "mpl_toolkits        NA\n",
      "mudata              0.2.3\n",
      "natsort             8.4.0\n",
      "numba               0.58.1\n",
      "numpy               1.26.1\n",
      "packaging           23.2\n",
      "pandas              2.1.1\n",
      "parso               0.8.3\n",
      "patsy               0.5.3\n",
      "pexpect             4.8.0\n",
      "platformdirs        3.11.0\n",
      "plotnine            0.12.4\n",
      "prompt_toolkit      3.0.39\n",
      "psutil              5.9.6\n",
      "ptyprocess          0.7.0\n",
      "pure_eval           0.2.2\n",
      "pydev_ipython       NA\n",
      "pydevconsole        NA\n",
      "pydevd              2.9.5\n",
      "pydevd_file_utils   NA\n",
      "pydevd_plugins      NA\n",
      "pydevd_tracing      NA\n",
      "pygments            2.16.1\n",
      "pyparsing           3.1.1\n",
      "pytz                2023.3.post1\n",
      "scipy               1.11.3\n",
      "session_info        1.0.0\n",
      "six                 1.16.0\n",
      "sklearn             1.3.2\n",
      "stack_data          0.6.3\n",
      "statsmodels         0.14.0\n",
      "threadpoolctl       3.2.0\n",
      "tornado             6.3.3\n",
      "tqdm                4.66.1\n",
      "traitlets           5.13.0\n",
      "wcwidth             0.2.9\n",
      "zmq                 25.1.1\n",
      "zoneinfo            NA\n",
      "-----\n",
      "IPython             8.17.2\n",
      "jupyter_client      8.6.0\n",
      "jupyter_core        5.5.0\n",
      "-----\n",
      "Python 3.10.13 | packaged by conda-forge | (main, Oct 26 2023, 18:09:17) [Clang 16.0.6 ]\n",
      "macOS-14.1-arm64-arm-64bit\n",
      "-----\n",
      "Session information updated at 2023-11-09 11:19\n"
     ]
    }
   ],
   "source": [
    "sc.settings.verbosity = 3\n",
    "sc.logging.print_versions()\n",
    "sc.settings.set_figure_params(dpi = 180, color_map = 'magma_r', dpi_save = 300, vector_friendly = True, format = 'svg')"
   ]
  },
  {
   "cell_type": "markdown",
   "metadata": {},
   "source": [
    "### Read in data"
   ]
  },
  {
   "cell_type": "code",
   "execution_count": 3,
   "metadata": {},
   "outputs": [
    {
     "name": "stderr",
     "output_type": "stream",
     "text": [
      "/Users/cartalop/mambaforge/envs/liana+/lib/python3.10/site-packages/anndata/__init__.py:51: FutureWarning: `anndata.read` is deprecated, use `anndata.read_h5ad` instead. `ad.read` will be removed in mid 2024.\n"
     ]
    }
   ],
   "source": [
    "adata_all = sc.read_h5ad('../../../data/Marburg_cell_states_locked_scANVI_ctl230901.raw.h5ad') \n",
    "adata_all"
   ]
  },
  {
   "cell_type": "code",
   "execution_count": null,
   "metadata": {},
   "outputs": [],
   "source": []
  }
 ],
 "metadata": {
  "kernelspec": {
   "display_name": "liana+",
   "language": "python",
   "name": "python3"
  },
  "language_info": {
   "codemirror_mode": {
    "name": "ipython",
    "version": 3
   },
   "file_extension": ".py",
   "mimetype": "text/x-python",
   "name": "python",
   "nbconvert_exporter": "python",
   "pygments_lexer": "ipython3",
   "version": "3.10.13"
  }
 },
 "nbformat": 4,
 "nbformat_minor": 2
}
