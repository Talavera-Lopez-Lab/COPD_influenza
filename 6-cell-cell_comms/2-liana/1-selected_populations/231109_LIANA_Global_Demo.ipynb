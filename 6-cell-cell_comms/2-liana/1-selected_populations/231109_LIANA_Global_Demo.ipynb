{
 "cells": [
  {
   "cell_type": "markdown",
   "metadata": {},
   "source": [
    "### Notebook for the inference of cell-cell communications on COPD-IAV data using `LIANA+`\n",
    "\n",
    "- **Developed by**: Carlos Talavera-López\n",
    "- **Würzburg Institute for Systems Immunology, Faculty of Medicine, Julius-Maximilian-Universität Würzburg**\n",
    "- **Created**: 231109\n",
    "- **Latest version**: 231109"
   ]
  },
  {
   "cell_type": "markdown",
   "metadata": {},
   "source": [
    "### Import required modules"
   ]
  },
  {
   "cell_type": "code",
   "execution_count": null,
   "metadata": {},
   "outputs": [],
   "source": [
    "import anndata\n",
    "import numpy as np\n",
    "import liana as li\n",
    "import pandas as pd\n",
    "import scanpy as sc\n",
    "\n",
    "from liana.method import singlecellsignalr, connectome, cellphonedb, natmi, logfc, cellchat, geometric_mean"
   ]
  },
  {
   "cell_type": "markdown",
   "metadata": {},
   "source": [
    "### Set up working environment"
   ]
  },
  {
   "cell_type": "code",
   "execution_count": null,
   "metadata": {},
   "outputs": [],
   "source": [
    "sc.settings.verbosity = 3\n",
    "sc.logging.print_versions()\n",
    "sc.settings.set_figure_params(dpi = 180, color_map = 'magma_r', dpi_save = 300, vector_friendly = True, format = 'svg')"
   ]
  },
  {
   "cell_type": "markdown",
   "metadata": {},
   "source": [
    "### Read in data"
   ]
  },
  {
   "cell_type": "code",
   "execution_count": null,
   "metadata": {},
   "outputs": [],
   "source": [
    "adata_all = sc.read_h5ad('../../../data/Marburg_cell_states_locked_scANVI_ctl230901.raw.h5ad') \n",
    "adata_all"
   ]
  },
  {
   "cell_type": "markdown",
   "metadata": {},
   "source": [
    "### Check `LIANA+` available methods"
   ]
  },
  {
   "cell_type": "code",
   "execution_count": null,
   "metadata": {},
   "outputs": [],
   "source": [
    "li.mt.show_methods()"
   ]
  },
  {
   "cell_type": "markdown",
   "metadata": {},
   "source": [
    "### Run `cellphoneDB` for trial"
   ]
  },
  {
   "cell_type": "code",
   "execution_count": null,
   "metadata": {},
   "outputs": [],
   "source": [
    "cellphonedb(adata_all, groupby = 'cell_states', \n",
    "            expr_prop = 0.1, \n",
    "            resource_name = 'consensus', \n",
    "            verbose = True, \n",
    "            key_added = 'cpdb_res',\n",
    "            use_raw = False)\n",
    "adata_all.uns['cpdb_res'].head()"
   ]
  },
  {
   "cell_type": "code",
   "execution_count": null,
   "metadata": {},
   "outputs": [],
   "source": [
    "adata_all.obs['cell_states'].cat.categories"
   ]
  },
  {
   "cell_type": "markdown",
   "metadata": {},
   "source": [
    "### Visualise `cellphoneDB` interactions using a dotplot"
   ]
  },
  {
   "cell_type": "code",
   "execution_count": null,
   "metadata": {},
   "outputs": [],
   "source": [
    "li.pl.dotplot(adata = adata_all,\n",
    "              colour = 'lr_means',\n",
    "              size = 'cellphone_pvals',\n",
    "              inverse_size = True, \n",
    "              source_labels = ['SERPINE1+Basal', 'SERPINE2+Basal', 'iavAPC_Epi', 'MHCII+Club', 'TNC+Basal'],\n",
    "              target_labels = ['SERPINE1+Basal', 'SERPINE2+Basal', 'iavAPC_Epi', 'MHCII+Club', 'TNC+Basal'],\n",
    "              figure_size = (25, 50),\n",
    "              filterby = 'cellphone_pvals',\n",
    "              filter_lambda = lambda x: x <= 0.05,\n",
    "              uns_key = 'cpdb_res',\n",
    "              cmap = 'magma'\n",
    "             )"
   ]
  },
  {
   "cell_type": "code",
   "execution_count": null,
   "metadata": {},
   "outputs": [],
   "source": [
    "my_plot = li.pl.tileplot(adata = adata_all,\n",
    "                         # NOTE: fill & label need to exist for both\n",
    "                         # ligand_ and receptor_ columns\n",
    "                         fill = 'means',\n",
    "                         label = 'props',\n",
    "                         label_fun = lambda x: f'{x:.2f}',\n",
    "                         top_n = 10,\n",
    "                         orderby = 'cellphone_pvals',\n",
    "                         orderby_ascending = True,\n",
    "                         figure_size = (20, 10),\n",
    "                         source_labels = ['SERPINE1+Basal', 'SERPINE2+Basal', 'iavAPC_Epi', 'MHCII+Club', 'TNC+Basal'],\n",
    "                         target_labels = ['SERPINE1+Basal', 'SERPINE2+Basal', 'iavAPC_Epi', 'MHCII+Club', 'TNC+Basal'],\n",
    "                         uns_key = 'cpdb_res'\n",
    "                         )\n",
    "my_plot"
   ]
  },
  {
   "cell_type": "markdown",
   "metadata": {},
   "source": [
    "### Run `cellchat` for trial"
   ]
  },
  {
   "cell_type": "code",
   "execution_count": null,
   "metadata": {},
   "outputs": [],
   "source": [
    "cellchat(adata_all, groupby = 'cell_states', \n",
    "            expr_prop = 0.1, \n",
    "            resource_name = 'consensus', \n",
    "            verbose = True, \n",
    "            key_added = 'ccdb_res',\n",
    "            use_raw = False)\n",
    "adata_all.uns['ccdb_res'].head()"
   ]
  },
  {
   "cell_type": "code",
   "execution_count": null,
   "metadata": {},
   "outputs": [],
   "source": [
    "li.pl.dotplot(adata = adata_all,\n",
    "              colour = 'lr_probs',\n",
    "              size = 'cellchat_pvals',\n",
    "              inverse_size = True, \n",
    "              source_labels = ['SERPINE1+Basal', 'SERPINE2+Basal', 'iavAPC_Epi', 'MHCII+Club', 'TNC+Basal'],\n",
    "              target_labels = ['SERPINE1+Basal', 'SERPINE2+Basal', 'iavAPC_Epi', 'MHCII+Club', 'TNC+Basal'],\n",
    "              figure_size = (25, 50),\n",
    "              filterby = 'cellchat_pvals',\n",
    "              filter_lambda = lambda x: x <= 0.05,\n",
    "              uns_key = 'ccdb_res',\n",
    "              cmap = 'magma'\n",
    "             )"
   ]
  },
  {
   "cell_type": "code",
   "execution_count": null,
   "metadata": {},
   "outputs": [],
   "source": [
    "my_plot = li.pl.tileplot(adata = adata_all,\n",
    "                         # NOTE: fill & label need to exist for both\n",
    "                         # ligand_ and receptor_ columns\n",
    "                         fill = 'cellchat_pvals',\n",
    "                         label = 'lr_probs',\n",
    "                         label_fun = lambda x: f'{x:.2f}',\n",
    "                         top_n = 10,\n",
    "                         orderby = 'cellchat_pvals',\n",
    "                         orderby_ascending = True,\n",
    "                         figure_size = (20, 10),\n",
    "                         source_labels = ['SERPINE1+Basal', 'SERPINE2+Basal', 'iavAPC_Epi', 'MHCII+Club', 'TNC+Basal'],\n",
    "                         target_labels = ['SERPINE1+Basal', 'SERPINE2+Basal', 'iavAPC_Epi', 'MHCII+Club', 'TNC+Basal'],\n",
    "                         uns_key = 'ccdb_res'\n",
    "                         )\n",
    "my_plot"
   ]
  },
  {
   "cell_type": "markdown",
   "metadata": {},
   "source": [
    "### Run aggregated estimate "
   ]
  },
  {
   "cell_type": "code",
   "execution_count": null,
   "metadata": {},
   "outputs": [],
   "source": [
    "li.mt.rank_aggregate(adata_all, groupby = 'cell_states', expr_prop = 0.1, verbose = True, use_raw = False)\n",
    "adata_all.uns['liana_res'].head()"
   ]
  },
  {
   "cell_type": "code",
   "execution_count": null,
   "metadata": {},
   "outputs": [],
   "source": [
    "rank_aggregate.describe()"
   ]
  },
  {
   "cell_type": "code",
   "execution_count": null,
   "metadata": {},
   "outputs": [],
   "source": []
  }
 ],
 "metadata": {
  "kernelspec": {
   "display_name": "liana+",
   "language": "python",
   "name": "python3"
  },
  "language_info": {
   "codemirror_mode": {
    "name": "ipython",
    "version": 3
   },
   "file_extension": ".py",
   "mimetype": "text/x-python",
   "name": "python",
   "nbconvert_exporter": "python",
   "pygments_lexer": "ipython3",
   "version": "3.10.13"
  }
 },
 "nbformat": 4,
 "nbformat_minor": 2
}
