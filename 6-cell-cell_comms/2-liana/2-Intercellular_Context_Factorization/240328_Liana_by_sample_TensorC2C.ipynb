{
 "cells": [
  {
   "cell_type": "markdown",
   "metadata": {},
   "source": [
    "# Intercellular Context Factorization with Tensor-Cell2cell\n",
    "[According to the liana docs](https://liana-py.readthedocs.io/en/latest/notebooks/liana_c2c.html^)\n",
    "- Developed by: Christian Eger\n",
    "- Würzburg Institute for Systems Immunology - Faculty of Medicine - Julius Maximilian Universität Würzburg\n",
    "- Created on: 240328\n",
    "- Last modified: 240419<br>"
   ]
  },
  {
   "cell_type": "markdown",
   "metadata": {},
   "source": [
    "## Importing necessary modules"
   ]
  },
  {
   "cell_type": "code",
   "execution_count": 2,
   "metadata": {},
   "outputs": [],
   "source": [
    "import scanpy as sc\n",
    "import plotnine as p9\n",
    "\n",
    "import liana as li\n",
    "import cell2cell as c2c\n",
    "import decoupler as dc # needed for pathway analysis\n",
    "\n",
    "import warnings\n",
    "warnings.filterwarnings('ignore')\n",
    "from collections import defaultdict"
   ]
  },
  {
   "cell_type": "markdown",
   "metadata": {},
   "source": [
    "## Reading Anndata file"
   ]
  },
  {
   "cell_type": "code",
   "execution_count": 3,
   "metadata": {},
   "outputs": [],
   "source": [
    "adata = sc.read_h5ad(\"/mnt/LaCIE/ceger/Projects/COPD/Marburg_cell_states_locked_scANVI_ctl230901.raw.h5ad\")"
   ]
  },
  {
   "cell_type": "markdown",
   "metadata": {},
   "source": [
    "## Performing a liana rank aggregate analysis per sample"
   ]
  },
  {
   "cell_type": "code",
   "execution_count": 4,
   "metadata": {},
   "outputs": [],
   "source": [
    "sample_key = 'batch'\n",
    "condition_key = 'group'\n",
    "groupby = 'cell_states'"
   ]
  },
  {
   "cell_type": "code",
   "execution_count": 5,
   "metadata": {},
   "outputs": [],
   "source": [
    "# log1p normalizing adata.X matrix\n",
    "sc.pp.normalize_total(adata, target_sum = 1e6, exclude_highly_expressed = True)\n",
    "sc.pp.log1p(adata)"
   ]
  },
  {
   "cell_type": "code",
   "execution_count": 6,
   "metadata": {},
   "outputs": [
    {
     "data": {
      "text/plain": [
       "defaultdict(<function __main__.<lambda>()>,\n",
       "            {'ST07_CSE_CTRL': 'healthy_ctrl',\n",
       "             'CSE_06_CRTL': 'healthy_ctrl',\n",
       "             'GER14_CRTL': 'healthy_ctrl',\n",
       "             'GnR08_CTRL': 'healthy_ctrl',\n",
       "             'GER12_CTRL': 'healthy_ctrl',\n",
       "             'GER02_CTRL': 'healthy_ctrl',\n",
       "             'ST08_GnR_CTRL': 'healthy_iav',\n",
       "             'CSE_06_IAV': 'healthy_iav',\n",
       "             'GER14_IAV': 'healthy_iav',\n",
       "             'GnR08_IAV': 'healthy_iav',\n",
       "             'GER12_IAV': 'healthy_iav',\n",
       "             'GER02_IAV': 'healthy_iav',\n",
       "             'ST09_CSE_IAV': 'copd_ctrl',\n",
       "             'GnR_07_CTRL': 'copd_ctrl',\n",
       "             'CHE01_CTRL': 'copd_ctrl',\n",
       "             'CHE02_CTRL': 'copd_ctrl',\n",
       "             'CHE03_CTRL': 'copd_ctrl',\n",
       "             'CSE03_CTRL': 'copd_ctrl',\n",
       "             'ST10_GnR_IAV': 'copd_iav',\n",
       "             'GnR_07_IAV': 'copd_iav',\n",
       "             'CHE01_IAV': 'copd_iav',\n",
       "             'CHE02_IAV': 'copd_iav',\n",
       "             'CHE03_IAV': 'copd_iav',\n",
       "             'CSE03_IAV': 'copd_iav'})"
      ]
     },
     "execution_count": 6,
     "metadata": {},
     "output_type": "execute_result"
    }
   ],
   "source": [
    "context_dict = adata.obs[[sample_key, condition_key]].drop_duplicates()\n",
    "context_dict = dict(zip(context_dict[sample_key], context_dict[condition_key]))\n",
    "context_dict = defaultdict(lambda: 'Unknown', context_dict)\n",
    "context_dict"
   ]
  },
  {
   "cell_type": "code",
   "execution_count": 8,
   "metadata": {},
   "outputs": [
    {
     "name": "stderr",
     "output_type": "stream",
     "text": [
      "Now running: CHE01_CTRL:   0%|          | 0/24 [00:00<?, ?it/s]"
     ]
    },
    {
     "name": "stdout",
     "output_type": "stream",
     "text": [
      "test message\n"
     ]
    },
    {
     "name": "stderr",
     "output_type": "stream",
     "text": [
      "Now running: CHE01_IAV:   4%|▍         | 1/24 [06:02<2:18:55, 362.41s/it] "
     ]
    },
    {
     "name": "stdout",
     "output_type": "stream",
     "text": [
      "test message\n"
     ]
    },
    {
     "name": "stderr",
     "output_type": "stream",
     "text": [
      "Now running: CHE02_CTRL:   8%|▊         | 2/24 [12:56<2:24:00, 392.75s/it]"
     ]
    },
    {
     "name": "stdout",
     "output_type": "stream",
     "text": [
      "test message\n"
     ]
    },
    {
     "name": "stderr",
     "output_type": "stream",
     "text": [
      "Now running: CHE02_IAV:  12%|█▎        | 3/24 [18:10<2:04:53, 356.82s/it] "
     ]
    },
    {
     "name": "stdout",
     "output_type": "stream",
     "text": [
      "test message\n"
     ]
    },
    {
     "name": "stderr",
     "output_type": "stream",
     "text": [
      "Now running: CHE03_CTRL:  17%|█▋        | 4/24 [27:40<2:26:57, 440.87s/it]"
     ]
    },
    {
     "name": "stdout",
     "output_type": "stream",
     "text": [
      "test message\n"
     ]
    },
    {
     "name": "stderr",
     "output_type": "stream",
     "text": [
      "Now running: CHE03_IAV:  21%|██        | 5/24 [33:31<2:09:23, 408.62s/it] "
     ]
    },
    {
     "name": "stdout",
     "output_type": "stream",
     "text": [
      "test message\n"
     ]
    },
    {
     "name": "stderr",
     "output_type": "stream",
     "text": [
      "Now running: CSE03_CTRL:  25%|██▌       | 6/24 [41:05<2:07:09, 423.84s/it]"
     ]
    },
    {
     "name": "stdout",
     "output_type": "stream",
     "text": [
      "test message\n"
     ]
    },
    {
     "name": "stderr",
     "output_type": "stream",
     "text": [
      "Now running: CSE03_IAV:  29%|██▉       | 7/24 [47:10<1:54:38, 404.62s/it] "
     ]
    },
    {
     "name": "stdout",
     "output_type": "stream",
     "text": [
      "test message\n"
     ]
    },
    {
     "name": "stderr",
     "output_type": "stream",
     "text": [
      "Now running: CSE_06_CRTL:  33%|███▎      | 8/24 [55:53<1:58:00, 442.55s/it]"
     ]
    },
    {
     "name": "stdout",
     "output_type": "stream",
     "text": [
      "test message\n"
     ]
    },
    {
     "name": "stderr",
     "output_type": "stream",
     "text": [
      "Now running: CSE_06_IAV:  38%|███▊      | 9/24 [1:00:30<1:37:39, 390.62s/it] "
     ]
    },
    {
     "name": "stdout",
     "output_type": "stream",
     "text": [
      "test message\n"
     ]
    },
    {
     "name": "stderr",
     "output_type": "stream",
     "text": [
      "Now running: GER02_CTRL:  42%|████▏     | 10/24 [1:07:46<1:34:26, 404.74s/it]"
     ]
    },
    {
     "name": "stdout",
     "output_type": "stream",
     "text": [
      "test message\n"
     ]
    },
    {
     "name": "stderr",
     "output_type": "stream",
     "text": [
      "Now running: GER02_IAV:  46%|████▌     | 11/24 [1:12:57<1:21:26, 375.90s/it] "
     ]
    },
    {
     "name": "stdout",
     "output_type": "stream",
     "text": [
      "test message\n"
     ]
    },
    {
     "name": "stderr",
     "output_type": "stream",
     "text": [
      "Now running: GER12_CTRL:  50%|█████     | 12/24 [1:21:23<1:23:05, 415.48s/it]"
     ]
    },
    {
     "name": "stdout",
     "output_type": "stream",
     "text": [
      "test message\n"
     ]
    },
    {
     "name": "stderr",
     "output_type": "stream",
     "text": [
      "Now running: GER12_IAV:  54%|█████▍    | 13/24 [1:26:18<1:09:30, 379.14s/it] "
     ]
    },
    {
     "name": "stdout",
     "output_type": "stream",
     "text": [
      "test message\n"
     ]
    },
    {
     "name": "stderr",
     "output_type": "stream",
     "text": [
      "Now running: GER14_CRTL:  58%|█████▊    | 14/24 [1:34:57<1:10:14, 421.44s/it]"
     ]
    },
    {
     "name": "stdout",
     "output_type": "stream",
     "text": [
      "test message\n"
     ]
    },
    {
     "name": "stderr",
     "output_type": "stream",
     "text": [
      "Now running: GER14_IAV:  62%|██████▎   | 15/24 [1:40:09<58:16, 388.50s/it]   "
     ]
    },
    {
     "name": "stdout",
     "output_type": "stream",
     "text": [
      "test message\n"
     ]
    },
    {
     "name": "stderr",
     "output_type": "stream",
     "text": [
      "Now running: GnR08_CTRL:  67%|██████▋   | 16/24 [1:49:00<57:29, 431.24s/it]"
     ]
    },
    {
     "name": "stdout",
     "output_type": "stream",
     "text": [
      "test message\n"
     ]
    },
    {
     "name": "stderr",
     "output_type": "stream",
     "text": [
      "Now running: GnR08_IAV:  71%|███████   | 17/24 [1:53:50<45:22, 388.89s/it] "
     ]
    },
    {
     "name": "stdout",
     "output_type": "stream",
     "text": [
      "test message\n"
     ]
    },
    {
     "name": "stderr",
     "output_type": "stream",
     "text": [
      "Now running: GnR_07_CTRL:  75%|███████▌  | 18/24 [2:00:31<39:14, 392.43s/it]"
     ]
    },
    {
     "name": "stdout",
     "output_type": "stream",
     "text": [
      "test message\n"
     ]
    },
    {
     "name": "stderr",
     "output_type": "stream",
     "text": [
      "Now running: GnR_07_IAV:  79%|███████▉  | 19/24 [2:05:00<29:37, 355.41s/it] "
     ]
    },
    {
     "name": "stdout",
     "output_type": "stream",
     "text": [
      "test message\n"
     ]
    },
    {
     "name": "stderr",
     "output_type": "stream",
     "text": [
      "Now running: ST07_CSE_CTRL:  83%|████████▎ | 20/24 [2:13:03<26:14, 393.71s/it]"
     ]
    },
    {
     "name": "stdout",
     "output_type": "stream",
     "text": [
      "test message\n"
     ]
    },
    {
     "name": "stderr",
     "output_type": "stream",
     "text": [
      "Now running: ST08_GnR_CTRL:  88%|████████▊ | 21/24 [2:17:06<17:25, 348.45s/it]"
     ]
    },
    {
     "name": "stdout",
     "output_type": "stream",
     "text": [
      "test message\n"
     ]
    },
    {
     "name": "stderr",
     "output_type": "stream",
     "text": [
      "Now running: ST09_CSE_IAV:  92%|█████████▏| 22/24 [2:21:06<10:32, 316.01s/it] "
     ]
    },
    {
     "name": "stdout",
     "output_type": "stream",
     "text": [
      "test message\n"
     ]
    },
    {
     "name": "stderr",
     "output_type": "stream",
     "text": [
      "Now running: ST10_GnR_IAV:  96%|█████████▌| 23/24 [2:26:52<05:24, 324.76s/it]"
     ]
    },
    {
     "name": "stdout",
     "output_type": "stream",
     "text": [
      "test message\n"
     ]
    },
    {
     "name": "stderr",
     "output_type": "stream",
     "text": [
      "Now running: ST10_GnR_IAV: 100%|██████████| 24/24 [2:32:25<00:00, 381.07s/it]\n"
     ]
    }
   ],
   "source": [
    "li.mt.rank_aggregate.by_sample(\n",
    "    adata,\n",
    "    groupby=groupby,\n",
    "    sample_key=sample_key, # sample key by which we which to loop\n",
    "    use_raw=False,\n",
    "    seed=1789,\n",
    "    min_cells=5,\n",
    "    verbose=True, # use 'full' to show all verbose information\n",
    "    #n_perms=100, # reduce permutations for speed\n",
    "    return_all_lrs=True, # return all LR values\n",
    "    )"
   ]
  },
  {
   "cell_type": "markdown",
   "metadata": {},
   "source": [
    "## Writing and reading results on disk as a backup"
   ]
  },
  {
   "cell_type": "code",
   "execution_count": 9,
   "metadata": {},
   "outputs": [],
   "source": [
    "adata.write_h5ad(\"./anndata_liana.h5ad\")"
   ]
  },
  {
   "cell_type": "code",
   "execution_count": null,
   "metadata": {},
   "outputs": [],
   "source": [
    "adata = sc.read_h5ad(\"anndata_liana.h5ad\")"
   ]
  },
  {
   "cell_type": "markdown",
   "metadata": {},
   "source": [
    "## Building the Tensor"
   ]
  },
  {
   "cell_type": "code",
   "execution_count": 10,
   "metadata": {},
   "outputs": [
    {
     "name": "stderr",
     "output_type": "stream",
     "text": [
      "100%|██████████| 24/24 [2:01:36<00:00, 304.03s/it]  \n"
     ]
    }
   ],
   "source": [
    "tensor = li.multi.to_tensor_c2c(adata,\n",
    "                                sample_key=sample_key,\n",
    "                                score_key='magnitude_rank', # can be any score from liana\n",
    "                                how='outer_cells' # how to join the samples\n",
    "                                )"
   ]
  },
  {
   "cell_type": "markdown",
   "metadata": {},
   "source": [
    "## Saving Tensor on disk with pickle"
   ]
  },
  {
   "cell_type": "code",
   "execution_count": 11,
   "metadata": {},
   "outputs": [
    {
     "name": "stdout",
     "output_type": "stream",
     "text": [
      "./liana_tensor.pkl  was correctly saved.\n"
     ]
    }
   ],
   "source": [
    "c2c.io.export_variable_with_pickle(tensor, \"./liana_tensor.pkl\")"
   ]
  }
 ],
 "metadata": {
  "kernelspec": {
   "display_name": "liana-env",
   "language": "python",
   "name": "python3"
  },
  "language_info": {
   "codemirror_mode": {
    "name": "ipython",
    "version": 3
   },
   "file_extension": ".py",
   "mimetype": "text/x-python",
   "name": "python",
   "nbconvert_exporter": "python",
   "pygments_lexer": "ipython3",
   "version": "3.10.13"
  }
 },
 "nbformat": 4,
 "nbformat_minor": 2
}
