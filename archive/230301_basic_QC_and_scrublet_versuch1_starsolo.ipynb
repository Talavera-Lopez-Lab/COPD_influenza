{
 "cells": [
  {
   "attachments": {},
   "cell_type": "markdown",
   "metadata": {},
   "source": [
    "### Run basic `scanpy` QC and doublet detection with `scrublet` for STARsolo mapped Versuch 1\n",
    "\n",
    "- **Developed by**: Carlos Talavera-López PhD\n",
    "- **Institute of Computational Biology - Computational Health Centre - Helmholtz Munich**\n",
    "- v230301"
   ]
  },
  {
   "cell_type": "markdown",
   "metadata": {},
   "source": [
    "### Load required modules"
   ]
  },
  {
   "cell_type": "code",
   "execution_count": 1,
   "metadata": {},
   "outputs": [],
   "source": [
    "import os\n",
    "import scipy\n",
    "import anndata\n",
    "import logging\n",
    "import numpy as np\n",
    "import pandas as pd\n",
    "import scanpy as sc\n",
    "import seaborn as sb\n",
    "import scrublet as scr\n",
    "from scipy import sparse\n",
    "import matplotlib.pyplot as plt\n",
    "from matplotlib import colors\n",
    "from matplotlib import rcParams"
   ]
  },
  {
   "attachments": {},
   "cell_type": "markdown",
   "metadata": {},
   "source": [
    "### Set up working environment"
   ]
  },
  {
   "cell_type": "code",
   "execution_count": 2,
   "metadata": {
    "tags": []
   },
   "outputs": [
    {
     "name": "stdout",
     "output_type": "stream",
     "text": [
      "-----\n",
      "anndata     0.8.0\n",
      "scanpy      1.9.2\n",
      "-----\n",
      "PIL                 9.4.0\n",
      "appnope             0.1.3\n",
      "asttokens           NA\n",
      "backcall            0.2.0\n",
      "beta_ufunc          NA\n",
      "binom_ufunc         NA\n",
      "cffi                1.15.1\n",
      "colorama            0.4.6\n",
      "comm                0.1.2\n",
      "cycler              0.10.0\n",
      "cython_runtime      NA\n",
      "dateutil            2.8.2\n",
      "debugpy             1.6.6\n",
      "decorator           5.1.1\n",
      "executing           1.2.0\n",
      "h5py                3.8.0\n",
      "hypergeom_ufunc     NA\n",
      "igraph              0.10.4\n",
      "importlib_resources NA\n",
      "ipykernel           6.21.2\n",
      "jedi                0.18.2\n",
      "joblib              1.2.0\n",
      "kiwisolver          1.4.4\n",
      "leidenalg           0.9.1\n",
      "llvmlite            0.39.1\n",
      "louvain             0.8.0\n",
      "matplotlib          3.7.0\n",
      "mpl_toolkits        NA\n",
      "natsort             8.2.0\n",
      "nbinom_ufunc        NA\n",
      "ncf_ufunc           NA\n",
      "numba               0.56.4\n",
      "numexpr             2.8.4\n",
      "numpy               1.23.5\n",
      "packaging           23.0\n",
      "pandas              1.5.3\n",
      "parso               0.8.3\n",
      "pexpect             4.8.0\n",
      "pickleshare         0.7.5\n",
      "pkg_resources       NA\n",
      "platformdirs        3.0.0\n",
      "prompt_toolkit      3.0.36\n",
      "psutil              5.9.4\n",
      "ptyprocess          0.7.0\n",
      "pure_eval           0.2.2\n",
      "pydev_ipython       NA\n",
      "pydevconsole        NA\n",
      "pydevd              2.9.5\n",
      "pydevd_file_utils   NA\n",
      "pydevd_plugins      NA\n",
      "pydevd_tracing      NA\n",
      "pygments            2.14.0\n",
      "pyparsing           3.0.9\n",
      "pytz                2022.7.1\n",
      "scipy               1.9.1\n",
      "scrublet            NA\n",
      "seaborn             0.12.2\n",
      "session_info        1.0.0\n",
      "setuptools          67.3.3\n",
      "setuptools_scm      NA\n",
      "six                 1.16.0\n",
      "sklearn             1.2.1\n",
      "stack_data          0.6.2\n",
      "statsmodels         0.13.5\n",
      "texttable           1.6.7\n",
      "threadpoolctl       3.1.0\n",
      "tornado             6.2\n",
      "traitlets           5.9.0\n",
      "typing_extensions   NA\n",
      "wcwidth             0.2.6\n",
      "zipp                NA\n",
      "zmq                 25.0.0\n",
      "zoneinfo            NA\n",
      "-----\n",
      "IPython             8.10.0\n",
      "jupyter_client      8.0.3\n",
      "jupyter_core        5.2.0\n",
      "-----\n",
      "Python 3.9.16 | packaged by conda-forge | (main, Feb  1 2023, 21:42:20) [Clang 14.0.6 ]\n",
      "macOS-11.2.3-x86_64-i386-64bit\n",
      "-----\n",
      "Session information updated at 2023-03-02 11:27\n"
     ]
    }
   ],
   "source": [
    "sc.settings.verbosity = 3\n",
    "sc.logging.print_versions()\n",
    "sc.settings.set_figure_params(dpi = 160, color_map = 'RdPu', dpi_save = 180, vector_friendly = True, format = 'svg')"
   ]
  },
  {
   "cell_type": "code",
   "execution_count": 3,
   "metadata": {},
   "outputs": [],
   "source": [
    "def buildAnndataFromStarCurr(path):\n",
    "    \"\"\"Generate an anndata object from the STAR aligner output folder\"\"\"\n",
    "    path=path\n",
    "    # Load Read Counts\n",
    "    X = sc.read_mtx(path+'Gene/raw/matrix.mtx')\n",
    "\n",
    "    # Transpose counts matrix to have Cells as rows and Genes as cols as expected by AnnData objects\n",
    "    X = X.X.transpose()\n",
    "\n",
    "    # Load the 3 matrices containing Spliced, Unspliced and Ambigous reads\n",
    "    mtxU = np.loadtxt(path+'Velocyto/raw/unspliced.mtx', skiprows=3, delimiter=' ')\n",
    "    mtxS = np.loadtxt(path+'Velocyto/raw/spliced.mtx', skiprows=3, delimiter=' ')\n",
    "    mtxA = np.loadtxt(path+'Velocyto/raw/ambiguous.mtx', skiprows=3, delimiter=' ')\n",
    "\n",
    "    # Extract sparse matrix shape informations from the third row\n",
    "    shapeU = np.loadtxt(path+'Velocyto/raw/unspliced.mtx', skiprows=2, max_rows = 1 ,delimiter=' ')[0:2].astype(int)\n",
    "    shapeS = np.loadtxt(path+'Velocyto/raw/spliced.mtx', skiprows=2, max_rows = 1 ,delimiter=' ')[0:2].astype(int)\n",
    "    shapeA = np.loadtxt(path+'Velocyto/raw/ambiguous.mtx', skiprows=2, max_rows = 1 ,delimiter=' ')[0:2].astype(int)\n",
    "\n",
    "    # Read the sparse matrix with csr_matrix((data, (row_ind, col_ind)), shape=(M, N))\n",
    "    # Subract -1 to rows and cols index because csr_matrix expects a 0 based index\n",
    "    # Traspose counts matrix to have Cells as rows and Genes as cols as expected by AnnData objects\n",
    "\n",
    "    spliced = sparse.csr_matrix((mtxS[:,2], (mtxS[:,0]-1, mtxS[:,1]-1)), shape = shapeS).transpose()\n",
    "    unspliced = sparse.csr_matrix((mtxU[:,2], (mtxU[:,0]-1, mtxU[:,1]-1)), shape = shapeU).transpose()\n",
    "    ambiguous = sparse.csr_matrix((mtxA[:,2], (mtxA[:,0]-1, mtxA[:,1]-1)), shape = shapeA).transpose()\n",
    "\n",
    "    # Load Genes and Cells identifiers\n",
    "    obs = pd.read_csv(path+'Velocyto/raw/barcodes.tsv',\n",
    "                  header = None, index_col = 0)\n",
    "\n",
    "    # Remove index column name to make it compliant with the anndata format\n",
    "    obs.index.name = None\n",
    "\n",
    "    var = pd.read_csv(path+'Velocyto/raw/features.tsv', sep='\\t',\n",
    "                                    names = ('gene_ids', 'feature_types'), index_col = 1)\n",
    "  \n",
    "    # Build AnnData object to be used with ScanPy and ScVelo\n",
    "    adata = anndata.AnnData(X = X, obs = obs, var = var,\n",
    "                                                 layers = {'spliced': spliced, 'unspliced': unspliced, 'ambiguous': ambiguous})\n",
    "    adata.var_names_make_unique()\n",
    "\n",
    "    # Subset Cells based on STAR filtering\n",
    "    selected_barcodes = pd.read_csv(path+'Gene/filtered/barcodes.tsv', header = None)\n",
    "    adata = adata[selected_barcodes[0]]\n",
    "\n",
    "    return adata.copy()"
   ]
  },
  {
   "cell_type": "code",
   "execution_count": 4,
   "metadata": {},
   "outputs": [],
   "source": [
    "save_path = '/Volumes/SdKfd182/nobackup/raw_data/single_cell/COPD_IAV/mappings/starsolo/'"
   ]
  },
  {
   "cell_type": "markdown",
   "metadata": {},
   "source": [
    "### Read individual `anndata` objects and merge "
   ]
  },
  {
   "cell_type": "code",
   "execution_count": 5,
   "metadata": {},
   "outputs": [
    {
     "name": "stderr",
     "output_type": "stream",
     "text": [
      "/Users/cartalop/mambaforge/envs/scanpy/lib/python3.9/site-packages/anndata/_core/anndata.py:1830: UserWarning: Variable names are not unique. To make them unique, call `.var_names_make_unique`.\n",
      "  utils.warn_names_duplicates(\"var\")\n",
      "/Users/cartalop/mambaforge/envs/scanpy/lib/python3.9/site-packages/anndata/utils.py:111: UserWarning: Suffix used (-[0-9]+) to deduplicate index values may make index values difficult to interpret. There values with a similar suffixes in the index. Consider using a different delimiter by passing `join={delimiter}`Example key collisions generated by the make_index_unique algorithm: ['SNORD116-1', 'SNORD116-2', 'SNORD116-3', 'SNORD116-4', 'SNORD116-5']\n",
      "  warnings.warn(\n"
     ]
    },
    {
     "data": {
      "text/plain": [
       "AnnData object with n_obs × n_vars = 20184 × 62714\n",
       "    var: 'gene_ids', 'feature_types'\n",
       "    layers: 'spliced', 'unspliced', 'ambiguous'"
      ]
     },
     "execution_count": 5,
     "metadata": {},
     "output_type": "execute_result"
    }
   ],
   "source": [
    "adata = buildAnndataFromStarCurr('/Volumes/SdKfd182/nobackup/raw_data/single_cell/COPD_IAV/mappings/starsolo/Versuch_1_S1/')\n",
    "adata"
   ]
  },
  {
   "cell_type": "code",
   "execution_count": 6,
   "metadata": {},
   "outputs": [
    {
     "data": {
      "text/plain": [
       "Index(['AAGTAACCC_AAACGTACC_AAAGAGGCC', 'ACAAGGATC_AAACGTACC_AAAGAGGCC',\n",
       "       'AGAGCTATG_AAACGTACC_AAAGAGGCC', 'GCGATTACA_AAACGTACC_AAAGAGGCC',\n",
       "       'TCCAGTCGA_AAACTGCGC_AAAGAGGCC', 'AACGAGAAG_AAATAAATA_AAAGAGGCC',\n",
       "       'TTGTTCCAA_AAATAAATA_AAAGAGGCC', 'AAGACATGC_AACCAAAGT_AAAGAGGCC',\n",
       "       'AGCCATCAC_AACCAAAGT_AAAGAGGCC', 'ACAGTTCCG_AACCCTCGG_AAAGAGGCC',\n",
       "       ...\n",
       "       'ACACACAAA_TGTTCTCCA_TTCAGCTCA', 'GCCTTACAA_TGTTCTCCA_TTCAGCTCA',\n",
       "       'ATCAGAGCT_TTCCATTGA_TTCAGCTCA', 'GAGGATGGA_TTCCATTGA_TTCAGCTCA',\n",
       "       'ACGCAATCA_TTGCGTACA_TTCAGCTCA', 'ATCTCCACA_TTGCGTACA_TTCAGCTCA',\n",
       "       'CAGAATCGT_TTGGAGGTA_TTCAGCTCA', 'TAGCTTGTA_TTGGAGGTA_TTCAGCTCA',\n",
       "       'TGTACCTTA_TTGGAGGTA_TTCAGCTCA', 'ACCGGATAG_TTGGTATGA_TTCAGCTCA'],\n",
       "      dtype='object', length=20184)"
      ]
     },
     "execution_count": 6,
     "metadata": {},
     "output_type": "execute_result"
    }
   ],
   "source": [
    "adata.obs_names"
   ]
  },
  {
   "cell_type": "code",
   "execution_count": 7,
   "metadata": {},
   "outputs": [
    {
     "data": {
      "text/plain": [
       "Index(['DDX11L2', 'DDX11L1', 'WASH7P', 'MIR6859-1', 'MIR1302-2HG', 'MIR1302-2',\n",
       "       'FAM138A', 'OR4G4P', 'ENSG00000290826', 'OR4G11P',\n",
       "       ...\n",
       "       'UJ99_s2gp1', 'UJ99_s3gp1', 'UJ99_s3gp2', 'UJ99_s4gp1', 'UJ99_s5gp1',\n",
       "       'UJ99_s6gp1', 'UJ99_s7gp1', 'UJ99_s7gp2', 'UJ99_s8gp1', 'UJ99_s8gp2'],\n",
       "      dtype='object', length=62714)"
      ]
     },
     "execution_count": 7,
     "metadata": {},
     "output_type": "execute_result"
    }
   ],
   "source": [
    "adata.var_names"
   ]
  },
  {
   "attachments": {},
   "cell_type": "markdown",
   "metadata": {},
   "source": [
    "### Check if data is raw"
   ]
  },
  {
   "cell_type": "code",
   "execution_count": 12,
   "metadata": {},
   "outputs": [],
   "source": [
    "def X_is_raw(adata):\n",
    "    return np.array_equal(adata.X.sum(axis=0).astype(int), adata.X.sum(axis=0))"
   ]
  },
  {
   "cell_type": "code",
   "execution_count": 13,
   "metadata": {},
   "outputs": [
    {
     "data": {
      "text/plain": [
       "True"
      ]
     },
     "execution_count": 13,
     "metadata": {},
     "output_type": "execute_result"
    }
   ],
   "source": [
    "X_is_raw(adata)"
   ]
  },
  {
   "cell_type": "code",
   "execution_count": null,
   "metadata": {},
   "outputs": [],
   "source": [
    "adata = adata_1.concatenate(adata_2, adata_3, adata_4, batch_key = 'batch', batch_categories = ['ST07_CSE_CTRL', 'ST08_GnR_CTRL', 'ST09_CSE_IAV', 'ST10_GnR_IAV'], join = 'inner')\n",
    "adata"
   ]
  },
  {
   "cell_type": "code",
   "execution_count": null,
   "metadata": {},
   "outputs": [],
   "source": [
    "sample_object = adata.copy()\n",
    "sample_object"
   ]
  },
  {
   "cell_type": "markdown",
   "metadata": {},
   "source": [
    "### Filter cells with less than 200 genes"
   ]
  },
  {
   "cell_type": "code",
   "execution_count": null,
   "metadata": {},
   "outputs": [],
   "source": [
    "sc.pp.filter_cells(sample_object, min_genes = 200)\n",
    "print(sample_object.n_obs, sample_object.n_vars)"
   ]
  },
  {
   "cell_type": "code",
   "execution_count": null,
   "metadata": {},
   "outputs": [],
   "source": [
    "sample_object.shape"
   ]
  },
  {
   "cell_type": "code",
   "execution_count": null,
   "metadata": {},
   "outputs": [],
   "source": [
    "sample_object.var"
   ]
  },
  {
   "cell_type": "markdown",
   "metadata": {},
   "source": [
    "### Compute QC stats"
   ]
  },
  {
   "cell_type": "code",
   "execution_count": null,
   "metadata": {},
   "outputs": [],
   "source": [
    "sample_object.shape"
   ]
  },
  {
   "cell_type": "code",
   "execution_count": null,
   "metadata": {},
   "outputs": [],
   "source": [
    "sample_object.var['mt'] = sample_object.var_names.str.startswith('MT-') \n",
    "sample_object.var['ribo'] = sample_object.var_names.str.startswith((\"RPS\",\"RPL\"))\n",
    "sample_object.var"
   ]
  },
  {
   "cell_type": "code",
   "execution_count": null,
   "metadata": {},
   "outputs": [],
   "source": [
    "sc.pp.calculate_qc_metrics(sample_object, qc_vars = ['mt','ribo'], percent_top = None, log1p = False, inplace = True)"
   ]
  },
  {
   "cell_type": "code",
   "execution_count": null,
   "metadata": {},
   "outputs": [],
   "source": [
    "# for each cell compute fraction of counts in mito genes vs. all genes\n",
    "# the `.A1` is only necessary as X is sparse (to transform to a dense array after summing)\n",
    "# add the total counts per cell as observations-annotation to adata\n",
    "\n",
    "mito_genes = sample_object.var_names.str.startswith('MT-')\n",
    "sample_object.obs['percent_mt2'] = np.sum(\n",
    "    sample_object[:, mito_genes].X, axis = 1) / np.sum(sample_object.X, axis = 1)\n",
    "sample_object.obs['n_counts'] = sample_object.X.sum(axis = 1)"
   ]
  },
  {
   "cell_type": "code",
   "execution_count": null,
   "metadata": {},
   "outputs": [],
   "source": [
    "sample_object"
   ]
  },
  {
   "cell_type": "markdown",
   "metadata": {},
   "source": [
    "### Compute tdTomato proportions"
   ]
  },
  {
   "cell_type": "code",
   "execution_count": null,
   "metadata": {},
   "outputs": [],
   "source": [
    "sample_object.var_names"
   ]
  },
  {
   "cell_type": "code",
   "execution_count": null,
   "metadata": {},
   "outputs": [],
   "source": [
    "sc.pl.violin(sample_object, ['n_genes_by_counts', 'total_counts', 'pct_counts_mt','pct_counts_ribo'],\n",
    "             jitter = 0.2, groupby = 'condition', rotation = 45)"
   ]
  },
  {
   "cell_type": "code",
   "execution_count": null,
   "metadata": {},
   "outputs": [],
   "source": [
    "sc.pl.scatter(sample_object, x = 'total_counts', y = 'pct_counts_mt', color = \"donor\")"
   ]
  },
  {
   "cell_type": "markdown",
   "metadata": {},
   "source": [
    "### Add sample sex covariate"
   ]
  },
  {
   "cell_type": "code",
   "execution_count": null,
   "metadata": {},
   "outputs": [],
   "source": [
    "annot = sc.queries.biomart_annotations(\n",
    "        \"hsapiens\",\n",
    "        [\"ensembl_gene_id\", \"external_gene_name\", \"start_position\", \"end_position\", \"chromosome_name\"],\n",
    "    ).set_index(\"external_gene_name\")"
   ]
  },
  {
   "cell_type": "code",
   "execution_count": null,
   "metadata": {},
   "outputs": [],
   "source": [
    "annot.head()"
   ]
  },
  {
   "cell_type": "code",
   "execution_count": null,
   "metadata": {},
   "outputs": [],
   "source": [
    "chrY_genes = sample_object.var_names.intersection(annot.index[annot.chromosome_name == \"Y\"])\n",
    "chrY_genes"
   ]
  },
  {
   "cell_type": "code",
   "execution_count": null,
   "metadata": {},
   "outputs": [],
   "source": [
    "sample_object.obs['percent_chrY'] = np.sum(\n",
    "    sample_object[:, chrY_genes].X, axis = 1) / np.sum(sample_object.X, axis = 1) * 100"
   ]
  },
  {
   "cell_type": "code",
   "execution_count": null,
   "metadata": {},
   "outputs": [],
   "source": [
    "sample_object.obs[\"XIST-counts\"] = sample_object.X[:,sample_object.var_names.str.match('XIST')]\n",
    "\n",
    "sc.pl.scatter(sample_object, x = 'XIST-counts', y = 'percent_chrY', color = \"donor\")"
   ]
  },
  {
   "cell_type": "code",
   "execution_count": null,
   "metadata": {},
   "outputs": [],
   "source": [
    "sc.pl.violin(sample_object, [\"XIST-counts\", \"percent_chrY\"], jitter = 0.4, groupby = 'donor', rotation = 45)"
   ]
  },
  {
   "cell_type": "markdown",
   "metadata": {},
   "source": [
    "### Calculate cell cycle scores"
   ]
  },
  {
   "cell_type": "code",
   "execution_count": null,
   "metadata": {},
   "outputs": [],
   "source": [
    "!if [ ! -f /Users/carlostalavera-lopez/github/multiorgan_social_network/data/regev_lab_cell_cycle_genes.txt ]; then curl -o /Users/carlostalavera-lopez/github/multiorgan_social_network/data/regev_lab_cell_cycle_genes.txt https://raw.githubusercontent.com/theislab/scanpy_usage/master/180209_cell_cycle/data/regev_lab_cell_cycle_genes.txt; fi"
   ]
  },
  {
   "cell_type": "code",
   "execution_count": null,
   "metadata": {},
   "outputs": [],
   "source": [
    "cell_cycle_genes = [x.strip() for x in open('/home/cartalop/github/cartal/COPD_influenza/data/regev_lab_cell_cycle_genes.txt')]\n",
    "print(len(cell_cycle_genes))\n",
    "\n",
    "# Split into 2 lists\n",
    "s_genes = cell_cycle_genes[:43]\n",
    "g2m_genes = cell_cycle_genes[43:]\n",
    "\n",
    "cell_cycle_genes = [x for x in cell_cycle_genes if x in sample_object.var_names]\n",
    "print(len(cell_cycle_genes))"
   ]
  },
  {
   "cell_type": "markdown",
   "metadata": {},
   "source": [
    "- Create basic `anndata` for score calculation"
   ]
  },
  {
   "cell_type": "code",
   "execution_count": null,
   "metadata": {},
   "outputs": [],
   "source": [
    "adata_log = anndata.AnnData(X = sample_object.X,  var = sample_object.var, obs = sample_object.obs)\n",
    "sc.pp.normalize_total(adata_log, target_sum = 1e6, exclude_highly_expressed = True)\n",
    "sc.pp.log1p(adata_log)"
   ]
  },
  {
   "cell_type": "code",
   "execution_count": null,
   "metadata": {},
   "outputs": [],
   "source": [
    "sc.tl.score_genes_cell_cycle(adata_log, s_genes = s_genes, g2m_genes = g2m_genes)\n",
    "sc.pl.violin(adata_log, ['S_score', 'G2M_score'],\n",
    "             jitter = 0.4, groupby = 'donor', rotation = 45)"
   ]
  },
  {
   "cell_type": "code",
   "execution_count": null,
   "metadata": {},
   "outputs": [],
   "source": [
    "sample_object.obs['S_score'] = adata_log.obs['S_score']\n",
    "sample_object.obs['G2M_score'] = adata_log.obs['G2M_score']\n",
    "sample_object"
   ]
  },
  {
   "cell_type": "markdown",
   "metadata": {},
   "source": [
    "### Predict doublets"
   ]
  },
  {
   "cell_type": "code",
   "execution_count": null,
   "metadata": {},
   "outputs": [],
   "source": [
    "scrub = scr.Scrublet(sample_object.X)\n",
    "sample_object.obs['doublet_scores'], sample_object.obs['predicted_doublets'] = scrub.scrub_doublets()\n",
    "scrub.plot_histogram()\n",
    "\n",
    "sum(sample_object.obs['predicted_doublets'])"
   ]
  },
  {
   "cell_type": "code",
   "execution_count": null,
   "metadata": {},
   "outputs": [],
   "source": [
    "sc.pl.violin(sample_object, ['n_genes_by_counts', 'total_counts', 'pct_counts_mt','pct_counts_ribo', 'predicted_doublets'],\n",
    "             jitter = 0.2, groupby = 'donor', rotation = 45)"
   ]
  },
  {
   "cell_type": "code",
   "execution_count": null,
   "metadata": {},
   "outputs": [],
   "source": [
    "sc.pl.violin(sample_object, ['n_genes_by_counts', 'total_counts', 'pct_counts_mt','pct_counts_ribo', 'predicted_doublets'],\n",
    "             jitter = 0.2, groupby = 'condition', rotation = 45)"
   ]
  },
  {
   "cell_type": "markdown",
   "metadata": {},
   "source": [
    "### Prepare counts for individual slots"
   ]
  },
  {
   "cell_type": "code",
   "execution_count": null,
   "metadata": {},
   "outputs": [],
   "source": [
    "sample_object.raw = sample_object.copy()\n",
    "sample_object.layers['counts'] = sample_object.X.copy()\n",
    "sample_object.layers[\"sqrt_norm\"] = np.sqrt(\n",
    "    sc.pp.normalize_total(sample_object, inplace = False)[\"X\"]\n",
    ")\n",
    "sample_object"
   ]
  },
  {
   "cell_type": "markdown",
   "metadata": {},
   "source": [
    "### Export object"
   ]
  },
  {
   "cell_type": "code",
   "execution_count": null,
   "metadata": {},
   "outputs": [],
   "source": [
    "sample_object.write(save_path + 'COPD_influenza_V1_QCed_pre-process_ctl220719.h5ad')"
   ]
  },
  {
   "cell_type": "code",
   "execution_count": null,
   "metadata": {},
   "outputs": [],
   "source": []
  }
 ],
 "metadata": {
  "kernelspec": {
   "display_name": "scanpy",
   "language": "python",
   "name": "python3"
  },
  "language_info": {
   "codemirror_mode": {
    "name": "ipython",
    "version": 3
   },
   "file_extension": ".py",
   "mimetype": "text/x-python",
   "name": "python",
   "nbconvert_exporter": "python",
   "pygments_lexer": "ipython3",
   "version": "3.9.16"
  },
  "vscode": {
   "interpreter": {
    "hash": "4872569c54efb9f76cf4e832d436e1eb1949715732f7c5070dbaa4d04650f385"
   }
  }
 },
 "nbformat": 4,
 "nbformat_minor": 4
}
