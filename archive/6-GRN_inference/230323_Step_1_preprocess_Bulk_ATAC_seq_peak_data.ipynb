{
 "cells": [
  {
   "attachments": {},
   "cell_type": "markdown",
   "metadata": {},
   "source": [
    "### Notebook for the processing of bulk ATAC-Seq data from Epithelial cells with COPD\n",
    "\n",
    "- **Developed by**: Carlos Talavera-López Ph.D\n",
    "- **Institute of Computational Biology - Computational Health Centre -  Helmholtz Munich**\n",
    "- v230323"
   ]
  },
  {
   "attachments": {},
   "cell_type": "markdown",
   "metadata": {},
   "source": [
    "### Import required modules"
   ]
  },
  {
   "cell_type": "code",
   "execution_count": 1,
   "metadata": {
    "collapsed": true,
    "jupyter": {
     "outputs_hidden": true
    },
    "tags": []
   },
   "outputs": [
    {
     "name": "stderr",
     "output_type": "stream",
     "text": [
      "INFO:matplotlib.font_manager:Failed to extract font properties from /System/Library/Fonts/LastResort.otf: tuple indices must be integers or slices, not str\n",
      "INFO:matplotlib.font_manager:Failed to extract font properties from /System/Library/Fonts/Supplemental/NISC18030.ttf: In FT2Font: Could not set the fontsize (invalid pixel size; error code 0x17)\n",
      "INFO:matplotlib.font_manager:Failed to extract font properties from /System/Library/Fonts/Apple Color Emoji.ttc: In FT2Font: Could not set the fontsize (invalid pixel size; error code 0x17)\n"
     ]
    }
   ],
   "source": [
    "import numpy as np\n",
    "import pandas as pd\n",
    "import seaborn as sns\n",
    "import matplotlib.pyplot as plt\n",
    "\n",
    "from tqdm.notebook import tqdm\n",
    "import os, sys, shutil, importlib, glob\n",
    "import celloracle as co\n",
    "from celloracle import motif_analysis as ma"
   ]
  },
  {
   "cell_type": "markdown",
   "metadata": {},
   "source": [
    "### Set working environment"
   ]
  },
  {
   "cell_type": "code",
   "execution_count": 2,
   "metadata": {},
   "outputs": [],
   "source": [
    "%matplotlib inline\n",
    "%config InlineBackend.figure_format = 'retina'\n",
    "\n",
    "plt.rcParams['figure.figsize'] = [6, 4.5]\n",
    "plt.rcParams[\"savefig.dpi\"] = 300"
   ]
  },
  {
   "attachments": {},
   "cell_type": "markdown",
   "metadata": {},
   "source": [
    "### Load bed file from `GSE152779` processed peaks"
   ]
  },
  {
   "cell_type": "code",
   "execution_count": 3,
   "metadata": {},
   "outputs": [
    {
     "name": "stdout",
     "output_type": "stream",
     "text": [
      "(889416, 7)\n"
     ]
    },
    {
     "data": {
      "text/html": [
       "<div>\n",
       "<style scoped>\n",
       "    .dataframe tbody tr th:only-of-type {\n",
       "        vertical-align: middle;\n",
       "    }\n",
       "\n",
       "    .dataframe tbody tr th {\n",
       "        vertical-align: top;\n",
       "    }\n",
       "\n",
       "    .dataframe thead th {\n",
       "        text-align: right;\n",
       "    }\n",
       "</style>\n",
       "<table border=\"1\" class=\"dataframe\">\n",
       "  <thead>\n",
       "    <tr style=\"text-align: right;\">\n",
       "      <th></th>\n",
       "      <th>chrom</th>\n",
       "      <th>start</th>\n",
       "      <th>end</th>\n",
       "      <th>name</th>\n",
       "      <th>score</th>\n",
       "      <th>strand</th>\n",
       "      <th>seqname</th>\n",
       "    </tr>\n",
       "  </thead>\n",
       "  <tbody>\n",
       "    <tr>\n",
       "      <th>0</th>\n",
       "      <td>chr1</td>\n",
       "      <td>713779</td>\n",
       "      <td>714381</td>\n",
       "      <td>FAST1_peak_1a</td>\n",
       "      <td>52</td>\n",
       "      <td>.</td>\n",
       "      <td>chr1_713779_714381</td>\n",
       "    </tr>\n",
       "    <tr>\n",
       "      <th>1</th>\n",
       "      <td>chr1</td>\n",
       "      <td>713779</td>\n",
       "      <td>714381</td>\n",
       "      <td>FAST1_peak_1b</td>\n",
       "      <td>215</td>\n",
       "      <td>.</td>\n",
       "      <td>chr1_713779_714381</td>\n",
       "    </tr>\n",
       "    <tr>\n",
       "      <th>2</th>\n",
       "      <td>chr1</td>\n",
       "      <td>805231</td>\n",
       "      <td>805496</td>\n",
       "      <td>FAST1_peak_2</td>\n",
       "      <td>22</td>\n",
       "      <td>.</td>\n",
       "      <td>chr1_805231_805496</td>\n",
       "    </tr>\n",
       "    <tr>\n",
       "      <th>3</th>\n",
       "      <td>chr1</td>\n",
       "      <td>911379</td>\n",
       "      <td>911899</td>\n",
       "      <td>FAST1_peak_3</td>\n",
       "      <td>72</td>\n",
       "      <td>.</td>\n",
       "      <td>chr1_911379_911899</td>\n",
       "    </tr>\n",
       "    <tr>\n",
       "      <th>4</th>\n",
       "      <td>chr1</td>\n",
       "      <td>935358</td>\n",
       "      <td>936188</td>\n",
       "      <td>FAST1_peak_4</td>\n",
       "      <td>86</td>\n",
       "      <td>.</td>\n",
       "      <td>chr1_935358_936188</td>\n",
       "    </tr>\n",
       "  </tbody>\n",
       "</table>\n",
       "</div>"
      ],
      "text/plain": [
       "  chrom   start     end           name  score strand             seqname\n",
       "0  chr1  713779  714381  FAST1_peak_1a     52      .  chr1_713779_714381\n",
       "1  chr1  713779  714381  FAST1_peak_1b    215      .  chr1_713779_714381\n",
       "2  chr1  805231  805496   FAST1_peak_2     22      .  chr1_805231_805496\n",
       "3  chr1  911379  911899   FAST1_peak_3     72      .  chr1_911379_911899\n",
       "4  chr1  935358  936188   FAST1_peak_4     86      .  chr1_935358_936188"
      ]
     },
     "execution_count": 3,
     "metadata": {},
     "output_type": "execute_result"
    }
   ],
   "source": [
    "file_path_of_bed_file = \"/Volumes/A7V/raw_reads/GSE152779/GSE152779_peaks.bed\" \n",
    "bed = ma.read_bed(file_path_of_bed_file)\n",
    "print(bed.shape)\n",
    "bed.head()"
   ]
  },
  {
   "cell_type": "code",
   "execution_count": 4,
   "metadata": {},
   "outputs": [
    {
     "data": {
      "text/plain": [
       "array(['chr1_713779_714381', 'chr1_713779_714381', 'chr1_805231_805496',\n",
       "       ..., 'chrX_154493583_154493874', 'chrX_154563896_154564117',\n",
       "       'chrX_154841912_154842671'], dtype=object)"
      ]
     },
     "execution_count": 4,
     "metadata": {},
     "output_type": "execute_result"
    }
   ],
   "source": [
    "peaks = ma.process_bed_file.df_to_list_peakstr(bed)\n",
    "peaks"
   ]
  },
  {
   "attachments": {},
   "cell_type": "markdown",
   "metadata": {},
   "source": [
    "### Make TSS annotation"
   ]
  },
  {
   "cell_type": "code",
   "execution_count": 5,
   "metadata": {},
   "outputs": [
    {
     "name": "stdout",
     "output_type": "stream",
     "text": [
      "que bed peaks: 889416\n",
      "tss peaks in que: 38991\n"
     ]
    },
    {
     "data": {
      "text/html": [
       "<div>\n",
       "<style scoped>\n",
       "    .dataframe tbody tr th:only-of-type {\n",
       "        vertical-align: middle;\n",
       "    }\n",
       "\n",
       "    .dataframe tbody tr th {\n",
       "        vertical-align: top;\n",
       "    }\n",
       "\n",
       "    .dataframe thead th {\n",
       "        text-align: right;\n",
       "    }\n",
       "</style>\n",
       "<table border=\"1\" class=\"dataframe\">\n",
       "  <thead>\n",
       "    <tr style=\"text-align: right;\">\n",
       "      <th></th>\n",
       "      <th>chr</th>\n",
       "      <th>start</th>\n",
       "      <th>end</th>\n",
       "      <th>gene_short_name</th>\n",
       "      <th>strand</th>\n",
       "    </tr>\n",
       "  </thead>\n",
       "  <tbody>\n",
       "    <tr>\n",
       "      <th>38986</th>\n",
       "      <td>chr21</td>\n",
       "      <td>30487097</td>\n",
       "      <td>30487407</td>\n",
       "      <td>KRTAP19-2</td>\n",
       "      <td>-</td>\n",
       "    </tr>\n",
       "    <tr>\n",
       "      <th>38987</th>\n",
       "      <td>chr21</td>\n",
       "      <td>30487081</td>\n",
       "      <td>30487404</td>\n",
       "      <td>KRTAP19-2</td>\n",
       "      <td>-</td>\n",
       "    </tr>\n",
       "    <tr>\n",
       "      <th>38988</th>\n",
       "      <td>chr21</td>\n",
       "      <td>30487081</td>\n",
       "      <td>30487459</td>\n",
       "      <td>KRTAP19-2</td>\n",
       "      <td>-</td>\n",
       "    </tr>\n",
       "    <tr>\n",
       "      <th>38989</th>\n",
       "      <td>chr21</td>\n",
       "      <td>30487074</td>\n",
       "      <td>30487448</td>\n",
       "      <td>KRTAP19-2</td>\n",
       "      <td>-</td>\n",
       "    </tr>\n",
       "    <tr>\n",
       "      <th>38990</th>\n",
       "      <td>chr21</td>\n",
       "      <td>30487091</td>\n",
       "      <td>30487409</td>\n",
       "      <td>KRTAP19-2</td>\n",
       "      <td>-</td>\n",
       "    </tr>\n",
       "  </tbody>\n",
       "</table>\n",
       "</div>"
      ],
      "text/plain": [
       "         chr     start       end gene_short_name strand\n",
       "38986  chr21  30487097  30487407       KRTAP19-2      -\n",
       "38987  chr21  30487081  30487404       KRTAP19-2      -\n",
       "38988  chr21  30487081  30487459       KRTAP19-2      -\n",
       "38989  chr21  30487074  30487448       KRTAP19-2      -\n",
       "38990  chr21  30487091  30487409       KRTAP19-2      -"
      ]
     },
     "execution_count": 5,
     "metadata": {},
     "output_type": "execute_result"
    }
   ],
   "source": [
    "tss_annotated = ma.get_tss_info(peak_str_list = peaks, ref_genome = 'hg38')\n",
    "tss_annotated.tail()"
   ]
  },
  {
   "cell_type": "code",
   "execution_count": 6,
   "metadata": {},
   "outputs": [
    {
     "name": "stdout",
     "output_type": "stream",
     "text": [
      "(38991, 2)\n"
     ]
    },
    {
     "data": {
      "text/html": [
       "<div>\n",
       "<style scoped>\n",
       "    .dataframe tbody tr th:only-of-type {\n",
       "        vertical-align: middle;\n",
       "    }\n",
       "\n",
       "    .dataframe tbody tr th {\n",
       "        vertical-align: top;\n",
       "    }\n",
       "\n",
       "    .dataframe thead th {\n",
       "        text-align: right;\n",
       "    }\n",
       "</style>\n",
       "<table border=\"1\" class=\"dataframe\">\n",
       "  <thead>\n",
       "    <tr style=\"text-align: right;\">\n",
       "      <th></th>\n",
       "      <th>peak_id</th>\n",
       "      <th>gene_short_name</th>\n",
       "    </tr>\n",
       "  </thead>\n",
       "  <tbody>\n",
       "    <tr>\n",
       "      <th>0</th>\n",
       "      <td>chr17_4583060_4583325</td>\n",
       "      <td>SMTNL2</td>\n",
       "    </tr>\n",
       "    <tr>\n",
       "      <th>1</th>\n",
       "      <td>chr17_4583036_4583307</td>\n",
       "      <td>SMTNL2</td>\n",
       "    </tr>\n",
       "    <tr>\n",
       "      <th>2</th>\n",
       "      <td>chr17_4583142_4583293</td>\n",
       "      <td>SMTNL2</td>\n",
       "    </tr>\n",
       "    <tr>\n",
       "      <th>3</th>\n",
       "      <td>chr17_4583133_4583351</td>\n",
       "      <td>SMTNL2</td>\n",
       "    </tr>\n",
       "    <tr>\n",
       "      <th>4</th>\n",
       "      <td>chr17_4583141_4583288</td>\n",
       "      <td>SMTNL2</td>\n",
       "    </tr>\n",
       "  </tbody>\n",
       "</table>\n",
       "</div>"
      ],
      "text/plain": [
       "                 peak_id gene_short_name\n",
       "0  chr17_4583060_4583325          SMTNL2\n",
       "1  chr17_4583036_4583307          SMTNL2\n",
       "2  chr17_4583142_4583293          SMTNL2\n",
       "3  chr17_4583133_4583351          SMTNL2\n",
       "4  chr17_4583141_4583288          SMTNL2"
      ]
     },
     "execution_count": 6,
     "metadata": {},
     "output_type": "execute_result"
    }
   ],
   "source": [
    "peak_id_tss = ma.process_bed_file.df_to_list_peakstr(tss_annotated)\n",
    "tss_annotated = pd.DataFrame({\"peak_id\": peak_id_tss,\n",
    "                              \"gene_short_name\": tss_annotated.gene_short_name.values})\n",
    "tss_annotated = tss_annotated.reset_index(drop = True)\n",
    "print(tss_annotated.shape)\n",
    "tss_annotated.head()"
   ]
  },
  {
   "attachments": {},
   "cell_type": "markdown",
   "metadata": {},
   "source": [
    "### Save object"
   ]
  },
  {
   "cell_type": "code",
   "execution_count": 7,
   "metadata": {},
   "outputs": [],
   "source": [
    "tss_annotated.to_csv(\"processed_peak_file.csv\")"
   ]
  },
  {
   "cell_type": "code",
   "execution_count": null,
   "metadata": {},
   "outputs": [],
   "source": []
  }
 ],
 "metadata": {
  "kernelspec": {
   "display_name": "Python 3",
   "language": "python",
   "name": "python3"
  },
  "language_info": {
   "codemirror_mode": {
    "name": "ipython",
    "version": 3
   },
   "file_extension": ".py",
   "mimetype": "text/x-python",
   "name": "python",
   "nbconvert_exporter": "python",
   "pygments_lexer": "ipython3",
   "version": "3.9.16"
  }
 },
 "nbformat": 4,
 "nbformat_minor": 4
}
