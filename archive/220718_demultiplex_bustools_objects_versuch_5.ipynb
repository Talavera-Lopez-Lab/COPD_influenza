{
 "cells": [
  {
   "cell_type": "markdown",
   "metadata": {},
   "source": [
    "### Notebook for the demultiplexing of `bustools`-generated `anndata` files\n",
    "\n",
    "- **Developed by:** Carlos Talavera-López Ph.D\n",
    "- **Institute of Computational Biology - Computational Health Centre - Helmholtz Munich**\n",
    "- v220718"
   ]
  },
  {
   "cell_type": "markdown",
   "metadata": {},
   "source": [
    "### Import required modules"
   ]
  },
  {
   "cell_type": "code",
   "execution_count": null,
   "metadata": {},
   "outputs": [],
   "source": [
    "import anndata\n",
    "import pandas as pd\n",
    "import scanpy as sc\n",
    "import datatable as dt"
   ]
  },
  {
   "cell_type": "markdown",
   "metadata": {},
   "source": [
    "### Set up working environment"
   ]
  },
  {
   "cell_type": "code",
   "execution_count": null,
   "metadata": {},
   "outputs": [],
   "source": [
    "BDdata = '/Volumes/Bf110/ct5/raw_data/lung/influenza/sevenbridges/Versuch_5/'"
   ]
  },
  {
   "cell_type": "markdown",
   "metadata": {},
   "source": [
    "### Read in _BD Rhapsody_ files for Versuch_5\n",
    "\n",
    "- UMIs are called _Raw_Molecules_\n",
    "- Genes/Features are called _Bioproduct_\n",
    "- Sample Tag Version: hs | Sample Tag Names: 7-CSE_CTRL ; 8-GnR_CTRL ; 9-CSE_IAV ; 10-GnR_IAV"
   ]
  },
  {
   "cell_type": "code",
   "execution_count": null,
   "metadata": {},
   "outputs": [],
   "source": [
    "BDr_1 = dt.fread(BDdata + 'Versuch_5_SampleTag01_hs_GER12_CTRL/Versuch_5_SampleTag01_hs_GER12_CTRL_Expression_Data.st', header = True, skip_to_line = 8).to_pandas()\n",
    "BDr_1_df = pd.DataFrame().assign(Cells = BDr_1['Cell_Index'], UMIs = BDr_1['Raw_Molecules'].astype('float'), Features = BDr_1['Bioproduct'])\n",
    "BDr_1_table = pd.pivot_table(BDr_1_df, values = 'UMIs', index = ['Cells'], columns = ['Features'], fill_value = 0)\n",
    "adata_1 = sc.AnnData(BDr_1_table)\n",
    "adata_1"
   ]
  },
  {
   "cell_type": "code",
   "execution_count": null,
   "metadata": {},
   "outputs": [],
   "source": [
    "adata_1.obs['sex'] = 'male'\n",
    "adata_1.obs['age'] = '42'\n",
    "adata_1.obs['condition'] = 'CTRL'\n",
    "adata_1.obs['ethnicity'] = 'caucasian'\n",
    "adata_1.obs['PaCO2'] = '84.3'\n",
    "adata_1.obs['donor'] = 'GER-12'\n",
    "adata_1.obs['infection'] = 'CTRL'\n",
    "adata_1.obs['disease'] = 'healthy'\n",
    "adata_1.obs['SMK'] = '1'\n",
    "adata_1.obs['illumina_stimunr'] = '21_0398'\n",
    "adata_1.obs['bd_rhapsody'] = '5'\n",
    "adata_1.obs.head()"
   ]
  },
  {
   "cell_type": "code",
   "execution_count": null,
   "metadata": {},
   "outputs": [],
   "source": [
    "BDr_2 = dt.fread(BDdata + 'Versuch_5_SampleTag02_hs_GER12_IAV/Versuch_5_SampleTag02_hs_GER12_IAV_Expression_Data.st', header = True, skip_to_line = 8).to_pandas()\n",
    "BDr_2_df = pd.DataFrame().assign(Cells = BDr_2['Cell_Index'], UMIs = BDr_2['Raw_Molecules'].astype('float'), Features = BDr_2['Bioproduct'])\n",
    "BDr_2_table = pd.pivot_table(BDr_2_df, values = 'UMIs', index = ['Cells'], columns = ['Features'], fill_value = 0)\n",
    "adata_2 = sc.AnnData(BDr_2_table)\n",
    "adata_2"
   ]
  },
  {
   "cell_type": "code",
   "execution_count": null,
   "metadata": {},
   "outputs": [],
   "source": [
    "adata_2.obs['sex'] = 'male'\n",
    "adata_2.obs['age'] = '42'\n",
    "adata_2.obs['condition'] = 'IAV'\n",
    "adata_2.obs['ethnicity'] = 'caucasian'\n",
    "adata_2.obs['PaCO2'] = '84.3'\n",
    "adata_2.obs['donor'] = 'GER-12'\n",
    "adata_2.obs['infection'] = 'IAV'\n",
    "adata_2.obs['disease'] = 'healthy'\n",
    "adata_2.obs['SMK'] = '2'\n",
    "adata_2.obs['illumina_stimunr'] = '21_0398'\n",
    "adata_2.obs['bd_rhapsody'] = '5'\n",
    "adata_2.obs.head()"
   ]
  },
  {
   "cell_type": "code",
   "execution_count": null,
   "metadata": {},
   "outputs": [],
   "source": [
    "BDr_3 = dt.fread(BDdata + 'Versuch_5_SampleTag03_hs_CHE03_CTRL/Versuch_5_SampleTag03_hs_CHE03_CTRL_Expression_Data.st', header = True, skip_to_line = 8).to_pandas()\n",
    "BDr_3_df = pd.DataFrame().assign(Cells = BDr_3['Cell_Index'], UMIs = BDr_3['Raw_Molecules'].astype('float'), Features = BDr_3['Bioproduct'])\n",
    "BDr_3_table = pd.pivot_table(BDr_3_df, values = 'UMIs', index = ['Cells'], columns = ['Features'], fill_value = 0)\n",
    "adata_3 = sc.AnnData(BDr_3_table)\n",
    "adata_3"
   ]
  },
  {
   "cell_type": "code",
   "execution_count": null,
   "metadata": {},
   "outputs": [],
   "source": [
    "adata_3.obs['sex'] = 'male'\n",
    "adata_3.obs['age'] = '70'\n",
    "adata_3.obs['condition'] = 'CTRL'\n",
    "adata_3.obs['ethnicity'] = 'caucasian'\n",
    "adata_3.obs['PaCO2'] = '69.8'\n",
    "adata_3.obs['donor'] = 'CHE-03'\n",
    "adata_3.obs['infection'] = 'CTRL'\n",
    "adata_3.obs['disease'] = 'COPD'\n",
    "adata_3.obs['SMK'] = '3'\n",
    "adata_3.obs['illumina_stimunr'] = '21_0398'\n",
    "adata_3.obs['bd_rhapsody'] = '5'\n",
    "adata_3.obs.head()"
   ]
  },
  {
   "cell_type": "code",
   "execution_count": null,
   "metadata": {},
   "outputs": [],
   "source": [
    "BDr_4 = dt.fread(BDdata + 'Versuch_5_SampleTag04_hs_CHE03_IAV/Versuch_5_SampleTag04_hs_CHE03_IAV_Expression_Data.st', header = True, skip_to_line = 8).to_pandas()\n",
    "BDr_4_df = pd.DataFrame().assign(Cells = BDr_4['Cell_Index'], UMIs = BDr_4['Raw_Molecules'].astype('float'), Features = BDr_4['Bioproduct'])\n",
    "BDr_4_table = pd.pivot_table(BDr_4_df, values = 'UMIs', index = ['Cells'], columns = ['Features'], fill_value = 0)\n",
    "adata_4 = sc.AnnData(BDr_4_table)\n",
    "adata_4"
   ]
  },
  {
   "cell_type": "code",
   "execution_count": null,
   "metadata": {},
   "outputs": [],
   "source": [
    "\n",
    "adata_4.obs['sex'] = 'male'\n",
    "adata_4.obs['age'] = '70'\n",
    "adata_4.obs['condition'] = 'IAV'\n",
    "adata_4.obs['ethnicity'] = 'caucasian'\n",
    "adata_4.obs['PaCO2'] = '66.2'\n",
    "adata_4.obs['donor'] = 'CHE-02'\n",
    "adata_4.obs['infection'] = 'IAV'\n",
    "adata_4.obs['disease'] = 'COPD'\n",
    "adata_4.obs['SMK'] = '4'\n",
    "adata_4.obs['illumina_stimunr'] = '21_0398'\n",
    "adata_4.obs['bd_rhapsody'] = '5'\n",
    "adata_4.obs.head()"
   ]
  },
  {
   "cell_type": "markdown",
   "metadata": {},
   "source": [
    "### Save individual objects"
   ]
  },
  {
   "cell_type": "code",
   "execution_count": null,
   "metadata": {},
   "outputs": [],
   "source": [
    "adata_1.write('/Volumes/Bf110/ct5/raw_data/lung/influenza/icb/Versuch_5_ST01_CTRL_GEX.h5ad')\n",
    "adata_2.write('/Volumes/Bf110/ct5/raw_data/lung/influenza/icb/Versuch_5_ST02_IAV_GEX.h5ad')\n",
    "adata_3.write('/Volumes/Bf110/ct5/raw_data/lung/influenza/icb/Versuch_5_ST03_CTRL_GEX.h5ad')\n",
    "adata_4.write('/Volumes/Bf110/ct5/raw_data/lung/influenza/icb/Versuch_5_ST04_IAV_GEX.h5ad')"
   ]
  },
  {
   "cell_type": "code",
   "execution_count": null,
   "metadata": {},
   "outputs": [],
   "source": [
    "adata_4.X"
   ]
  },
  {
   "cell_type": "code",
   "execution_count": null,
   "metadata": {},
   "outputs": [],
   "source": []
  }
 ],
 "metadata": {
  "kernelspec": {
   "display_name": "Python 3.9.7 ('base')",
   "language": "python",
   "name": "python3"
  },
  "language_info": {
   "codemirror_mode": {
    "name": "ipython",
    "version": 3
   },
   "file_extension": ".py",
   "mimetype": "text/x-python",
   "name": "python",
   "nbconvert_exporter": "python",
   "pygments_lexer": "ipython3",
   "version": "3.9.7"
  },
  "orig_nbformat": 4,
  "vscode": {
   "interpreter": {
    "hash": "ed18ba783afa68584f89c0e1dc87cd5f0dbea19d03cc696bd28b7f836af058ef"
   }
  }
 },
 "nbformat": 4,
 "nbformat_minor": 2
}
