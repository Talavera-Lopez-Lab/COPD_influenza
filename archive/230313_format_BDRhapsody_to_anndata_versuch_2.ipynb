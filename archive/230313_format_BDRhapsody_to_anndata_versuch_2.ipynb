{
 "cells": [
  {
   "attachments": {},
   "cell_type": "markdown",
   "metadata": {},
   "source": [
    "### Notebook to format the BDRhapsody data from Seven Bridges into an `anndata` object\n",
    "\n",
    "- **Developed by:** Carlos Talavera-López Ph.D\n",
    "- **Institute of Computational Biology - Computational Health Centre - Helmholtz Munich**\n",
    "- v230313"
   ]
  },
  {
   "cell_type": "markdown",
   "metadata": {},
   "source": [
    "### Import required modules"
   ]
  },
  {
   "cell_type": "code",
   "execution_count": null,
   "metadata": {},
   "outputs": [],
   "source": [
    "import anndata\n",
    "import pandas as pd\n",
    "import scanpy as sc\n",
    "import datatable as dt"
   ]
  },
  {
   "cell_type": "markdown",
   "metadata": {},
   "source": [
    "### Set up working environment"
   ]
  },
  {
   "cell_type": "code",
   "execution_count": null,
   "metadata": {},
   "outputs": [],
   "source": [
    "BDdata = '/Volumes/XF-11/working_datasets/marburg/sevenbridges_raw/grch38-iav/'"
   ]
  },
  {
   "cell_type": "markdown",
   "metadata": {},
   "source": [
    "### Read in _BD Rhapsody_ files for Versuch_2\n",
    "\n",
    "- UMIs are called _Raw_Molecules_\n",
    "- Genes/Features are called _Bioproduct_\n",
    "- Sample Tag Version: hs | Sample Tag Names: 7-CSE_CTRL ; 8-GnR_CTRL ; 9-CSE_IAV ; 10-GnR_IAV"
   ]
  },
  {
   "cell_type": "code",
   "execution_count": null,
   "metadata": {},
   "outputs": [],
   "source": [
    "BDr_1 = dt.fread(BDdata + 'Versuch_2/V2-test_SampleTag01_hs_CSE_06_CRTL/V2-test_SampleTag01_hs_CSE_06_CRTL_Expression_Data.st', header = True, skip_to_line = 8).to_pandas()\n",
    "BDr_1_df = pd.DataFrame().assign(Cells = BDr_1['Cell_Index'], UMIs = BDr_1['RSEC_Reads'].astype('float'), Features = BDr_1['Bioproduct'])\n",
    "BDr_1_table = pd.pivot_table(BDr_1_df, values = 'UMIs', index = ['Cells'], columns = ['Features'], fill_value = 0)\n",
    "adata_1 = sc.AnnData(BDr_1_table, dtype = 'int64')\n",
    "adata_1"
   ]
  },
  {
   "cell_type": "code",
   "execution_count": null,
   "metadata": {},
   "outputs": [],
   "source": [
    "adata_1.obs['sex'] = 'male'\n",
    "adata_1.obs['age'] = '40'\n",
    "adata_1.obs['condition'] = 'CTRL'\n",
    "adata_1.obs['ethnicity'] = 'caucasian'\n",
    "adata_1.obs['PaCO2'] = '99.4'\n",
    "adata_1.obs['donor'] = 'GNR-07'\n",
    "adata_1.obs['infection'] = 'CTRL'\n",
    "adata_1.obs['disease'] = 'healthy'\n",
    "adata_1.obs['SMK'] = '1'\n",
    "adata_1.obs['illumina_stimunr'] = '21_0341'\n",
    "adata_1.obs['bd_rhapsody'] = '2'\n",
    "adata_1.obs.head()"
   ]
  },
  {
   "cell_type": "code",
   "execution_count": null,
   "metadata": {},
   "outputs": [],
   "source": [
    "BDr_2 = dt.fread(BDdata + 'Versuch_2/V2-test_SampleTag02_hs_CSE_06_IAV/V2-test_SampleTag02_hs_CSE_06_IAV_Expression_Data.st', header = True, skip_to_line = 8).to_pandas()\n",
    "BDr_2_df = pd.DataFrame().assign(Cells = BDr_2['Cell_Index'], UMIs = BDr_2['RSEC_Reads'].astype('float'), Features = BDr_2['Bioproduct'])\n",
    "BDr_2_table = pd.pivot_table(BDr_2_df, values = 'UMIs', index = ['Cells'], columns = ['Features'], fill_value = 0)\n",
    "adata_2 = sc.AnnData(BDr_2_table, dtype = 'int64')\n",
    "adata_2"
   ]
  },
  {
   "cell_type": "code",
   "execution_count": null,
   "metadata": {},
   "outputs": [],
   "source": [
    "adata_2.obs['sex'] = 'male'\n",
    "adata_2.obs['age'] = '40'\n",
    "adata_2.obs['condition'] = 'IAV'\n",
    "adata_2.obs['ethnicity'] = 'caucasian'\n",
    "adata_2.obs['PaCO2'] = '99.4'\n",
    "adata_2.obs['donor'] = 'GNR-07'\n",
    "adata_2.obs['infection'] = 'IAV'\n",
    "adata_2.obs['disease'] = 'healthy'\n",
    "adata_2.obs['SMK'] = '2'\n",
    "adata_2.obs['illumina_stimunr'] = '21_0341'\n",
    "adata_2.obs['bd_rhapsody'] = '2'\n",
    "adata_2.obs.head()"
   ]
  },
  {
   "cell_type": "code",
   "execution_count": null,
   "metadata": {},
   "outputs": [],
   "source": [
    "BDr_3 = dt.fread(BDdata + 'Versuch_2_SampleTag11_hs_GnR_07_CTRL/Versuch_2_SampleTag11_hs_GnR_07_CTRL_Expression_Data.st', header = True, skip_to_line = 8).to_pandas()\n",
    "BDr_3_df = pd.DataFrame().assign(Cells = BDr_3['Cell_Index'], UMIs = BDr_3['Raw_Molecules'].astype('float'), Features = BDr_3['Bioproduct'])\n",
    "BDr_3_table = pd.pivot_table(BDr_3_df, values = 'UMIs', index = ['Cells'], columns = ['Features'], fill_value = 0)\n",
    "adata_3 = sc.AnnData(BDr_3_table)\n",
    "adata_3"
   ]
  },
  {
   "cell_type": "code",
   "execution_count": null,
   "metadata": {},
   "outputs": [],
   "source": [
    "adata_3.obs['sex'] = 'male'\n",
    "adata_3.obs['age'] = '69'\n",
    "adata_3.obs['condition'] = 'CTRL'\n",
    "adata_3.obs['ethnicity'] = 'caucasian'\n",
    "adata_3.obs['PaCO2'] = '61.2'\n",
    "adata_3.obs['donor'] = 'CSE-06'\n",
    "adata_3.obs['infection'] = 'CTRL'\n",
    "adata_3.obs['disease'] = 'COPD'\n",
    "adata_3.obs['SMK'] = '11'\n",
    "adata_3.obs['illumina_stimunr'] = '21_0341'\n",
    "adata_3.obs['bd_rhapsody'] = '2'\n",
    "adata_3.obs.head()"
   ]
  },
  {
   "cell_type": "code",
   "execution_count": null,
   "metadata": {},
   "outputs": [],
   "source": [
    "BDr_4 = dt.fread(BDdata + 'Versuch_2_SampleTag12_hs_GnR_07_IAV/Versuch_2_SampleTag12_hs_GnR_07_IAV_Expression_Data.st', header = True, skip_to_line = 8).to_pandas()\n",
    "BDr_4_df = pd.DataFrame().assign(Cells = BDr_4['Cell_Index'], UMIs = BDr_4['Raw_Molecules'].astype('float'), Features = BDr_4['Bioproduct'])\n",
    "BDr_4_table = pd.pivot_table(BDr_4_df, values = 'UMIs', index = ['Cells'], columns = ['Features'], fill_value = 0)\n",
    "adata_4 = sc.AnnData(BDr_4_table)\n",
    "adata_4"
   ]
  },
  {
   "cell_type": "code",
   "execution_count": null,
   "metadata": {},
   "outputs": [],
   "source": [
    "adata_4.obs['sex'] = 'male'\n",
    "adata_4.obs['age'] = '69'\n",
    "adata_4.obs['condition'] = 'IAV'\n",
    "adata_4.obs['ethnicity'] = 'caucasian'\n",
    "adata_4.obs['PaCO2'] = '73.3'\n",
    "adata_4.obs['donor'] = 'CSE-06'\n",
    "adata_4.obs['infection'] = 'IAV'\n",
    "adata_4.obs['disease'] = 'COPD'\n",
    "adata_4.obs['SMK'] = '12'\n",
    "adata_4.obs['illumina_stimunr'] = '21_0341'\n",
    "adata_4.obs['bd_rhapsody'] = '2'\n",
    "adata_4.obs.head()"
   ]
  },
  {
   "cell_type": "markdown",
   "metadata": {},
   "source": [
    "### Save individual objects"
   ]
  },
  {
   "cell_type": "code",
   "execution_count": null,
   "metadata": {},
   "outputs": [],
   "source": [
    "adata_1.write('/Volumes/Bf110/ct5/raw_data/lung/influenza/icb/Versuch_2_ST01_CSE_CRTL_GEX.h5ad')\n",
    "adata_2.write('/Volumes/Bf110/ct5/raw_data/lung/influenza/icb/Versuch_2_ST02_CSE_IAV_GEX.h5ad')\n",
    "adata_3.write('/Volumes/Bf110/ct5/raw_data/lung/influenza/icb/Versuch_2_ST11_GnR_CTRL_GEX.h5ad')\n",
    "adata_4.write('/Volumes/Bf110/ct5/raw_data/lung/influenza/icb/Versuch_2_ST12_GnR_IAV_GEX.h5ad')"
   ]
  },
  {
   "cell_type": "code",
   "execution_count": null,
   "metadata": {},
   "outputs": [],
   "source": [
    "adata_4.X"
   ]
  },
  {
   "cell_type": "code",
   "execution_count": null,
   "metadata": {},
   "outputs": [],
   "source": []
  }
 ],
 "metadata": {
  "kernelspec": {
   "display_name": "Python 3.9.7 ('base')",
   "language": "python",
   "name": "python3"
  },
  "language_info": {
   "codemirror_mode": {
    "name": "ipython",
    "version": 3
   },
   "file_extension": ".py",
   "mimetype": "text/x-python",
   "name": "python",
   "nbconvert_exporter": "python",
   "pygments_lexer": "ipython3",
   "version": "3.9.16"
  },
  "orig_nbformat": 4,
  "vscode": {
   "interpreter": {
    "hash": "ed18ba783afa68584f89c0e1dc87cd5f0dbea19d03cc696bd28b7f836af058ef"
   }
  }
 },
 "nbformat": 4,
 "nbformat_minor": 2
}
