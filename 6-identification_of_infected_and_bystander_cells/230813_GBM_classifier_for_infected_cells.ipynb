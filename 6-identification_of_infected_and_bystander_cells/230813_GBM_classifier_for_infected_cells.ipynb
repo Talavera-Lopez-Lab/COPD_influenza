{
 "cells": [
  {
   "attachments": {},
   "cell_type": "markdown",
   "metadata": {},
   "source": [
    "### Notebook to build a Gradient Boosting Machine (GBM) classifier for infected and bystander cells \n",
    "\n",
    "- **Developed by**: Carlos Talavera-López Ph.D\n",
    "- **Würzburg Institute for Systems Immunology & Faculty of Medicine, Julius-Maximilian-Universität Würzburg**\n",
    "- v230813"
   ]
  },
  {
   "attachments": {},
   "cell_type": "markdown",
   "metadata": {},
   "source": [
    "### Import required modules"
   ]
  },
  {
   "cell_type": "code",
   "execution_count": 1,
   "metadata": {},
   "outputs": [],
   "source": [
    "import anndata\n",
    "import numpy as np\n",
    "import pandas as pd\n",
    "import scanpy as sc\n",
    "import xgboost as xgb\n",
    "import seaborn as sns\n",
    "from pywaffle import Waffle\n",
    "import matplotlib.pyplot as plt\n",
    "\n",
    "from sklearn.metrics import roc_curve, auc\n",
    "from sklearn.preprocessing import LabelEncoder\n",
    "from sklearn.preprocessing import label_binarize\n",
    "from sklearn.model_selection import train_test_split\n",
    "from sklearn.metrics import accuracy_score, confusion_matrix, classification_report"
   ]
  },
  {
   "attachments": {},
   "cell_type": "markdown",
   "metadata": {},
   "source": [
    "### Set up working environment"
   ]
  },
  {
   "cell_type": "code",
   "execution_count": null,
   "metadata": {},
   "outputs": [],
   "source": [
    "sc.settings.verbosity = 3\n",
    "sc.logging.print_versions()\n",
    "sc.settings.set_figure_params(dpi = 180, color_map = 'RdPu', dpi_save = 300, vector_friendly = True, format = 'svg')"
   ]
  },
  {
   "attachments": {},
   "cell_type": "markdown",
   "metadata": {},
   "source": [
    "### Read in Healthy-CTRL dataset"
   ]
  },
  {
   "cell_type": "code",
   "execution_count": null,
   "metadata": {},
   "outputs": [],
   "source": [
    "adata = sc.read_h5ad('../data/Marburg_cell_states_locked_scANVI_ctl230813.raw.h5ad') \n",
    "adata"
   ]
  },
  {
   "cell_type": "markdown",
   "metadata": {},
   "source": [
    "### Make a density plot for all viral counts in each group"
   ]
  },
  {
   "cell_type": "code",
   "execution_count": null,
   "metadata": {},
   "outputs": [],
   "source": [
    "viral_genes = [gene for gene in adata.var_names if 'NC_' in gene]\n",
    "adata.obs['viral_counts'] = np.sum(adata[:, viral_genes].X, axis = 1)"
   ]
  },
  {
   "cell_type": "code",
   "execution_count": null,
   "metadata": {},
   "outputs": [],
   "source": [
    "plt.figure(figsize = (12, 6))\n",
    "sns.kdeplot(data = adata.obs, x = 'viral_counts', hue = 'group', common_norm = False, fill = True)\n",
    "plt.title('Density of Viral Transcript Counts per Group')\n",
    "plt.xlabel('Total Viral Transcript Counts')\n",
    "plt.ylabel('Density')\n",
    "plt.xlim(0, 6500)\n",
    "plt.show()"
   ]
  },
  {
   "cell_type": "code",
   "execution_count": null,
   "metadata": {},
   "outputs": [],
   "source": [
    "group_means = adata.obs.groupby('group')['viral_counts'].mean()\n",
    "\n",
    "# Plotting the barplot\n",
    "plt.figure(figsize = (6, 8))\n",
    "sns.barplot(x = group_means.index, y = group_means.values, palette = 'Dark2')\n",
    "\n",
    "plt.xlabel('Group')\n",
    "plt.ylabel('Average Viral Transcript Counts')\n",
    "plt.title('Average Viral Transcripts per Group')\n",
    "plt.tight_layout()\n",
    "plt.show()"
   ]
  },
  {
   "attachments": {},
   "cell_type": "markdown",
   "metadata": {},
   "source": [
    "### Create labels for infected, non-infected and bystander/unknown"
   ]
  },
  {
   "cell_type": "raw",
   "metadata": {},
   "source": [
    "def classify_cells(row):\n",
    "    iav_genes = adata.var_names[adata.var_names.str.startswith('NC_')]\n",
    "    num_iav_genes_expressed = sum(row[adata.var_names.isin(iav_genes)] > 0)\n",
    "\n",
    "    if num_iav_genes_expressed == len(iav_genes):\n",
    "        return 'infected'\n",
    "    elif 0 < num_iav_genes_expressed <= 2:\n",
    "        return 'bystander'\n",
    "    else:\n",
    "        return 'uninfected'"
   ]
  },
  {
   "cell_type": "code",
   "execution_count": null,
   "metadata": {},
   "outputs": [],
   "source": [
    "def classify_cells(row):\n",
    "    iav_genes = adata.var_names[adata.var_names.str.startswith('NC_')]\n",
    "    iav_counts = row[adata.var_names.isin(iav_genes)]\n",
    "    \n",
    "    total_iav_count = iav_counts.sum()\n",
    "    \n",
    "    num_iav_genes_expressed = sum(iav_counts > 0)\n",
    "\n",
    "    if num_iav_genes_expressed == len(iav_genes) and total_iav_count > 300:\n",
    "        return 'infected'\n",
    "    elif num_iav_genes_expressed <= 2 and total_iav_count < 300:\n",
    "        return 'bystander'\n",
    "    else:\n",
    "        return 'uninfected'"
   ]
  },
  {
   "cell_type": "code",
   "execution_count": null,
   "metadata": {},
   "outputs": [],
   "source": [
    "adata.obs['infection_status'] = [classify_cells(row) for row in adata.X.toarray()]"
   ]
  },
  {
   "cell_type": "markdown",
   "metadata": {},
   "source": [
    "### Split data for training"
   ]
  },
  {
   "cell_type": "code",
   "execution_count": null,
   "metadata": {},
   "outputs": [],
   "source": [
    "X = adata.X\n",
    "y = adata.obs['infection_status'].values\n",
    "\n",
    "label_encoder = LabelEncoder()\n",
    "y_int = label_encoder.fit_transform(y)\n",
    "\n",
    "X_train, X_test, y_train_int, y_test_int = train_test_split(X, y_int, test_size = 0.2, random_state = 1712)"
   ]
  },
  {
   "cell_type": "code",
   "execution_count": null,
   "metadata": {},
   "outputs": [],
   "source": [
    "adata.obs['infection_status'].value_counts()"
   ]
  },
  {
   "cell_type": "markdown",
   "metadata": {},
   "source": [
    "### Train GBM classifier"
   ]
  },
  {
   "cell_type": "code",
   "execution_count": null,
   "metadata": {},
   "outputs": [],
   "source": [
    "dtrain = xgb.DMatrix(X_train, label = y_train_int)\n",
    "dtest = xgb.DMatrix(X_test, label = y_test_int)"
   ]
  },
  {
   "cell_type": "code",
   "execution_count": null,
   "metadata": {},
   "outputs": [],
   "source": [
    "# Parameters for XGBoost\n",
    "param = {\n",
    "    'max_depth': 6,\n",
    "    'objective': 'multi:softprob',  # output probabilities\n",
    "    'num_class': 3\n",
    "}\n",
    "num_round = 20"
   ]
  },
  {
   "cell_type": "code",
   "execution_count": null,
   "metadata": {},
   "outputs": [],
   "source": [
    "watchlist = [(dtrain, 'train'), (dtest, 'test')]\n",
    "bst = xgb.train(param, dtrain, num_round, evals=[(dtest, 'eval'), (dtrain, 'train')], verbose_eval=True)\n",
    "preds = bst.predict(dtest)"
   ]
  },
  {
   "cell_type": "code",
   "execution_count": null,
   "metadata": {},
   "outputs": [],
   "source": [
    "preds_prob = bst.predict(dtest)\n",
    "\n",
    "# Convert the labels to a binary format for ROC curve\n",
    "y_test_bin = label_binarize(y_test_int, classes = [0, 1, 2])\n",
    "\n",
    "# Compute ROC curve for each class\n",
    "fpr = dict()\n",
    "tpr = dict()\n",
    "roc_auc = dict()\n",
    "for i in range(3):\n",
    "    fpr[i], tpr[i], _ = roc_curve(y_test_bin[:, i], preds_prob[:, i])\n",
    "    roc_auc[i] = auc(fpr[i], tpr[i])\n",
    "\n",
    "# Plot the ROC curve\n",
    "colors = ['blue', 'red', 'green']\n",
    "classes = ['infected', 'bystander', 'uninfected']\n",
    "for i, color in zip(range(3), colors):\n",
    "    plt.plot(fpr[i], tpr[i], color = color, lw = 2,\n",
    "             label = '{0} (area = {1:0.2f})'.format(classes[i], roc_auc[i]))\n",
    "\n",
    "plt.plot([0, 1], [0, 1], 'k--', lw=2)\n",
    "plt.xlim([0.0, 1.0])\n",
    "plt.ylim([0.0, 1.05])\n",
    "plt.xlabel('False Positive Rate')\n",
    "plt.ylabel('True Positive Rate')\n",
    "plt.title('ROC curve for cell classification')\n",
    "plt.legend(loc = \"lower right\")\n",
    "plt.show()\n"
   ]
  },
  {
   "cell_type": "code",
   "execution_count": null,
   "metadata": {},
   "outputs": [],
   "source": [
    "evals_result = {}\n",
    "bst = xgb.train(param, dtrain, num_round, evals=[(dtest, 'eval'), (dtrain, 'train')],\n",
    "                evals_result = evals_result, verbose_eval = True)"
   ]
  },
  {
   "cell_type": "code",
   "execution_count": null,
   "metadata": {},
   "outputs": [],
   "source": [
    "print(evals_result['train'].keys())"
   ]
  },
  {
   "cell_type": "code",
   "execution_count": null,
   "metadata": {},
   "outputs": [],
   "source": [
    "epochs = len(evals_result['train']['mlogloss'])\n",
    "x_axis = range(0, epochs)\n",
    "\n",
    "fig, ax = plt.subplots(figsize = (5, 5))\n",
    "ax.plot(x_axis, evals_result['train']['mlogloss'], label = 'Train')\n",
    "ax.plot(x_axis, evals_result['eval']['mlogloss'], label = 'Test') \n",
    "ax.legend()\n",
    "plt.ylabel('Multi Class Log Loss')\n",
    "plt.title('XGBoost Multi Class Log Loss')\n",
    "plt.show()"
   ]
  },
  {
   "cell_type": "markdown",
   "metadata": {},
   "source": [
    "### Visualise gene importance"
   ]
  },
  {
   "cell_type": "code",
   "execution_count": null,
   "metadata": {},
   "outputs": [],
   "source": [
    "importance = bst.get_score(importance_type = 'weight')\n",
    "sorted_importance = sorted(importance.items(), key = lambda x: x[1], reverse = True)"
   ]
  },
  {
   "cell_type": "code",
   "execution_count": null,
   "metadata": {},
   "outputs": [],
   "source": [
    "gene_names = adata.var_names.tolist()\n",
    "sorted_importance_with_names = [(gene_names[int(key[1:])], value) for key, value in sorted_importance]"
   ]
  },
  {
   "cell_type": "code",
   "execution_count": null,
   "metadata": {},
   "outputs": [],
   "source": [
    "N = 25  # number of top features to display, change as needed\n",
    "top_genes = sorted_importance_with_names[:N]\n",
    "names, values = zip(*top_genes)\n",
    "\n",
    "plt.figure(figsize = (8, 8))\n",
    "plt.barh(names, values)\n",
    "plt.gca().invert_yaxis()  # to display the most important gene at the top\n",
    "plt.xlabel('Importance Score')\n",
    "plt.title('Top {} Gene Importance'.format(N))\n",
    "plt.show()\n"
   ]
  },
  {
   "cell_type": "code",
   "execution_count": null,
   "metadata": {},
   "outputs": [],
   "source": [
    "sc.pl.umap(adata, frameon = False, color = ['group', 'disease', 'infection', 'infection_status', 'cell_states'], size = 1, legend_fontsize = 5, ncols = 4)"
   ]
  },
  {
   "cell_type": "code",
   "execution_count": null,
   "metadata": {},
   "outputs": [],
   "source": [
    "sc.pl.umap(adata, frameon = False, color = ['infection_status'], groups = ['bystander'] ,size = 1, legend_fontsize = 5, ncols = 4)"
   ]
  },
  {
   "cell_type": "code",
   "execution_count": null,
   "metadata": {},
   "outputs": [],
   "source": [
    "sc.pl.umap(adata, frameon = False, color = ['infection_status'], groups = ['infected'] ,size = 1, legend_fontsize = 5, ncols = 4)"
   ]
  },
  {
   "cell_type": "code",
   "execution_count": null,
   "metadata": {},
   "outputs": [],
   "source": [
    "sc.pl.umap(adata, frameon = False, color = ['infection_status'], groups = ['uninfected'] ,size = 1, legend_fontsize = 5, ncols = 4)"
   ]
  },
  {
   "cell_type": "code",
   "execution_count": null,
   "metadata": {},
   "outputs": [],
   "source": [
    "df = adata.obs.groupby(['group', 'infection_status']).size().reset_index(name = 'counts')\n",
    "\n",
    "grouped = df.groupby('group')['counts'].apply(lambda x: x / x.sum() * 100)\n",
    "grouped = grouped.reset_index()\n",
    "\n",
    "df['proportions'] = grouped['counts']\n",
    "df['waffle_counts'] = (df['proportions'] * 10).astype(int)"
   ]
  },
  {
   "cell_type": "code",
   "execution_count": null,
   "metadata": {},
   "outputs": [],
   "source": [
    "for group in df['group'].unique():\n",
    "    temp_df = df[df['group'] == group]\n",
    "    \n",
    "    data = dict(zip(temp_df['infection_status'], temp_df['waffle_counts']))\n",
    "    fig = plt.figure(\n",
    "        FigureClass = Waffle, \n",
    "        rows = 8, \n",
    "        values = data, \n",
    "        title = {'label': f'Group {group}', 'loc': 'left'},\n",
    "        labels = [f\"{k} ({v}%)\" for k, v in zip(temp_df['infection_status'], temp_df['proportions'].round(2))],\n",
    "        #legend = {'loc': 'lower left', 'bbox_to_anchor': (0, -0.4), 'ncol': len(data), 'framealpha': 0},\n",
    "        legend = {'loc': 'lower left', 'bbox_to_anchor': (0, -0.4), 'ncol': 12, 'framealpha': 0},\n",
    "        figsize = (40, 4)\n",
    "    )\n",
    "    plt.show()"
   ]
  },
  {
   "cell_type": "code",
   "execution_count": null,
   "metadata": {},
   "outputs": [],
   "source": [
    "data = pd.crosstab(adata.obs['group'], adata.obs['infection_status'])\n",
    "\n",
    "ax1 = data.plot.barh(stacked = True, edgecolor = 'none', zorder = 3, figsize = (16,8), fontsize = 10, grid = False, width = 0.6)\n",
    "horiz_offset = 1.0\n",
    "vert_offset = 1.0\n",
    "ax1.legend(bbox_to_anchor = (horiz_offset, vert_offset), ncol = 1)\n",
    "\n",
    "for c in ax1.containers:\n",
    "    \n",
    "    labels = [f'{w:0.2f}' if (w := v.get_width()) > 0 else '' for v in c]\n",
    "    ax1.bar_label(c, labels = labels, label_type = 'center', padding = 1, color = 'black', rotation = 270, fontsize = 6)"
   ]
  },
  {
   "cell_type": "code",
   "execution_count": null,
   "metadata": {},
   "outputs": [],
   "source": []
  }
 ],
 "metadata": {
  "kernelspec": {
   "display_name": "scanpy",
   "language": "python",
   "name": "python3"
  },
  "language_info": {
   "codemirror_mode": {
    "name": "ipython",
    "version": 3
   },
   "file_extension": ".py",
   "mimetype": "text/x-python",
   "name": "python",
   "nbconvert_exporter": "python",
   "pygments_lexer": "ipython3",
   "version": "3.9.16"
  },
  "orig_nbformat": 4,
  "vscode": {
   "interpreter": {
    "hash": "4872569c54efb9f76cf4e832d436e1eb1949715732f7c5070dbaa4d04650f385"
   }
  }
 },
 "nbformat": 4,
 "nbformat_minor": 2
}
