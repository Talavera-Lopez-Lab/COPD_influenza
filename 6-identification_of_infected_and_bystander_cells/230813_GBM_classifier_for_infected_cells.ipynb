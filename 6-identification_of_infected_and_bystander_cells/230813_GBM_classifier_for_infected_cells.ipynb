{
 "cells": [
  {
   "attachments": {},
   "cell_type": "markdown",
   "metadata": {},
   "source": [
    "### Notebook to build a Gradient Boosting Machine (GBM) classifier for infected and bystander cells \n",
    "\n",
    "- **Developed by**: Carlos Talavera-López Ph.D\n",
    "- **Würzburg Institute for Systems Immunology & Faculty of Medicine, Julius-Maximilian-Universität Würzburg**\n",
    "- v230813"
   ]
  },
  {
   "attachments": {},
   "cell_type": "markdown",
   "metadata": {},
   "source": [
    "### Import required modules"
   ]
  },
  {
   "cell_type": "code",
   "execution_count": null,
   "metadata": {},
   "outputs": [],
   "source": [
    "import anndata\n",
    "import numpy as np\n",
    "import pandas as pd\n",
    "import scanpy as sc\n",
    "import xgboost as xgb\n",
    "import seaborn as sns\n",
    "import matplotlib.pyplot as plt\n",
    "\n",
    "from sklearn.metrics import roc_curve, auc\n",
    "from sklearn.preprocessing import LabelEncoder\n",
    "from sklearn.preprocessing import label_binarize\n",
    "from sklearn.model_selection import train_test_split\n",
    "from sklearn.metrics import accuracy_score, confusion_matrix, classification_report"
   ]
  },
  {
   "attachments": {},
   "cell_type": "markdown",
   "metadata": {},
   "source": [
    "### Set up working environment"
   ]
  },
  {
   "cell_type": "code",
   "execution_count": null,
   "metadata": {},
   "outputs": [],
   "source": [
    "sc.settings.verbosity = 3\n",
    "sc.logging.print_versions()\n",
    "sc.settings.set_figure_params(dpi = 180, color_map = 'RdPu', dpi_save = 300, vector_friendly = True, format = 'svg')"
   ]
  },
  {
   "attachments": {},
   "cell_type": "markdown",
   "metadata": {},
   "source": [
    "### Read in Healthy-CTRL dataset"
   ]
  },
  {
   "cell_type": "code",
   "execution_count": null,
   "metadata": {},
   "outputs": [],
   "source": [
    "adata = sc.read_h5ad('../data/Marburg_cell_states_locked_scANVI_ctl230813.raw.h5ad') \n",
    "adata"
   ]
  },
  {
   "attachments": {},
   "cell_type": "markdown",
   "metadata": {},
   "source": [
    "### Create labels for infected, non-infected and bystander/unknown"
   ]
  },
  {
   "cell_type": "code",
   "execution_count": null,
   "metadata": {},
   "outputs": [],
   "source": [
    "def classify_cells(row):\n",
    "    iav_genes = adata.var_names[adata.var_names.str.startswith('NC_')]\n",
    "    num_iav_genes_expressed = sum(row[adata.var_names.isin(iav_genes)] > 0)\n",
    "\n",
    "    if num_iav_genes_expressed == len(iav_genes):\n",
    "        return 'infected'\n",
    "    elif 0 < num_iav_genes_expressed <= 2:\n",
    "        return 'bystander'\n",
    "    else:\n",
    "        return 'control'"
   ]
  },
  {
   "cell_type": "code",
   "execution_count": null,
   "metadata": {},
   "outputs": [],
   "source": [
    "adata.obs['classification'] = [classify_cells(row) for row in adata.X.toarray()]"
   ]
  },
  {
   "cell_type": "markdown",
   "metadata": {},
   "source": [
    "### Split data for training"
   ]
  },
  {
   "cell_type": "code",
   "execution_count": null,
   "metadata": {},
   "outputs": [],
   "source": [
    "X = adata.X\n",
    "y = adata.obs['classification'].values\n",
    "\n",
    "label_encoder = LabelEncoder()\n",
    "y_int = label_encoder.fit_transform(y)\n",
    "\n",
    "X_train, X_test, y_train_int, y_test_int = train_test_split(X, y_int, test_size = 0.2, random_state = 1712)"
   ]
  },
  {
   "cell_type": "code",
   "execution_count": null,
   "metadata": {},
   "outputs": [],
   "source": [
    "adata.obs['classification'].value_counts()"
   ]
  },
  {
   "cell_type": "markdown",
   "metadata": {},
   "source": [
    "### Train GBM classifier"
   ]
  },
  {
   "cell_type": "code",
   "execution_count": null,
   "metadata": {},
   "outputs": [],
   "source": [
    "dtrain = xgb.DMatrix(X_train, label = y_train_int)\n",
    "dtest = xgb.DMatrix(X_test, label = y_test_int)"
   ]
  },
  {
   "cell_type": "code",
   "execution_count": null,
   "metadata": {},
   "outputs": [],
   "source": [
    "# Parameters for XGBoost\n",
    "param = {\n",
    "    'max_depth': 6,\n",
    "    'objective': 'multi:softprob',  # output probabilities\n",
    "    'num_class': 3\n",
    "}\n",
    "num_round = 20"
   ]
  },
  {
   "cell_type": "code",
   "execution_count": null,
   "metadata": {},
   "outputs": [],
   "source": [
    "watchlist = [(dtrain, 'train'), (dtest, 'test')]\n",
    "bst = xgb.train(param, dtrain, num_round, evals=[(dtest, 'eval'), (dtrain, 'train')], verbose_eval=True)\n",
    "preds = bst.predict(dtest)"
   ]
  },
  {
   "cell_type": "code",
   "execution_count": null,
   "metadata": {},
   "outputs": [],
   "source": [
    "preds_prob = bst.predict(dtest)\n",
    "\n",
    "# Convert the labels to a binary format for ROC curve\n",
    "y_test_bin = label_binarize(y_test_int, classes = [0, 1, 2])\n",
    "\n",
    "# Compute ROC curve for each class\n",
    "fpr = dict()\n",
    "tpr = dict()\n",
    "roc_auc = dict()\n",
    "for i in range(3):\n",
    "    fpr[i], tpr[i], _ = roc_curve(y_test_bin[:, i], preds_prob[:, i])\n",
    "    roc_auc[i] = auc(fpr[i], tpr[i])\n",
    "\n",
    "# Plot the ROC curve\n",
    "colors = ['blue', 'red', 'green']\n",
    "classes = ['infected', 'bystander', 'control']\n",
    "for i, color in zip(range(3), colors):\n",
    "    plt.plot(fpr[i], tpr[i], color = color, lw = 2,\n",
    "             label = '{0} (area = {1:0.2f})'.format(classes[i], roc_auc[i]))\n",
    "\n",
    "plt.plot([0, 1], [0, 1], 'k--', lw=2)\n",
    "plt.xlim([0.0, 1.0])\n",
    "plt.ylim([0.0, 1.05])\n",
    "plt.xlabel('False Positive Rate')\n",
    "plt.ylabel('True Positive Rate')\n",
    "plt.title('ROC curve for cell classification')\n",
    "plt.legend(loc = \"lower right\")\n",
    "plt.show()\n"
   ]
  },
  {
   "cell_type": "code",
   "execution_count": null,
   "metadata": {},
   "outputs": [],
   "source": [
    "evals_result = {}\n",
    "bst = xgb.train(param, dtrain, num_round, evals=[(dtest, 'eval'), (dtrain, 'train')],\n",
    "                evals_result = evals_result, verbose_eval = True)"
   ]
  },
  {
   "cell_type": "code",
   "execution_count": null,
   "metadata": {},
   "outputs": [],
   "source": [
    "print(evals_result['train'].keys())"
   ]
  },
  {
   "cell_type": "code",
   "execution_count": null,
   "metadata": {},
   "outputs": [],
   "source": [
    "epochs = len(evals_result['train']['mlogloss'])\n",
    "x_axis = range(0, epochs)\n",
    "\n",
    "fig, ax = plt.subplots(figsize = (5, 5))\n",
    "ax.plot(x_axis, evals_result['train']['mlogloss'], label = 'Train')\n",
    "ax.plot(x_axis, evals_result['eval']['mlogloss'], label = 'Test') \n",
    "ax.legend()\n",
    "plt.ylabel('Multi Class Log Loss')\n",
    "plt.title('XGBoost Multi Class Log Loss')\n",
    "plt.show()"
   ]
  },
  {
   "cell_type": "markdown",
   "metadata": {},
   "source": [
    "### Visualise gene importance"
   ]
  },
  {
   "cell_type": "code",
   "execution_count": null,
   "metadata": {},
   "outputs": [],
   "source": [
    "importance = bst.get_score(importance_type = 'weight')\n",
    "sorted_importance = sorted(importance.items(), key = lambda x: x[1], reverse = True)"
   ]
  },
  {
   "cell_type": "code",
   "execution_count": null,
   "metadata": {},
   "outputs": [],
   "source": [
    "gene_names = adata.var_names.tolist()\n",
    "sorted_importance_with_names = [(gene_names[int(key[1:])], value) for key, value in sorted_importance]"
   ]
  },
  {
   "cell_type": "code",
   "execution_count": null,
   "metadata": {},
   "outputs": [],
   "source": [
    "N = 20  # number of top features to display, change as needed\n",
    "top_genes = sorted_importance_with_names[:N]\n",
    "names, values = zip(*top_genes)\n",
    "\n",
    "plt.figure(figsize = (8, 8))\n",
    "plt.barh(names, values)\n",
    "plt.gca().invert_yaxis()  # to display the most important gene at the top\n",
    "plt.xlabel('Importance Score')\n",
    "plt.title('Top {} Gene Importance'.format(N))\n",
    "plt.show()\n"
   ]
  },
  {
   "cell_type": "code",
   "execution_count": null,
   "metadata": {},
   "outputs": [],
   "source": [
    "sc.pl.umap(adata, frameon = False, color = ['group', 'disease', 'infection', 'classification', 'cell_states'], size = 0.4, legend_fontsize = 5, ncols = 4)"
   ]
  },
  {
   "cell_type": "code",
   "execution_count": null,
   "metadata": {},
   "outputs": [],
   "source": []
  }
 ],
 "metadata": {
  "kernelspec": {
   "display_name": "scanpy",
   "language": "python",
   "name": "python3"
  },
  "language_info": {
   "codemirror_mode": {
    "name": "ipython",
    "version": 3
   },
   "file_extension": ".py",
   "mimetype": "text/x-python",
   "name": "python",
   "nbconvert_exporter": "python",
   "pygments_lexer": "ipython3",
   "version": "3.9.16"
  },
  "orig_nbformat": 4,
  "vscode": {
   "interpreter": {
    "hash": "4872569c54efb9f76cf4e832d436e1eb1949715732f7c5070dbaa4d04650f385"
   }
  }
 },
 "nbformat": 4,
 "nbformat_minor": 2
}
