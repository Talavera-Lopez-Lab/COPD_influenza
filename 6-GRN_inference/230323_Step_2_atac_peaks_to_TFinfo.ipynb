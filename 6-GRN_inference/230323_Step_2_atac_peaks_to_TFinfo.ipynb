{
 "cells": [
  {
   "attachments": {},
   "cell_type": "markdown",
   "metadata": {},
   "source": [
    "### Notebook to scan for TF binding motifs to generate a base GRN combining the ATAC-seq peaks and motif information.\n",
    "\n",
    "- **Developed by**: Carlos Talavera-López Ph.D\n",
    "- **Institute of Computational Biology - Computational Health Centre -  Helmholtz Munich**\n",
    "- v230323"
   ]
  },
  {
   "attachments": {},
   "cell_type": "markdown",
   "metadata": {},
   "source": [
    "### Import required modules"
   ]
  },
  {
   "cell_type": "code",
   "execution_count": 1,
   "metadata": {
    "collapsed": true,
    "jupyter": {
     "outputs_hidden": true
    },
    "tags": []
   },
   "outputs": [
    {
     "name": "stderr",
     "output_type": "stream",
     "text": [
      "INFO:matplotlib.font_manager:Failed to extract font properties from /System/Library/Fonts/LastResort.otf: tuple indices must be integers or slices, not str\n",
      "INFO:matplotlib.font_manager:Failed to extract font properties from /System/Library/Fonts/Apple Color Emoji.ttc: In FT2Font: Could not set the fontsize (invalid pixel size; error code 0x17)\n",
      "INFO:matplotlib.font_manager:Failed to extract font properties from /System/Library/Fonts/Supplemental/NISC18030.ttf: In FT2Font: Could not set the fontsize (invalid pixel size; error code 0x17)\n"
     ]
    }
   ],
   "source": [
    "import numpy as np\n",
    "import pandas as pd\n",
    "import seaborn as sns\n",
    "import matplotlib.pyplot as plt\n",
    "\n",
    "from tqdm.notebook import tqdm\n",
    "import os, sys, shutil, importlib, glob\n",
    "import celloracle as co\n",
    "from celloracle import motif_analysis as ma\n",
    "\n",
    "from celloracle.utility import save_as_pickled_object"
   ]
  },
  {
   "cell_type": "code",
   "execution_count": 2,
   "metadata": {},
   "outputs": [
    {
     "data": {
      "text/plain": [
       "'0.12.0'"
      ]
     },
     "execution_count": 2,
     "metadata": {},
     "output_type": "execute_result"
    }
   ],
   "source": [
    "co.__version__"
   ]
  },
  {
   "cell_type": "markdown",
   "metadata": {},
   "source": [
    "### Set working environment"
   ]
  },
  {
   "cell_type": "code",
   "execution_count": 3,
   "metadata": {},
   "outputs": [],
   "source": [
    "%matplotlib inline\n",
    "%config InlineBackend.figure_format = 'retina'\n",
    "\n",
    "plt.rcParams['figure.figsize'] = [6, 4.5]\n",
    "plt.rcParams[\"savefig.dpi\"] = 300"
   ]
  },
  {
   "attachments": {},
   "cell_type": "markdown",
   "metadata": {},
   "source": [
    "### Rerefence genome data preparation"
   ]
  },
  {
   "cell_type": "code",
   "execution_count": 4,
   "metadata": {},
   "outputs": [
    {
     "name": "stdout",
     "output_type": "stream",
     "text": [
      "GRCh38 installation:  True\n"
     ]
    }
   ],
   "source": [
    "ref_genome = \"GRCh38\"\n",
    "\n",
    "genome_installation = ma.is_genome_installed(ref_genome = ref_genome)\n",
    "print(ref_genome, \"installation: \", genome_installation)"
   ]
  },
  {
   "attachments": {},
   "cell_type": "markdown",
   "metadata": {},
   "source": [
    "### Load processed peak data"
   ]
  },
  {
   "cell_type": "code",
   "execution_count": 5,
   "metadata": {},
   "outputs": [
    {
     "data": {
      "text/html": [
       "<div>\n",
       "<style scoped>\n",
       "    .dataframe tbody tr th:only-of-type {\n",
       "        vertical-align: middle;\n",
       "    }\n",
       "\n",
       "    .dataframe tbody tr th {\n",
       "        vertical-align: top;\n",
       "    }\n",
       "\n",
       "    .dataframe thead th {\n",
       "        text-align: right;\n",
       "    }\n",
       "</style>\n",
       "<table border=\"1\" class=\"dataframe\">\n",
       "  <thead>\n",
       "    <tr style=\"text-align: right;\">\n",
       "      <th></th>\n",
       "      <th>peak_id</th>\n",
       "      <th>gene_short_name</th>\n",
       "    </tr>\n",
       "  </thead>\n",
       "  <tbody>\n",
       "    <tr>\n",
       "      <th>0</th>\n",
       "      <td>chr17_4583060_4583325</td>\n",
       "      <td>SMTNL2</td>\n",
       "    </tr>\n",
       "    <tr>\n",
       "      <th>1</th>\n",
       "      <td>chr17_4583036_4583307</td>\n",
       "      <td>SMTNL2</td>\n",
       "    </tr>\n",
       "    <tr>\n",
       "      <th>2</th>\n",
       "      <td>chr17_4583142_4583293</td>\n",
       "      <td>SMTNL2</td>\n",
       "    </tr>\n",
       "    <tr>\n",
       "      <th>3</th>\n",
       "      <td>chr17_4583133_4583351</td>\n",
       "      <td>SMTNL2</td>\n",
       "    </tr>\n",
       "    <tr>\n",
       "      <th>4</th>\n",
       "      <td>chr17_4583141_4583288</td>\n",
       "      <td>SMTNL2</td>\n",
       "    </tr>\n",
       "  </tbody>\n",
       "</table>\n",
       "</div>"
      ],
      "text/plain": [
       "                 peak_id gene_short_name\n",
       "0  chr17_4583060_4583325          SMTNL2\n",
       "1  chr17_4583036_4583307          SMTNL2\n",
       "2  chr17_4583142_4583293          SMTNL2\n",
       "3  chr17_4583133_4583351          SMTNL2\n",
       "4  chr17_4583141_4583288          SMTNL2"
      ]
     },
     "execution_count": 5,
     "metadata": {},
     "output_type": "execute_result"
    }
   ],
   "source": [
    "peaks = pd.read_csv(\"processed_peak_file.csv\", index_col = 0)\n",
    "peaks.head()"
   ]
  },
  {
   "cell_type": "code",
   "execution_count": 6,
   "metadata": {},
   "outputs": [],
   "source": [
    "def decompose_chrstr(peak_str):\n",
    "    \"\"\"\n",
    "    Args:\n",
    "        peak_str (str): peak_str. e.g. 'chr1_3094484_3095479'\n",
    "        \n",
    "    Returns:\n",
    "        tuple: chromosome name, start position, end position\n",
    "    \"\"\"\n",
    "    \n",
    "    *chr_, start, end = peak_str.split(\"_\")\n",
    "    chr_ = \"_\".join(chr_)\n",
    "    return chr_, start, end\n",
    "\n",
    "from genomepy import Genome\n",
    "\n",
    "def check_peak_format(peaks_df, ref_genome):\n",
    "    \"\"\"\n",
    "    Check peak format. \n",
    "     (1) Check chromosome name. \n",
    "     (2) Check peak size (length) and remove sort DNA sequences (<5bp)\n",
    "    \n",
    "    \"\"\"\n",
    "    \n",
    "    df = peaks_df.copy()\n",
    "    \n",
    "    n_peaks_before = df.shape[0]\n",
    "    \n",
    "    # Decompose peaks and make df\n",
    "    decomposed = [decompose_chrstr(peak_str) for peak_str in df[\"peak_id\"]]\n",
    "    df_decomposed = pd.DataFrame(np.array(decomposed), index=peaks_df.index)\n",
    "    df_decomposed.columns = [\"chr\", \"start\", \"end\"]\n",
    "    df_decomposed[\"start\"] = df_decomposed[\"start\"].astype(int)\n",
    "    df_decomposed[\"end\"] = df_decomposed[\"end\"].astype(int)\n",
    "    \n",
    "    # Load genome data\n",
    "    genome_data = Genome(ref_genome)\n",
    "    all_chr_list = list(genome_data.keys())\n",
    "    \n",
    "    \n",
    "    # DNA length check\n",
    "    lengths = np.abs(df_decomposed[\"end\"] - df_decomposed[\"start\"])\n",
    "    \n",
    "    \n",
    "    # Filter peaks with invalid chromosome name\n",
    "    n_threshold = 5\n",
    "    df = df[(lengths >= n_threshold) & df_decomposed.chr.isin(all_chr_list)]\n",
    "    \n",
    "    # DNA length check\n",
    "    lengths = np.abs(df_decomposed[\"end\"] - df_decomposed[\"start\"])\n",
    "    \n",
    "    # Data counting\n",
    "    n_invalid_length = len(lengths[lengths < n_threshold])\n",
    "    n_peaks_invalid_chr = n_peaks_before - df_decomposed.chr.isin(all_chr_list).sum()\n",
    "    n_peaks_after = df.shape[0]\n",
    "    \n",
    "    \n",
    "    #\n",
    "    print(\"Peaks before filtering: \", n_peaks_before)\n",
    "    print(\"Peaks with invalid chr_name: \", n_peaks_invalid_chr)\n",
    "    print(\"Peaks with invalid length: \", n_invalid_length)\n",
    "    print(\"Peaks after filtering: \", n_peaks_after)\n",
    "    \n",
    "    return df"
   ]
  },
  {
   "cell_type": "code",
   "execution_count": 7,
   "metadata": {},
   "outputs": [
    {
     "name": "stdout",
     "output_type": "stream",
     "text": [
      "Peaks before filtering:  38991\n",
      "Peaks with invalid chr_name:  0\n",
      "Peaks with invalid length:  0\n",
      "Peaks after filtering:  38991\n"
     ]
    }
   ],
   "source": [
    "peaks = check_peak_format(peaks, ref_genome)"
   ]
  },
  {
   "attachments": {},
   "cell_type": "markdown",
   "metadata": {},
   "source": [
    "### Instantiate TFinfo object"
   ]
  },
  {
   "cell_type": "code",
   "execution_count": 8,
   "metadata": {},
   "outputs": [],
   "source": [
    "tfi = ma.TFinfo(peak_data_frame = peaks, \n",
    "                ref_genome = ref_genome) "
   ]
  },
  {
   "attachments": {},
   "cell_type": "markdown",
   "metadata": {},
   "source": [
    "### Load `gimmemotif` database"
   ]
  },
  {
   "cell_type": "code",
   "execution_count": 13,
   "metadata": {},
   "outputs": [
    {
     "data": {
      "text/plain": [
       "[GM.5.0.Sox.0001_AACAAT,\n",
       " GM.5.0.Homeodomain.0001_AGCTGTCAnnA,\n",
       " GM.5.0.Mixed.0001_snnGGsssGGs,\n",
       " GM.5.0.Nuclear_receptor.0001_TAwsTrGGTCAsTrGGTCA,\n",
       " GM.5.0.Mixed.0002_GCTAATTA,\n",
       " GM.5.0.Nuclear_receptor.0002_wnyrCTTCCGGGkC,\n",
       " GM.5.0.bHLH.0001_ACGTG,\n",
       " GM.5.0.Myb_SANT.0001_rrCCGTTAAACnGyy,\n",
       " GM.5.0.C2H2_ZF.0001_GCGkGGGCGG,\n",
       " GM.5.0.GATA.0001_TTATCTsnnnnnnnCA]"
      ]
     },
     "execution_count": 13,
     "metadata": {},
     "output_type": "execute_result"
    }
   ],
   "source": [
    "from gimmemotifs.motif import default_motifs\n",
    "motifs =  default_motifs()\n",
    "motifs[:10]"
   ]
  },
  {
   "cell_type": "code",
   "execution_count": 14,
   "metadata": {},
   "outputs": [
    {
     "data": {
      "text/plain": [
       "['CIS-BP.pfm',\n",
       " 'ENCODE.pfm',\n",
       " 'HOCOMOCOv10_HUMAN.pfm',\n",
       " 'HOCOMOCOv10_MOUSE.pfm',\n",
       " 'HOCOMOCOv11_HUMAN.pfm',\n",
       " 'HOCOMOCOv11_MOUSE.pfm',\n",
       " 'HOMER.pfm',\n",
       " 'IMAGE.pfm',\n",
       " 'JASPAR2018.pfm',\n",
       " 'JASPAR2018_fungi.pfm',\n",
       " 'JASPAR2018_insects.pfm',\n",
       " 'JASPAR2018_nematodes.pfm',\n",
       " 'JASPAR2018_plants.pfm',\n",
       " 'JASPAR2018_urochordates.pfm',\n",
       " 'JASPAR2018_vertebrates.pfm',\n",
       " 'JASPAR2020.pfm',\n",
       " 'JASPAR2020_fungi.pfm',\n",
       " 'JASPAR2020_insects.pfm',\n",
       " 'JASPAR2020_nematodes.pfm',\n",
       " 'JASPAR2020_plants.pfm',\n",
       " 'JASPAR2020_urochordates.pfm',\n",
       " 'JASPAR2020_vertebrates.pfm',\n",
       " 'JASPAR2022.pfm',\n",
       " 'JASPAR2022_fungi.pfm',\n",
       " 'JASPAR2022_insects.pfm',\n",
       " 'JASPAR2022_nematodes.pfm',\n",
       " 'JASPAR2022_plants.pfm',\n",
       " 'JASPAR2022_urochordates.pfm',\n",
       " 'JASPAR2022_vertebrates.pfm',\n",
       " 'RSAT_insects.pfm',\n",
       " 'RSAT_plants.pfm',\n",
       " 'RSAT_vertebrates.pfm',\n",
       " 'SwissRegulon.pfm',\n",
       " 'factorbook.pfm',\n",
       " 'gimme.vertebrate.v5.0.pfm']"
      ]
     },
     "execution_count": 14,
     "metadata": {},
     "output_type": "execute_result"
    }
   ],
   "source": [
    "import os, glob\n",
    "from gimmemotifs.motif import MotifConfig\n",
    "config = MotifConfig()\n",
    "motif_dir = config.get_motif_dir()\n",
    "\n",
    "# Get motif data names\n",
    "motifs_data_name = [i for i in os.listdir(motif_dir) if i.endswith(\".pfm\")]\n",
    "motifs_data_name.sort()\n",
    "motifs_data_name"
   ]
  },
  {
   "attachments": {},
   "cell_type": "markdown",
   "metadata": {},
   "source": [
    "### Load vertebrate motifs"
   ]
  },
  {
   "cell_type": "code",
   "execution_count": 15,
   "metadata": {},
   "outputs": [
    {
     "data": {
      "text/plain": [
       "[GM.5.0.Sox.0001_AACAAT,\n",
       " GM.5.0.Homeodomain.0001_AGCTGTCAnnA,\n",
       " GM.5.0.Mixed.0001_snnGGsssGGs,\n",
       " GM.5.0.Nuclear_receptor.0001_TAwsTrGGTCAsTrGGTCA,\n",
       " GM.5.0.Mixed.0002_GCTAATTA,\n",
       " GM.5.0.Nuclear_receptor.0002_wnyrCTTCCGGGkC,\n",
       " GM.5.0.bHLH.0001_ACGTG,\n",
       " GM.5.0.Myb_SANT.0001_rrCCGTTAAACnGyy,\n",
       " GM.5.0.C2H2_ZF.0001_GCGkGGGCGG,\n",
       " GM.5.0.GATA.0001_TTATCTsnnnnnnnCA]"
      ]
     },
     "execution_count": 15,
     "metadata": {},
     "output_type": "execute_result"
    }
   ],
   "source": [
    "from gimmemotifs.motif import read_motifs\n",
    "\n",
    "path = os.path.join(motif_dir, \"gimme.vertebrate.v5.0.pfm\")\n",
    "motifs = read_motifs(path)\n",
    "motifs[:10]"
   ]
  },
  {
   "attachments": {},
   "cell_type": "markdown",
   "metadata": {},
   "source": [
    "### Motif scan"
   ]
  },
  {
   "cell_type": "code",
   "execution_count": 16,
   "metadata": {},
   "outputs": [
    {
     "name": "stdout",
     "output_type": "stream",
     "text": [
      "Checking your motifs... Motifs format looks good. \n",
      "\n",
      "Initiating scanner... \n",
      "\n"
     ]
    },
    {
     "name": "stderr",
     "output_type": "stream",
     "text": [
      "DEBUG:gimme.scanner:using background: genome GRCh38 with size 200\n"
     ]
    },
    {
     "name": "stdout",
     "output_type": "stream",
     "text": [
      "Calculating FPR-based threshold. This step may take substantial time when you load a new ref-genome. It will be done quicker on the second time. \n",
      "\n"
     ]
    },
    {
     "name": "stderr",
     "output_type": "stream",
     "text": [
      "2023-03-23 18:20:59,244 - INFO - determining FPR-based threshold\n",
      "INFO:gimme.scanner:determining FPR-based threshold\n"
     ]
    },
    {
     "name": "stdout",
     "output_type": "stream",
     "text": [
      "Motif scan started .. It may take long time.\n",
      "\n"
     ]
    },
    {
     "data": {
      "application/vnd.jupyter.widget-view+json": {
       "model_id": "69ae0127825c4877a52a6e0afb4025e8",
       "version_major": 2,
       "version_minor": 0
      },
      "text/plain": [
       "scanning:   0%|          | 0/25011 [00:00<?, ? sequences/s]"
      ]
     },
     "metadata": {},
     "output_type": "display_data"
    },
    {
     "name": "stderr",
     "output_type": "stream",
     "text": [
      "DEBUG:gimme.scanner:Scanning\n"
     ]
    }
   ],
   "source": [
    "tfi.scan(fpr = 0.02, \n",
    "         motifs = motifs,  # If you enter None, default motifs will be loaded.\n",
    "         verbose = True)\n",
    "\n",
    "tfi.to_hdf5(file_path = \"EpithelialCOPD.celloracle.tfinfo\")"
   ]
  },
  {
   "cell_type": "code",
   "execution_count": 17,
   "metadata": {},
   "outputs": [
    {
     "data": {
      "text/html": [
       "<div>\n",
       "<style scoped>\n",
       "    .dataframe tbody tr th:only-of-type {\n",
       "        vertical-align: middle;\n",
       "    }\n",
       "\n",
       "    .dataframe tbody tr th {\n",
       "        vertical-align: top;\n",
       "    }\n",
       "\n",
       "    .dataframe thead th {\n",
       "        text-align: right;\n",
       "    }\n",
       "</style>\n",
       "<table border=\"1\" class=\"dataframe\">\n",
       "  <thead>\n",
       "    <tr style=\"text-align: right;\">\n",
       "      <th></th>\n",
       "      <th>seqname</th>\n",
       "      <th>motif_id</th>\n",
       "      <th>factors_direct</th>\n",
       "      <th>factors_indirect</th>\n",
       "      <th>score</th>\n",
       "      <th>pos</th>\n",
       "      <th>strand</th>\n",
       "    </tr>\n",
       "  </thead>\n",
       "  <tbody>\n",
       "    <tr>\n",
       "      <th>0</th>\n",
       "      <td>chr10_100346875_100347053</td>\n",
       "      <td>GM.5.0.Forkhead.0001</td>\n",
       "      <td>CEBPZ, NFY, FOXI1, Foxi1</td>\n",
       "      <td>Foxk2, Foxl2, Foxq1, Foxs1, FOXE1, Foxi1, FOXD...</td>\n",
       "      <td>8.815813</td>\n",
       "      <td>126</td>\n",
       "      <td>-1</td>\n",
       "    </tr>\n",
       "    <tr>\n",
       "      <th>1</th>\n",
       "      <td>chr10_100346875_100347053</td>\n",
       "      <td>GM.5.0.C2H2_ZF.0006</td>\n",
       "      <td>KLF5, SP1, KLF12, SP2, KLF4, Sp3, SP3</td>\n",
       "      <td>SP9, Klf7, SP1, THAP1, Sp9, Sp3, KLF7, Sp5, SP...</td>\n",
       "      <td>9.084834</td>\n",
       "      <td>76</td>\n",
       "      <td>1</td>\n",
       "    </tr>\n",
       "    <tr>\n",
       "      <th>2</th>\n",
       "      <td>chr10_100346875_100347053</td>\n",
       "      <td>GM.5.0.Mixed.0004</td>\n",
       "      <td></td>\n",
       "      <td>BCLAF1, YY1</td>\n",
       "      <td>7.405002</td>\n",
       "      <td>35</td>\n",
       "      <td>1</td>\n",
       "    </tr>\n",
       "    <tr>\n",
       "      <th>3</th>\n",
       "      <td>chr10_100346875_100347053</td>\n",
       "      <td>GM.5.0.Myb_SANT.0002</td>\n",
       "      <td>Prdm11, Mypop</td>\n",
       "      <td>MYPOP</td>\n",
       "      <td>7.099406</td>\n",
       "      <td>118</td>\n",
       "      <td>1</td>\n",
       "    </tr>\n",
       "    <tr>\n",
       "      <th>4</th>\n",
       "      <td>chr10_100346875_100347053</td>\n",
       "      <td>GM.5.0.E2F.0004</td>\n",
       "      <td>E2F4, E2F1</td>\n",
       "      <td>E2f5, E2f4, E2f1, E2F6, E2F4</td>\n",
       "      <td>6.743515</td>\n",
       "      <td>97</td>\n",
       "      <td>-1</td>\n",
       "    </tr>\n",
       "  </tbody>\n",
       "</table>\n",
       "</div>"
      ],
      "text/plain": [
       "                     seqname              motif_id  \\\n",
       "0  chr10_100346875_100347053  GM.5.0.Forkhead.0001   \n",
       "1  chr10_100346875_100347053   GM.5.0.C2H2_ZF.0006   \n",
       "2  chr10_100346875_100347053     GM.5.0.Mixed.0004   \n",
       "3  chr10_100346875_100347053  GM.5.0.Myb_SANT.0002   \n",
       "4  chr10_100346875_100347053       GM.5.0.E2F.0004   \n",
       "\n",
       "                          factors_direct  \\\n",
       "0               CEBPZ, NFY, FOXI1, Foxi1   \n",
       "1  KLF5, SP1, KLF12, SP2, KLF4, Sp3, SP3   \n",
       "2                                          \n",
       "3                          Prdm11, Mypop   \n",
       "4                             E2F4, E2F1   \n",
       "\n",
       "                                    factors_indirect     score  pos  strand  \n",
       "0  Foxk2, Foxl2, Foxq1, Foxs1, FOXE1, Foxi1, FOXD...  8.815813  126      -1  \n",
       "1  SP9, Klf7, SP1, THAP1, Sp9, Sp3, KLF7, Sp5, SP...  9.084834   76       1  \n",
       "2                                        BCLAF1, YY1  7.405002   35       1  \n",
       "3                                              MYPOP  7.099406  118       1  \n",
       "4                       E2f5, E2f4, E2f1, E2F6, E2F4  6.743515   97      -1  "
      ]
     },
     "execution_count": 17,
     "metadata": {},
     "output_type": "execute_result"
    }
   ],
   "source": [
    "tfi.scanned_df.head()"
   ]
  },
  {
   "attachments": {},
   "cell_type": "markdown",
   "metadata": {},
   "source": [
    "### Filtering motifs"
   ]
  },
  {
   "cell_type": "code",
   "execution_count": 18,
   "metadata": {},
   "outputs": [
    {
     "name": "stdout",
     "output_type": "stream",
     "text": [
      "Filtering finished: 7672944 -> 1533057\n",
      "1. Converting scanned results into one-hot encoded dataframe.\n"
     ]
    },
    {
     "data": {
      "application/vnd.jupyter.widget-view+json": {
       "model_id": "8c1c5b412465442984c3799a64fba067",
       "version_major": 2,
       "version_minor": 0
      },
      "text/plain": [
       "  0%|          | 0/24958 [00:00<?, ?it/s]"
      ]
     },
     "metadata": {},
     "output_type": "display_data"
    },
    {
     "name": "stdout",
     "output_type": "stream",
     "text": [
      "2. Converting results into dictionaries.\n"
     ]
    },
    {
     "data": {
      "application/vnd.jupyter.widget-view+json": {
       "model_id": "d7e38b9c1fe74473b236f42274dbbbf8",
       "version_major": 2,
       "version_minor": 0
      },
      "text/plain": [
       "  0%|          | 0/4450 [00:00<?, ?it/s]"
      ]
     },
     "metadata": {},
     "output_type": "display_data"
    },
    {
     "data": {
      "application/vnd.jupyter.widget-view+json": {
       "model_id": "dda4f1b203714919ad35eb334a16a7e8",
       "version_major": 2,
       "version_minor": 0
      },
      "text/plain": [
       "  0%|          | 0/1716 [00:00<?, ?it/s]"
      ]
     },
     "metadata": {},
     "output_type": "display_data"
    }
   ],
   "source": [
    "tfi.reset_filtering()\n",
    "tfi.filter_motifs_by_score(threshold = 10)\n",
    "tfi.make_TFinfo_dataframe_and_dictionary(verbose = True)"
   ]
  },
  {
   "attachments": {},
   "cell_type": "markdown",
   "metadata": {},
   "source": [
    "### Get final base GRN"
   ]
  },
  {
   "cell_type": "code",
   "execution_count": 19,
   "metadata": {},
   "outputs": [
    {
     "data": {
      "text/html": [
       "<div>\n",
       "<style scoped>\n",
       "    .dataframe tbody tr th:only-of-type {\n",
       "        vertical-align: middle;\n",
       "    }\n",
       "\n",
       "    .dataframe tbody tr th {\n",
       "        vertical-align: top;\n",
       "    }\n",
       "\n",
       "    .dataframe thead th {\n",
       "        text-align: right;\n",
       "    }\n",
       "</style>\n",
       "<table border=\"1\" class=\"dataframe\">\n",
       "  <thead>\n",
       "    <tr style=\"text-align: right;\">\n",
       "      <th></th>\n",
       "      <th>peak_id</th>\n",
       "      <th>gene_short_name</th>\n",
       "      <th>9430076C15Rik</th>\n",
       "      <th>AC002126.6</th>\n",
       "      <th>AC012531.1</th>\n",
       "      <th>AC226150.2</th>\n",
       "      <th>AFP</th>\n",
       "      <th>AHR</th>\n",
       "      <th>AHRR</th>\n",
       "      <th>AIRE</th>\n",
       "      <th>...</th>\n",
       "      <th>Znf431</th>\n",
       "      <th>Zscan10</th>\n",
       "      <th>Zscan26</th>\n",
       "      <th>Zscan4</th>\n",
       "      <th>arnt</th>\n",
       "      <th>cMyc</th>\n",
       "      <th>cebpa</th>\n",
       "      <th>nMyc</th>\n",
       "      <th>p53</th>\n",
       "      <th>p63</th>\n",
       "    </tr>\n",
       "  </thead>\n",
       "  <tbody>\n",
       "    <tr>\n",
       "      <th>0</th>\n",
       "      <td>chr10_100346875_100347053</td>\n",
       "      <td>SCD</td>\n",
       "      <td>0.0</td>\n",
       "      <td>0.0</td>\n",
       "      <td>0.0</td>\n",
       "      <td>0.0</td>\n",
       "      <td>0.0</td>\n",
       "      <td>0.0</td>\n",
       "      <td>0.0</td>\n",
       "      <td>0.0</td>\n",
       "      <td>...</td>\n",
       "      <td>0.0</td>\n",
       "      <td>0.0</td>\n",
       "      <td>0.0</td>\n",
       "      <td>0.0</td>\n",
       "      <td>0.0</td>\n",
       "      <td>0.0</td>\n",
       "      <td>0.0</td>\n",
       "      <td>0.0</td>\n",
       "      <td>0.0</td>\n",
       "      <td>0.0</td>\n",
       "    </tr>\n",
       "    <tr>\n",
       "      <th>1</th>\n",
       "      <td>chr10_100346947_100347161</td>\n",
       "      <td>SCD</td>\n",
       "      <td>0.0</td>\n",
       "      <td>0.0</td>\n",
       "      <td>0.0</td>\n",
       "      <td>0.0</td>\n",
       "      <td>0.0</td>\n",
       "      <td>0.0</td>\n",
       "      <td>0.0</td>\n",
       "      <td>0.0</td>\n",
       "      <td>...</td>\n",
       "      <td>0.0</td>\n",
       "      <td>0.0</td>\n",
       "      <td>0.0</td>\n",
       "      <td>0.0</td>\n",
       "      <td>0.0</td>\n",
       "      <td>0.0</td>\n",
       "      <td>0.0</td>\n",
       "      <td>0.0</td>\n",
       "      <td>0.0</td>\n",
       "      <td>0.0</td>\n",
       "    </tr>\n",
       "    <tr>\n",
       "      <th>2</th>\n",
       "      <td>chr10_100347087_100347438</td>\n",
       "      <td>SCD</td>\n",
       "      <td>0.0</td>\n",
       "      <td>0.0</td>\n",
       "      <td>0.0</td>\n",
       "      <td>0.0</td>\n",
       "      <td>0.0</td>\n",
       "      <td>1.0</td>\n",
       "      <td>1.0</td>\n",
       "      <td>0.0</td>\n",
       "      <td>...</td>\n",
       "      <td>0.0</td>\n",
       "      <td>0.0</td>\n",
       "      <td>0.0</td>\n",
       "      <td>0.0</td>\n",
       "      <td>1.0</td>\n",
       "      <td>0.0</td>\n",
       "      <td>0.0</td>\n",
       "      <td>0.0</td>\n",
       "      <td>0.0</td>\n",
       "      <td>0.0</td>\n",
       "    </tr>\n",
       "    <tr>\n",
       "      <th>3</th>\n",
       "      <td>chr10_100372680_100372946</td>\n",
       "      <td>OLMALINC</td>\n",
       "      <td>0.0</td>\n",
       "      <td>0.0</td>\n",
       "      <td>0.0</td>\n",
       "      <td>0.0</td>\n",
       "      <td>0.0</td>\n",
       "      <td>0.0</td>\n",
       "      <td>0.0</td>\n",
       "      <td>0.0</td>\n",
       "      <td>...</td>\n",
       "      <td>0.0</td>\n",
       "      <td>0.0</td>\n",
       "      <td>0.0</td>\n",
       "      <td>0.0</td>\n",
       "      <td>0.0</td>\n",
       "      <td>0.0</td>\n",
       "      <td>0.0</td>\n",
       "      <td>0.0</td>\n",
       "      <td>0.0</td>\n",
       "      <td>0.0</td>\n",
       "    </tr>\n",
       "    <tr>\n",
       "      <th>4</th>\n",
       "      <td>chr10_101130776_101130905</td>\n",
       "      <td>TLX1NB</td>\n",
       "      <td>0.0</td>\n",
       "      <td>0.0</td>\n",
       "      <td>0.0</td>\n",
       "      <td>0.0</td>\n",
       "      <td>0.0</td>\n",
       "      <td>0.0</td>\n",
       "      <td>0.0</td>\n",
       "      <td>0.0</td>\n",
       "      <td>...</td>\n",
       "      <td>0.0</td>\n",
       "      <td>0.0</td>\n",
       "      <td>0.0</td>\n",
       "      <td>0.0</td>\n",
       "      <td>0.0</td>\n",
       "      <td>0.0</td>\n",
       "      <td>0.0</td>\n",
       "      <td>0.0</td>\n",
       "      <td>0.0</td>\n",
       "      <td>0.0</td>\n",
       "    </tr>\n",
       "  </tbody>\n",
       "</table>\n",
       "<p>5 rows × 1718 columns</p>\n",
       "</div>"
      ],
      "text/plain": [
       "                     peak_id gene_short_name  9430076C15Rik  AC002126.6  \\\n",
       "0  chr10_100346875_100347053             SCD            0.0         0.0   \n",
       "1  chr10_100346947_100347161             SCD            0.0         0.0   \n",
       "2  chr10_100347087_100347438             SCD            0.0         0.0   \n",
       "3  chr10_100372680_100372946        OLMALINC            0.0         0.0   \n",
       "4  chr10_101130776_101130905          TLX1NB            0.0         0.0   \n",
       "\n",
       "   AC012531.1  AC226150.2  AFP  AHR  AHRR  AIRE  ...  Znf431  Zscan10  \\\n",
       "0         0.0         0.0  0.0  0.0   0.0   0.0  ...     0.0      0.0   \n",
       "1         0.0         0.0  0.0  0.0   0.0   0.0  ...     0.0      0.0   \n",
       "2         0.0         0.0  0.0  1.0   1.0   0.0  ...     0.0      0.0   \n",
       "3         0.0         0.0  0.0  0.0   0.0   0.0  ...     0.0      0.0   \n",
       "4         0.0         0.0  0.0  0.0   0.0   0.0  ...     0.0      0.0   \n",
       "\n",
       "   Zscan26  Zscan4  arnt  cMyc  cebpa  nMyc  p53  p63  \n",
       "0      0.0     0.0   0.0   0.0    0.0   0.0  0.0  0.0  \n",
       "1      0.0     0.0   0.0   0.0    0.0   0.0  0.0  0.0  \n",
       "2      0.0     0.0   1.0   0.0    0.0   0.0  0.0  0.0  \n",
       "3      0.0     0.0   0.0   0.0    0.0   0.0  0.0  0.0  \n",
       "4      0.0     0.0   0.0   0.0    0.0   0.0  0.0  0.0  \n",
       "\n",
       "[5 rows x 1718 columns]"
      ]
     },
     "execution_count": 19,
     "metadata": {},
     "output_type": "execute_result"
    }
   ],
   "source": [
    "df = tfi.to_dataframe()\n",
    "df.head()"
   ]
  },
  {
   "cell_type": "code",
   "execution_count": 20,
   "metadata": {},
   "outputs": [],
   "source": [
    "df = tfi.to_dataframe()\n",
    "df.to_parquet(\"Epithelial_lung_base_GRN_dataframe.parquet\")"
   ]
  },
  {
   "cell_type": "code",
   "execution_count": null,
   "metadata": {},
   "outputs": [],
   "source": []
  }
 ],
 "metadata": {
  "kernelspec": {
   "display_name": "Python 3",
   "language": "python",
   "name": "python3"
  },
  "language_info": {
   "codemirror_mode": {
    "name": "ipython",
    "version": 3
   },
   "file_extension": ".py",
   "mimetype": "text/x-python",
   "name": "python",
   "nbconvert_exporter": "python",
   "pygments_lexer": "ipython3",
   "version": "3.9.16"
  }
 },
 "nbformat": 4,
 "nbformat_minor": 4
}
