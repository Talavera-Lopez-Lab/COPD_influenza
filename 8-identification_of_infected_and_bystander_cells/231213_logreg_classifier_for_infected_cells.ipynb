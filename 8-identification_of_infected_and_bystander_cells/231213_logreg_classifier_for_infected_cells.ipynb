{
 "cells": [
  {
   "attachments": {},
   "cell_type": "markdown",
   "metadata": {},
   "source": [
    "### Notebook to the identification of infected and bystander cells using a logistic regression classifier \n",
    "\n",
    "- **Developed by**: Carlos Talavera-López Ph.D\n",
    "- **Würzburg Institute for Systems Immunology & Faculty of Medicine, Julius-Maximilian-Universität Würzburg**\n",
    "- v231212"
   ]
  },
  {
   "attachments": {},
   "cell_type": "markdown",
   "metadata": {},
   "source": [
    "### Import required modules"
   ]
  },
  {
   "cell_type": "code",
   "execution_count": 1,
   "metadata": {},
   "outputs": [],
   "source": [
    "import anndata\n",
    "import numpy as np\n",
    "import pandas as pd\n",
    "import scanpy as sc\n",
    "import seaborn as sns\n",
    "from pywaffle import Waffle\n",
    "from gprofiler import GProfiler\n",
    "import matplotlib.pyplot as plt\n",
    "\n",
    "from sklearn.metrics import roc_curve, auc\n",
    "from sklearn.preprocessing import LabelEncoder\n",
    "from sklearn.preprocessing import label_binarize\n",
    "from sklearn.linear_model import LogisticRegression\n",
    "from sklearn.model_selection import train_test_split\n",
    "from sklearn.metrics import accuracy_score, confusion_matrix, classification_report"
   ]
  },
  {
   "attachments": {},
   "cell_type": "markdown",
   "metadata": {},
   "source": [
    "### Set up working environment"
   ]
  },
  {
   "cell_type": "code",
   "execution_count": 2,
   "metadata": {},
   "outputs": [
    {
     "name": "stdout",
     "output_type": "stream",
     "text": [
      "-----\n",
      "anndata     0.10.2\n",
      "scanpy      1.9.5\n",
      "-----\n",
      "PIL                 10.0.0\n",
      "asttokens           NA\n",
      "backcall            0.2.0\n",
      "certifi             2023.07.22\n",
      "charset_normalizer  3.2.0\n",
      "colorama            0.4.6\n",
      "comm                0.1.4\n",
      "cycler              0.10.0\n",
      "cython_runtime      NA\n",
      "dateutil            2.8.2\n",
      "debugpy             1.6.7.post1\n",
      "decorator           5.1.1\n",
      "exceptiongroup      1.1.3\n",
      "executing           1.2.0\n",
      "gprofiler           1.0.0\n",
      "h5py                3.9.0\n",
      "idna                3.4\n",
      "igraph              0.10.8\n",
      "importlib_resources NA\n",
      "ipykernel           6.25.1\n",
      "ipywidgets          8.1.0\n",
      "jedi                0.19.0\n",
      "joblib              1.3.2\n",
      "kiwisolver          1.4.5\n",
      "leidenalg           0.10.1\n",
      "llvmlite            0.40.1\n",
      "louvain             0.8.1\n",
      "matplotlib          3.7.2\n",
      "mpl_toolkits        NA\n",
      "natsort             8.4.0\n",
      "numba               0.57.1\n",
      "numexpr             2.8.7\n",
      "numpy               1.24.4\n",
      "packaging           23.1\n",
      "pandas              2.1.1\n",
      "parso               0.8.3\n",
      "patsy               0.5.3\n",
      "pexpect             4.8.0\n",
      "pickleshare         0.7.5\n",
      "pkg_resources       NA\n",
      "platformdirs        3.10.0\n",
      "prompt_toolkit      3.0.39\n",
      "psutil              5.9.5\n",
      "ptyprocess          0.7.0\n",
      "pure_eval           0.2.2\n",
      "pydev_ipython       NA\n",
      "pydevconsole        NA\n",
      "pydevd              2.9.5\n",
      "pydevd_file_utils   NA\n",
      "pydevd_plugins      NA\n",
      "pydevd_tracing      NA\n",
      "pygments            2.16.1\n",
      "pyparsing           3.0.9\n",
      "pytz                2023.3\n",
      "pywaffle            NA\n",
      "requests            2.31.0\n",
      "scipy               1.11.2\n",
      "seaborn             0.12.2\n",
      "session_info        1.0.0\n",
      "setuptools          68.1.2\n",
      "setuptools_scm      NA\n",
      "six                 1.16.0\n",
      "sklearn             1.3.0\n",
      "stack_data          0.6.2\n",
      "statsmodels         0.14.0\n",
      "texttable           1.7.0\n",
      "threadpoolctl       3.2.0\n",
      "tomli               2.0.1\n",
      "tornado             6.3.3\n",
      "traitlets           5.9.0\n",
      "typing_extensions   NA\n",
      "urllib3             2.0.4\n",
      "wcwidth             0.2.6\n",
      "zipp                NA\n",
      "zmq                 25.1.1\n",
      "zoneinfo            NA\n",
      "zope                NA\n",
      "-----\n",
      "IPython             8.14.0\n",
      "jupyter_client      8.3.1\n",
      "jupyter_core        5.3.1\n",
      "-----\n",
      "Python 3.9.18 | packaged by conda-forge | (main, Aug 30 2023, 03:49:32) [GCC 12.3.0]\n",
      "Linux-6.6.2-101.fc38.x86_64-x86_64-with-glibc2.37\n",
      "-----\n",
      "Session information updated at 2023-12-13 16:01\n"
     ]
    }
   ],
   "source": [
    "sc.settings.verbosity = 3\n",
    "sc.logging.print_versions()\n",
    "sc.settings.set_figure_params(dpi = 180, color_map = 'RdPu', dpi_save = 300, vector_friendly = True, format = 'svg')"
   ]
  },
  {
   "attachments": {},
   "cell_type": "markdown",
   "metadata": {},
   "source": [
    "### Read in dataset"
   ]
  },
  {
   "cell_type": "code",
   "execution_count": 3,
   "metadata": {},
   "outputs": [],
   "source": [
    "adata = sc.read_h5ad('../data/Marburg_cell_states_locked_ctl230901.raw.h5ad') \n",
    "adata"
   ]
  },
  {
   "cell_type": "markdown",
   "metadata": {},
   "source": [
    "### Identify viral genes and create label for them"
   ]
  },
  {
   "cell_type": "code",
   "execution_count": null,
   "metadata": {},
   "outputs": [],
   "source": [
    "viral_genes = [gene for gene in adata.var_names if 'NC_' in gene]\n",
    "adata.obs['viral_counts'] = np.sum(adata[:, viral_genes].X, axis = 1)"
   ]
  },
  {
   "cell_type": "code",
   "execution_count": null,
   "metadata": {},
   "outputs": [],
   "source": [
    "group_means = adata.obs.groupby('group')['viral_counts'].mean()\n",
    "\n",
    "plt.figure(figsize = (8, 8))\n",
    "sns.barplot(x = group_means.index, y = group_means.values, palette = 'Dark2')\n",
    "\n",
    "plt.xlabel('Group')\n",
    "plt.ylabel('Average Viral Transcript Counts')\n",
    "plt.title('Average Viral Transcripts per Group')\n",
    "plt.tight_layout()\n",
    "plt.show()"
   ]
  },
  {
   "cell_type": "code",
   "execution_count": null,
   "metadata": {},
   "outputs": [],
   "source": [
    "plt.figure(figsize = (12, 6))\n",
    "sns.kdeplot(data = adata.obs, x = 'viral_counts', hue = 'group', common_norm = False, fill = True)\n",
    "plt.title('Density of Viral Transcript Counts per Group')\n",
    "plt.xlabel('Total Viral Transcript Counts')\n",
    "plt.ylabel('Density')\n",
    "plt.xlim(0, 4000)\n",
    "plt.show()"
   ]
  },
  {
   "cell_type": "markdown",
   "metadata": {},
   "source": [
    "### Define infected cells based on viral counts"
   ]
  },
  {
   "cell_type": "code",
   "execution_count": null,
   "metadata": {},
   "outputs": [],
   "source": [
    "adata.obs['infected_status'] = adata.obs['viral_counts'] > 300\n",
    "adata.obs['infected_status'].value_counts()"
   ]
  },
  {
   "cell_type": "code",
   "execution_count": null,
   "metadata": {},
   "outputs": [],
   "source": [
    "pd.crosstab(adata.obs['infected_status'], adata.obs['group'], dropna = False)"
   ]
  },
  {
   "cell_type": "markdown",
   "metadata": {},
   "source": [
    "### Identify infection signature using a logistic regression model"
   ]
  },
  {
   "cell_type": "code",
   "execution_count": null,
   "metadata": {},
   "outputs": [],
   "source": [
    "X = adata.X \n",
    "y = adata.obs['infected_status']"
   ]
  },
  {
   "cell_type": "code",
   "execution_count": null,
   "metadata": {},
   "outputs": [],
   "source": [
    "X_train, X_test, y_train, y_test = train_test_split(X, y, test_size = 0.3, random_state = 1712)"
   ]
  },
  {
   "cell_type": "code",
   "execution_count": null,
   "metadata": {},
   "outputs": [],
   "source": [
    "log_reg = LogisticRegression()\n",
    "log_reg.fit(X_train, y_train)"
   ]
  },
  {
   "cell_type": "code",
   "execution_count": null,
   "metadata": {},
   "outputs": [],
   "source": [
    "important_genes_indices = log_reg.coef_.argsort()[0][-1500:]\n",
    "important_genes = adata.var_names[important_genes_indices]\n",
    "important_genes"
   ]
  },
  {
   "cell_type": "markdown",
   "metadata": {},
   "source": [
    "### Score learned signature in all cells"
   ]
  },
  {
   "cell_type": "code",
   "execution_count": null,
   "metadata": {},
   "outputs": [],
   "source": [
    "sc.tl.score_genes(adata, gene_list = important_genes.tolist(), score_name = 'infection_signature_score')\n",
    "pd.crosstab(adata.obs['infection_signature_score'], adata.obs['group'], dropna = False)"
   ]
  },
  {
   "cell_type": "code",
   "execution_count": null,
   "metadata": {},
   "outputs": [],
   "source": [
    "plt.figure(figsize = (12, 6))\n",
    "sns.kdeplot(data = adata.obs, x = 'infection_signature_score', hue = 'group', common_norm = False, fill = True)\n",
    "plt.title('Density of Infection Signature Score per Group')\n",
    "plt.xlabel('Infection Signature Score')\n",
    "plt.ylabel('Density')\n",
    "plt.xlim(0, 50)\n",
    "plt.show()"
   ]
  },
  {
   "cell_type": "markdown",
   "metadata": {},
   "source": [
    "### Categorise cells based on viral counts and signature score"
   ]
  },
  {
   "cell_type": "code",
   "execution_count": null,
   "metadata": {},
   "outputs": [],
   "source": [
    "def classify_cells(row):\n",
    "    if row['viral_counts'] > 500 and row['infection_signature_score'] > threshold_high:\n",
    "        return 'Infected'\n",
    "    elif row['viral_counts'] < 500 and row['infection_signature_score'] > threshold_high:\n",
    "        return 'Bystander'\n",
    "    elif row['viral_counts'] < 300 and row['infection_signature_score'] <= threshold_low:\n",
    "        return 'Uninfected'\n",
    "    else:\n",
    "        return 'Bystander'"
   ]
  },
  {
   "cell_type": "code",
   "execution_count": null,
   "metadata": {},
   "outputs": [],
   "source": [
    "threshold_high = 40\n",
    "threshold_low = 10\n",
    "adata.obs['final_classification'] = adata.obs.apply(classify_cells, axis=1)\n",
    "pd.crosstab(adata.obs['final_classification'], adata.obs['group'], dropna = False)"
   ]
  },
  {
   "cell_type": "code",
   "execution_count": null,
   "metadata": {},
   "outputs": [],
   "source": [
    "crosstab_df = pd.crosstab(adata.obs['group'], adata.obs['final_classification'], dropna = False)\n",
    "\n",
    "crosstab_df.plot(kind = 'bar', stacked = True, figsize = (10, 6))\n",
    "plt.title('Stacked Bar Plot of Classifications by Group')\n",
    "plt.xlabel('Classification')\n",
    "plt.ylabel('Count')\n",
    "plt.legend(title='Group')\n",
    "plt.show()"
   ]
  },
  {
   "cell_type": "code",
   "execution_count": null,
   "metadata": {},
   "outputs": [],
   "source": []
  }
 ],
 "metadata": {
  "kernelspec": {
   "display_name": "scanpy",
   "language": "python",
   "name": "python3"
  },
  "language_info": {
   "codemirror_mode": {
    "name": "ipython",
    "version": 3
   },
   "file_extension": ".py",
   "mimetype": "text/x-python",
   "name": "python",
   "nbconvert_exporter": "python",
   "pygments_lexer": "ipython3",
   "version": "3.9.18"
  },
  "orig_nbformat": 4,
  "vscode": {
   "interpreter": {
    "hash": "4872569c54efb9f76cf4e832d436e1eb1949715732f7c5070dbaa4d04650f385"
   }
  }
 },
 "nbformat": 4,
 "nbformat_minor": 2
}
