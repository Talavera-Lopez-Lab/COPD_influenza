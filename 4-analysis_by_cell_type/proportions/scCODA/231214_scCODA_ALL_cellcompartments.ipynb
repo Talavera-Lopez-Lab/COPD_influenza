{
 "cells": [
  {
   "cell_type": "markdown",
   "metadata": {},
   "source": [
    "### Notebook for the cell proportion analysis of Healthy_vs_COPD CTRL_vs_IAV data\n",
    "\n",
    "- **Developed by**: Carlos Talavera-López Ph.D\n",
    "- **Würzburg Institute for Systems Immunology - Faculty of Medicine - Julius Maximilian Universität Würzburg**\n",
    "- **Created on**: 231214\n",
    "- **Last modified**: 231214"
   ]
  },
  {
   "cell_type": "markdown",
   "metadata": {},
   "source": [
    "### Load required packages"
   ]
  },
  {
   "cell_type": "code",
   "execution_count": 1,
   "metadata": {},
   "outputs": [
    {
     "data": {
      "text/html": [
       "<pre style=\"white-space:pre;overflow-x:auto;line-height:normal;font-family:Menlo,'DejaVu Sans Mono',consolas,'Courier New',monospace\"><span style=\"color: #808000; text-decoration-color: #808000; font-weight: bold\">To use sccoda or tasccoda please install ete3 with </span><span style=\"color: #008000; text-decoration-color: #008000; font-weight: bold\">pip install ete3</span>\n",
       "</pre>\n"
      ],
      "text/plain": [
       "\u001b[1;33mTo use sccoda or tasccoda please install ete3 with \u001b[0m\u001b[1;32mpip install ete3\u001b[0m\n"
      ]
     },
     "metadata": {},
     "output_type": "display_data"
    },
    {
     "name": "stderr",
     "output_type": "stream",
     "text": [
      "2023-12-14 13:22:26.569466: E external/local_xla/xla/stream_executor/cuda/cuda_dnn.cc:9261] Unable to register cuDNN factory: Attempting to register factory for plugin cuDNN when one has already been registered\n",
      "2023-12-14 13:22:26.569509: E external/local_xla/xla/stream_executor/cuda/cuda_fft.cc:607] Unable to register cuFFT factory: Attempting to register factory for plugin cuFFT when one has already been registered\n",
      "2023-12-14 13:22:26.570493: E external/local_xla/xla/stream_executor/cuda/cuda_blas.cc:1515] Unable to register cuBLAS factory: Attempting to register factory for plugin cuBLAS when one has already been registered\n",
      "2023-12-14 13:22:27.368777: W tensorflow/compiler/tf2tensorrt/utils/py_utils.cc:38] TF-TRT Warning: Could not find TensorRT\n"
     ]
    }
   ],
   "source": [
    "import warnings\n",
    "import importlib\n",
    "import numpy as np\n",
    "import pertpy as pt\n",
    "import altair as alt\n",
    "import pandas as pd\n",
    "import scanpy as sc\n",
    "import pickle as pkl\n",
    "import seaborn as sns\n",
    "import matplotlib.pyplot as plt\n",
    "\n",
    "import sccoda.datasets as scd\n",
    "from sccoda.util import comp_ana as mod\n",
    "from sccoda.util import data_visualization as viz\n",
    "from sccoda.util import cell_composition_data as dat"
   ]
  },
  {
   "cell_type": "markdown",
   "metadata": {},
   "source": [
    "### Set up working environment"
   ]
  },
  {
   "cell_type": "code",
   "execution_count": 2,
   "metadata": {},
   "outputs": [],
   "source": [
    "sc.settings.verbosity = 3\n",
    "#sc.logging.print_versions()\n",
    "sc.settings.set_figure_params(dpi = 180, color_map = 'magma_r', dpi_save = 300, vector_friendly = True, format = 'svg')"
   ]
  },
  {
   "cell_type": "markdown",
   "metadata": {},
   "source": [
    "### Load working object"
   ]
  },
  {
   "cell_type": "code",
   "execution_count": 3,
   "metadata": {},
   "outputs": [
    {
     "data": {
      "text/plain": [
       "AnnData object with n_obs × n_vars = 97573 × 27208\n",
       "    obs: 'sex', 'age', 'ethnicity', 'PaCO2', 'donor', 'infection', 'disease', 'SMK', 'illumina_stimunr', 'bd_rhapsody', 'n_genes', 'doublet_scores', 'predicted_doublets', 'batch', 'n_genes_by_counts', 'total_counts', 'total_counts_mt', 'pct_counts_mt', 'total_counts_ribo', 'pct_counts_ribo', 'percent_mt2', 'n_counts', 'percent_chrY', 'XIST-counts', 'S_score', 'G2M_score', 'condition', 'sample_group', 'IAV_score', 'group', 'Viral_score', 'cell_type', 'cell_states', 'leiden', 'cell_compartment', '_scvi_batch', '_scvi_labels', 'C_scANVI', 'viral_counts', 'infected_status'\n",
       "    var: 'mt', 'ribo'\n",
       "    uns: 'cell_states_colors', 'disease_colors', 'group_colors', 'infected_status_colors', 'infection_colors'\n",
       "    obsm: 'X_scANVI', 'X_scVI', 'X_umap'"
      ]
     },
     "execution_count": 3,
     "metadata": {},
     "output_type": "execute_result"
    }
   ],
   "source": [
    "adata = sc.read_h5ad('../../../data/Marburg_cell_states_locked_ctl231212.raw.h5ad')\n",
    "adata"
   ]
  },
  {
   "cell_type": "markdown",
   "metadata": {},
   "source": [
    "### Convert to scCODA `anndata` format"
   ]
  },
  {
   "cell_type": "code",
   "execution_count": 5,
   "metadata": {},
   "outputs": [
    {
     "ename": "AttributeError",
     "evalue": "module 'pertpy.tools' has no attribute 'sccoda'",
     "output_type": "error",
     "traceback": [
      "\u001b[0;31m---------------------------------------------------------------------------\u001b[0m",
      "\u001b[0;31mAttributeError\u001b[0m                            Traceback (most recent call last)",
      "Cell \u001b[0;32mIn[5], line 1\u001b[0m\n\u001b[0;32m----> 1\u001b[0m sccoda_model \u001b[38;5;241m=\u001b[39m \u001b[43mpt\u001b[49m\u001b[38;5;241;43m.\u001b[39;49m\u001b[43mtl\u001b[49m\u001b[38;5;241;43m.\u001b[39;49m\u001b[43msccoda\u001b[49m()\n\u001b[1;32m      2\u001b[0m sccoda_data \u001b[38;5;241m=\u001b[39m sccoda_model\u001b[38;5;241m.\u001b[39mload(\n\u001b[1;32m      3\u001b[0m     adata,\n\u001b[1;32m      4\u001b[0m     \u001b[38;5;28mtype\u001b[39m \u001b[38;5;241m=\u001b[39m \u001b[38;5;124m\"\u001b[39m\u001b[38;5;124mcell_level\u001b[39m\u001b[38;5;124m\"\u001b[39m,\n\u001b[0;32m   (...)\u001b[0m\n\u001b[1;32m      8\u001b[0m     covariate_obs \u001b[38;5;241m=\u001b[39m [\u001b[38;5;124m\"\u001b[39m\u001b[38;5;124mgroup\u001b[39m\u001b[38;5;124m\"\u001b[39m]\n\u001b[1;32m      9\u001b[0m )\n\u001b[1;32m     10\u001b[0m sccoda_data\n",
      "\u001b[0;31mAttributeError\u001b[0m: module 'pertpy.tools' has no attribute 'sccoda'"
     ]
    }
   ],
   "source": [
    "sccoda_model = pt.tl.sccoda()\n",
    "sccoda_data = sccoda_model.load(\n",
    "    adata,\n",
    "    type = \"cell_level\",\n",
    "    generate_sample_level = True,\n",
    "    cell_type_identifier = \"cell_compartment\",\n",
    "    sample_identifier = \"batch\",\n",
    "    covariate_obs = [\"group\"]\n",
    ")\n",
    "sccoda_data"
   ]
  },
  {
   "cell_type": "markdown",
   "metadata": {},
   "source": [
    "### Evaluate conditions prior to modelling"
   ]
  },
  {
   "cell_type": "code",
   "execution_count": null,
   "metadata": {},
   "outputs": [],
   "source": [
    "viz.boxplots(adata, feature_name = \"group\", cell_types = 'cell_compartment')\n",
    "plt.show()"
   ]
  },
  {
   "cell_type": "code",
   "execution_count": null,
   "metadata": {},
   "outputs": [],
   "source": [
    "milo.make_nhoods(adata)\n",
    "milo.count_nhoods(adata, sample_col = \"batch\")\n",
    "milo.DA_nhoods(adata, design = \"~ group\")"
   ]
  },
  {
   "cell_type": "code",
   "execution_count": null,
   "metadata": {},
   "outputs": [],
   "source": [
    "milo_results = adata.uns[\"nhood_adata\"].obs\n",
    "milo_results"
   ]
  },
  {
   "cell_type": "code",
   "execution_count": null,
   "metadata": {},
   "outputs": [],
   "source": [
    "milopy.utils.build_nhood_graph(adata)\n",
    "milopy.plot.plot_nhood_graph(adata, alpha = 0.8, min_size = 0.1)"
   ]
  },
  {
   "cell_type": "code",
   "execution_count": null,
   "metadata": {},
   "outputs": [],
   "source": [
    "milopy.utils.annotate_nhoods(adata, anno_col = 'cell_type')"
   ]
  },
  {
   "cell_type": "code",
   "execution_count": null,
   "metadata": {},
   "outputs": [],
   "source": [
    "plt.hist(adata.uns['nhood_adata'].obs[\"nhood_annotation_frac\"])\n",
    "plt.xlabel(\"celltype fraction\")"
   ]
  },
  {
   "cell_type": "code",
   "execution_count": null,
   "metadata": {},
   "outputs": [],
   "source": [
    "nhood_annotation = adata.uns['nhood_adata'].obs['nhood_annotation']\n",
    "nhood_annotation = nhood_annotation.cat.add_categories(['Ambiguous'])\n",
    "adata.uns['nhood_adata'].obs['nhood_annotation'] = nhood_annotation\n",
    "\n",
    "adata.uns['nhood_adata'].obs.loc[adata.uns['nhood_adata'].obs[\"nhood_annotation_frac\"] < 0.6, \"nhood_annotation\"] = \"Ambiguous\"\n"
   ]
  },
  {
   "cell_type": "code",
   "execution_count": null,
   "metadata": {},
   "outputs": [],
   "source": [
    "sc.pl.violin(adata.uns['nhood_adata'], \"logFC\", groupby = \"nhood_annotation\", rotation = 90, show = False);\n",
    "plt.axhline(y = 0, color = 'black', linestyle = '--');\n",
    "plt.show()"
   ]
  },
  {
   "cell_type": "code",
   "execution_count": null,
   "metadata": {},
   "outputs": [],
   "source": []
  }
 ],
 "metadata": {
  "kernelspec": {
   "display_name": "milopy",
   "language": "python",
   "name": "python3"
  },
  "language_info": {
   "codemirror_mode": {
    "name": "ipython",
    "version": 3
   },
   "file_extension": ".py",
   "mimetype": "text/x-python",
   "name": "python",
   "nbconvert_exporter": "python",
   "pygments_lexer": "ipython3",
   "version": "3.10.13"
  }
 },
 "nbformat": 4,
 "nbformat_minor": 2
}
