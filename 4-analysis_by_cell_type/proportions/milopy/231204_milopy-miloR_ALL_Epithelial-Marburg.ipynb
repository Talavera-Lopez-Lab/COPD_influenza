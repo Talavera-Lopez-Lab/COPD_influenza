{
 "cells": [
  {
   "cell_type": "markdown",
   "metadata": {},
   "source": [
    "### Notebook for the cell proportion analysis of Healthy_vs_COPD CTRL_vs_IAV data\n",
    "\n",
    "- **Developed by**: Carlos Talavera-López Ph.D\n",
    "- **Würzburg Institute for Systems Immunology - Faculty of Medicine - Julius Maximilian Universität Würzburg**\n",
    "- **Created on**: 231204\n",
    "- **Last modified**: 231204"
   ]
  },
  {
   "cell_type": "markdown",
   "metadata": {},
   "source": [
    "### Load required packages"
   ]
  },
  {
   "cell_type": "code",
   "execution_count": 1,
   "metadata": {},
   "outputs": [],
   "source": [
    "import logging\n",
    "import anndata\n",
    "import anndata2ri\n",
    "import numpy as np\n",
    "import pandas as pd\n",
    "import scanpy as sc\n",
    "import matplotlib.pyplot as plt\n",
    "import rpy2.rinterface_lib.callbacks"
   ]
  },
  {
   "cell_type": "markdown",
   "metadata": {},
   "source": [
    "### Set up working environment"
   ]
  },
  {
   "cell_type": "code",
   "execution_count": 2,
   "metadata": {},
   "outputs": [
    {
     "name": "stdout",
     "output_type": "stream",
     "text": [
      "-----\n",
      "anndata     0.10.3\n",
      "scanpy      1.9.6\n",
      "-----\n",
      "PIL                 10.1.0\n",
      "anndata2ri          1.3.1\n",
      "appnope             0.1.3\n",
      "asttokens           NA\n",
      "cffi                1.16.0\n",
      "comm                0.2.0\n",
      "cycler              0.12.1\n",
      "cython_runtime      NA\n",
      "dateutil            2.8.2\n",
      "debugpy             1.8.0\n",
      "decorator           5.1.1\n",
      "exceptiongroup      1.2.0\n",
      "executing           2.0.1\n",
      "get_annotations     NA\n",
      "h5py                3.10.0\n",
      "igraph              0.10.8\n",
      "importlib_resources NA\n",
      "ipykernel           6.27.1\n",
      "ipywidgets          8.1.1\n",
      "jedi                0.19.1\n",
      "jinja2              3.1.2\n",
      "joblib              1.3.2\n",
      "kiwisolver          1.4.5\n",
      "leidenalg           0.10.1\n",
      "llvmlite            0.41.1\n",
      "markupsafe          2.1.3\n",
      "matplotlib          3.8.2\n",
      "mpl_toolkits        NA\n",
      "mpmath              1.3.0\n",
      "natsort             8.4.0\n",
      "numba               0.58.1\n",
      "numpy               1.24.4\n",
      "packaging           23.2\n",
      "pandas              2.1.3\n",
      "parso               0.8.3\n",
      "pexpect             4.9.0\n",
      "platformdirs        4.0.0\n",
      "prompt_toolkit      3.0.41\n",
      "psutil              5.9.6\n",
      "ptyprocess          0.7.0\n",
      "pure_eval           0.2.2\n",
      "pydev_ipython       NA\n",
      "pydevconsole        NA\n",
      "pydevd              2.9.5\n",
      "pydevd_file_utils   NA\n",
      "pydevd_plugins      NA\n",
      "pydevd_tracing      NA\n",
      "pygments            2.17.2\n",
      "pyparsing           3.1.1\n",
      "pytz                2023.3.post1\n",
      "rpy2                3.5.14\n",
      "scipy               1.11.4\n",
      "session_info        1.0.0\n",
      "six                 1.16.0\n",
      "sklearn             1.3.2\n",
      "stack_data          0.6.3\n",
      "sympy               1.12\n",
      "texttable           1.7.0\n",
      "threadpoolctl       3.2.0\n",
      "torch               2.1.1\n",
      "torchgen            NA\n",
      "tornado             6.4\n",
      "tqdm                4.66.1\n",
      "traitlets           5.14.0\n",
      "typing_extensions   NA\n",
      "tzlocal             NA\n",
      "wcwidth             0.2.12\n",
      "yaml                6.0.1\n",
      "zipp                NA\n",
      "zmq                 25.1.1\n",
      "zoneinfo            NA\n",
      "-----\n",
      "IPython             8.18.1\n",
      "jupyter_client      8.6.0\n",
      "jupyter_core        5.5.0\n",
      "-----\n",
      "Python 3.9.18 | packaged by conda-forge | (main, Aug 30 2023, 03:53:08) [Clang 15.0.7 ]\n",
      "macOS-14.1.2-arm64-arm-64bit\n",
      "-----\n",
      "Session information updated at 2023-12-14 20:38\n"
     ]
    }
   ],
   "source": [
    "sc.settings.verbosity = 3\n",
    "sc.logging.print_versions()\n",
    "sc.settings.set_figure_params(dpi = 180, color_map = 'magma_r', dpi_save = 300, vector_friendly = True, format = 'svg')"
   ]
  },
  {
   "cell_type": "code",
   "execution_count": 3,
   "metadata": {},
   "outputs": [],
   "source": [
    "rpy2.rinterface_lib.callbacks.logger.setLevel(logging.ERROR)"
   ]
  },
  {
   "cell_type": "code",
   "execution_count": 4,
   "metadata": {},
   "outputs": [
    {
     "name": "stderr",
     "output_type": "stream",
     "text": [
      "/var/folders/j1/l8rz6t7953z7vlpdytk0pbv40000gn/T/ipykernel_16408/4016445965.py:1: DeprecationWarning: The global conversion available with activate() is deprecated and will be removed in the next major release. Use a local converter.\n",
      "  anndata2ri.activate()\n"
     ]
    }
   ],
   "source": [
    "anndata2ri.activate()"
   ]
  },
  {
   "cell_type": "code",
   "execution_count": 5,
   "metadata": {},
   "outputs": [],
   "source": [
    "%load_ext rpy2.ipython"
   ]
  },
  {
   "cell_type": "markdown",
   "metadata": {},
   "source": [
    "### Set up `milo` for the underlying analysis"
   ]
  },
  {
   "cell_type": "raw",
   "metadata": {},
   "source": [
    "%%R\n",
    "devtools::install_github(\"MarioniLab/miloR\")"
   ]
  },
  {
   "cell_type": "code",
   "execution_count": 6,
   "metadata": {},
   "outputs": [
    {
     "data": {
      "text/plain": [
       "Lade nötiges Paket: edgeR\n",
       "Lade nötiges Paket: limma\n",
       "\n",
       "Attache Paket: ‘igraph’\n",
       "\n",
       "Das folgende Objekt ist maskiert ‘package:miloR’:\n",
       "\n",
       "    graph\n",
       "\n",
       "Die folgenden Objekte sind maskiert von ‘package:stats’:\n",
       "\n",
       "    decompose, spectrum\n",
       "\n",
       "Das folgende Objekt ist maskiert ‘package:base’:\n",
       "\n",
       "    union\n",
       "\n"
      ]
     },
     "metadata": {},
     "output_type": "display_data"
    }
   ],
   "source": [
    "%%R\n",
    "library(miloR)\n",
    "library(igraph)"
   ]
  },
  {
   "cell_type": "markdown",
   "metadata": {},
   "source": [
    "### Load working object"
   ]
  },
  {
   "cell_type": "code",
   "execution_count": 7,
   "metadata": {},
   "outputs": [
    {
     "data": {
      "text/plain": [
       "AnnData object with n_obs × n_vars = 97573 × 27208\n",
       "    obs: 'sex', 'age', 'ethnicity', 'PaCO2', 'donor', 'infection', 'disease', 'SMK', 'illumina_stimunr', 'bd_rhapsody', 'n_genes', 'doublet_scores', 'predicted_doublets', 'batch', 'n_genes_by_counts', 'total_counts', 'total_counts_mt', 'pct_counts_mt', 'total_counts_ribo', 'pct_counts_ribo', 'percent_mt2', 'n_counts', 'percent_chrY', 'XIST-counts', 'S_score', 'G2M_score', 'condition', 'sample_group', 'IAV_score', 'group', 'Viral_score', 'cell_type', 'cell_states', 'leiden', 'cell_compartment', '_scvi_batch', '_scvi_labels', 'C_scANVI', 'viral_counts', 'infected_status'\n",
       "    var: 'mt', 'ribo'\n",
       "    uns: 'cell_states_colors', 'disease_colors', 'group_colors', 'infected_status_colors', 'infection_colors'\n",
       "    obsm: 'X_scANVI', 'X_scVI', 'X_umap'"
      ]
     },
     "execution_count": 7,
     "metadata": {},
     "output_type": "execute_result"
    }
   ],
   "source": [
    "adata = sc.read_h5ad('../../../data/Marburg_cell_states_locked_ctl231212.raw.h5ad')\n",
    "adata"
   ]
  },
  {
   "cell_type": "markdown",
   "metadata": {},
   "source": [
    "### Test for differential abundance with `milo`"
   ]
  },
  {
   "cell_type": "code",
   "execution_count": 8,
   "metadata": {},
   "outputs": [
    {
     "name": "stdout",
     "output_type": "stream",
     "text": [
      "computing neighbors\n"
     ]
    },
    {
     "name": "stderr",
     "output_type": "stream",
     "text": [
      "OMP: Info #276: omp_set_nested routine deprecated, please use omp_set_max_active_levels instead.\n"
     ]
    },
    {
     "name": "stdout",
     "output_type": "stream",
     "text": [
      "    finished: added to `.uns['neighbors']`\n",
      "    `.obsp['distances']`, distances for each pair of neighbors\n",
      "    `.obsp['connectivities']`, weighted adjacency matrix (0:00:22)\n"
     ]
    }
   ],
   "source": [
    "sc.pp.neighbors(adata, n_neighbors = 50, random_state = 1712, use_rep = 'X_scANVI')"
   ]
  },
  {
   "cell_type": "code",
   "execution_count": 9,
   "metadata": {},
   "outputs": [
    {
     "data": {
      "text/html": [
       "<div>\n",
       "<style scoped>\n",
       "    .dataframe tbody tr th:only-of-type {\n",
       "        vertical-align: middle;\n",
       "    }\n",
       "\n",
       "    .dataframe tbody tr th {\n",
       "        vertical-align: top;\n",
       "    }\n",
       "\n",
       "    .dataframe thead th {\n",
       "        text-align: right;\n",
       "    }\n",
       "</style>\n",
       "<table border=\"1\" class=\"dataframe\">\n",
       "  <thead>\n",
       "    <tr style=\"text-align: right;\">\n",
       "      <th></th>\n",
       "      <th>0</th>\n",
       "      <th>1</th>\n",
       "      <th>2</th>\n",
       "      <th>3</th>\n",
       "      <th>4</th>\n",
       "      <th>5</th>\n",
       "      <th>6</th>\n",
       "      <th>7</th>\n",
       "      <th>8</th>\n",
       "      <th>9</th>\n",
       "      <th>...</th>\n",
       "      <th>20</th>\n",
       "      <th>21</th>\n",
       "      <th>22</th>\n",
       "      <th>23</th>\n",
       "      <th>24</th>\n",
       "      <th>25</th>\n",
       "      <th>26</th>\n",
       "      <th>27</th>\n",
       "      <th>28</th>\n",
       "      <th>29</th>\n",
       "    </tr>\n",
       "  </thead>\n",
       "  <tbody>\n",
       "    <tr>\n",
       "      <th>0</th>\n",
       "      <td>-0.023857</td>\n",
       "      <td>0.698145</td>\n",
       "      <td>1.647817</td>\n",
       "      <td>-0.009554</td>\n",
       "      <td>1.303181</td>\n",
       "      <td>0.162096</td>\n",
       "      <td>0.434327</td>\n",
       "      <td>-1.678667</td>\n",
       "      <td>0.252368</td>\n",
       "      <td>-1.498314</td>\n",
       "      <td>...</td>\n",
       "      <td>-0.879557</td>\n",
       "      <td>-0.175128</td>\n",
       "      <td>-0.498197</td>\n",
       "      <td>0.115287</td>\n",
       "      <td>1.640779</td>\n",
       "      <td>0.082409</td>\n",
       "      <td>1.497953</td>\n",
       "      <td>0.116839</td>\n",
       "      <td>0.114829</td>\n",
       "      <td>0.257356</td>\n",
       "    </tr>\n",
       "    <tr>\n",
       "      <th>1</th>\n",
       "      <td>0.260839</td>\n",
       "      <td>0.612675</td>\n",
       "      <td>2.014230</td>\n",
       "      <td>0.121441</td>\n",
       "      <td>-0.816559</td>\n",
       "      <td>0.284699</td>\n",
       "      <td>0.482280</td>\n",
       "      <td>0.179233</td>\n",
       "      <td>0.281227</td>\n",
       "      <td>-0.712338</td>\n",
       "      <td>...</td>\n",
       "      <td>-1.012894</td>\n",
       "      <td>-0.082516</td>\n",
       "      <td>-0.305419</td>\n",
       "      <td>-0.442082</td>\n",
       "      <td>2.326496</td>\n",
       "      <td>0.025421</td>\n",
       "      <td>1.941844</td>\n",
       "      <td>1.020679</td>\n",
       "      <td>0.317055</td>\n",
       "      <td>0.248593</td>\n",
       "    </tr>\n",
       "    <tr>\n",
       "      <th>2</th>\n",
       "      <td>0.527197</td>\n",
       "      <td>1.051738</td>\n",
       "      <td>0.284978</td>\n",
       "      <td>-0.108563</td>\n",
       "      <td>-0.954801</td>\n",
       "      <td>0.301718</td>\n",
       "      <td>0.474045</td>\n",
       "      <td>0.999606</td>\n",
       "      <td>0.318987</td>\n",
       "      <td>-0.334104</td>\n",
       "      <td>...</td>\n",
       "      <td>0.307652</td>\n",
       "      <td>0.436324</td>\n",
       "      <td>-0.097590</td>\n",
       "      <td>-0.563716</td>\n",
       "      <td>1.280361</td>\n",
       "      <td>0.011321</td>\n",
       "      <td>2.084684</td>\n",
       "      <td>-0.893512</td>\n",
       "      <td>0.369019</td>\n",
       "      <td>0.249331</td>\n",
       "    </tr>\n",
       "    <tr>\n",
       "      <th>3</th>\n",
       "      <td>0.376179</td>\n",
       "      <td>0.445397</td>\n",
       "      <td>0.685485</td>\n",
       "      <td>0.032689</td>\n",
       "      <td>-1.605751</td>\n",
       "      <td>0.343839</td>\n",
       "      <td>0.174283</td>\n",
       "      <td>0.361205</td>\n",
       "      <td>0.282133</td>\n",
       "      <td>-0.426715</td>\n",
       "      <td>...</td>\n",
       "      <td>-0.427790</td>\n",
       "      <td>-0.210345</td>\n",
       "      <td>-0.169110</td>\n",
       "      <td>-0.024666</td>\n",
       "      <td>1.943300</td>\n",
       "      <td>0.041610</td>\n",
       "      <td>2.520197</td>\n",
       "      <td>-0.189592</td>\n",
       "      <td>0.274579</td>\n",
       "      <td>0.219191</td>\n",
       "    </tr>\n",
       "    <tr>\n",
       "      <th>4</th>\n",
       "      <td>0.252085</td>\n",
       "      <td>0.361741</td>\n",
       "      <td>1.059010</td>\n",
       "      <td>0.104622</td>\n",
       "      <td>-0.651614</td>\n",
       "      <td>0.339975</td>\n",
       "      <td>0.253447</td>\n",
       "      <td>1.021600</td>\n",
       "      <td>0.463458</td>\n",
       "      <td>-0.883869</td>\n",
       "      <td>...</td>\n",
       "      <td>-0.839840</td>\n",
       "      <td>-0.188566</td>\n",
       "      <td>-0.206212</td>\n",
       "      <td>0.224203</td>\n",
       "      <td>1.275067</td>\n",
       "      <td>0.040008</td>\n",
       "      <td>2.008775</td>\n",
       "      <td>-0.192023</td>\n",
       "      <td>0.349644</td>\n",
       "      <td>0.118984</td>\n",
       "    </tr>\n",
       "    <tr>\n",
       "      <th>...</th>\n",
       "      <td>...</td>\n",
       "      <td>...</td>\n",
       "      <td>...</td>\n",
       "      <td>...</td>\n",
       "      <td>...</td>\n",
       "      <td>...</td>\n",
       "      <td>...</td>\n",
       "      <td>...</td>\n",
       "      <td>...</td>\n",
       "      <td>...</td>\n",
       "      <td>...</td>\n",
       "      <td>...</td>\n",
       "      <td>...</td>\n",
       "      <td>...</td>\n",
       "      <td>...</td>\n",
       "      <td>...</td>\n",
       "      <td>...</td>\n",
       "      <td>...</td>\n",
       "      <td>...</td>\n",
       "      <td>...</td>\n",
       "      <td>...</td>\n",
       "    </tr>\n",
       "    <tr>\n",
       "      <th>97568</th>\n",
       "      <td>0.252063</td>\n",
       "      <td>0.054477</td>\n",
       "      <td>0.380298</td>\n",
       "      <td>-0.036232</td>\n",
       "      <td>-1.005471</td>\n",
       "      <td>0.327484</td>\n",
       "      <td>0.164557</td>\n",
       "      <td>0.540161</td>\n",
       "      <td>0.157245</td>\n",
       "      <td>0.843312</td>\n",
       "      <td>...</td>\n",
       "      <td>-0.040203</td>\n",
       "      <td>-0.022366</td>\n",
       "      <td>-0.163603</td>\n",
       "      <td>-0.000305</td>\n",
       "      <td>-0.471740</td>\n",
       "      <td>-0.039819</td>\n",
       "      <td>1.182968</td>\n",
       "      <td>-1.321827</td>\n",
       "      <td>0.061175</td>\n",
       "      <td>0.160841</td>\n",
       "    </tr>\n",
       "    <tr>\n",
       "      <th>97569</th>\n",
       "      <td>-0.459390</td>\n",
       "      <td>0.138232</td>\n",
       "      <td>-1.504954</td>\n",
       "      <td>-0.127792</td>\n",
       "      <td>1.083336</td>\n",
       "      <td>0.181003</td>\n",
       "      <td>0.126632</td>\n",
       "      <td>-1.130855</td>\n",
       "      <td>-0.271288</td>\n",
       "      <td>0.921351</td>\n",
       "      <td>...</td>\n",
       "      <td>-1.665752</td>\n",
       "      <td>-0.129056</td>\n",
       "      <td>-0.266652</td>\n",
       "      <td>1.417193</td>\n",
       "      <td>-0.067425</td>\n",
       "      <td>-0.077619</td>\n",
       "      <td>-0.359845</td>\n",
       "      <td>1.260643</td>\n",
       "      <td>-0.342096</td>\n",
       "      <td>0.137981</td>\n",
       "    </tr>\n",
       "    <tr>\n",
       "      <th>97570</th>\n",
       "      <td>-0.349372</td>\n",
       "      <td>0.421996</td>\n",
       "      <td>-1.476419</td>\n",
       "      <td>-0.015994</td>\n",
       "      <td>1.812386</td>\n",
       "      <td>0.392780</td>\n",
       "      <td>-0.003219</td>\n",
       "      <td>-0.594024</td>\n",
       "      <td>0.176381</td>\n",
       "      <td>-0.276295</td>\n",
       "      <td>...</td>\n",
       "      <td>-1.634133</td>\n",
       "      <td>0.048385</td>\n",
       "      <td>-0.289255</td>\n",
       "      <td>1.237229</td>\n",
       "      <td>0.502203</td>\n",
       "      <td>-0.043584</td>\n",
       "      <td>-0.928989</td>\n",
       "      <td>-0.589505</td>\n",
       "      <td>0.009101</td>\n",
       "      <td>0.194208</td>\n",
       "    </tr>\n",
       "    <tr>\n",
       "      <th>97571</th>\n",
       "      <td>0.050182</td>\n",
       "      <td>0.346088</td>\n",
       "      <td>-0.437399</td>\n",
       "      <td>-0.172110</td>\n",
       "      <td>1.886432</td>\n",
       "      <td>0.426958</td>\n",
       "      <td>0.462852</td>\n",
       "      <td>0.580223</td>\n",
       "      <td>0.637776</td>\n",
       "      <td>0.388131</td>\n",
       "      <td>...</td>\n",
       "      <td>-0.705198</td>\n",
       "      <td>0.353627</td>\n",
       "      <td>-0.463801</td>\n",
       "      <td>0.430544</td>\n",
       "      <td>-1.324370</td>\n",
       "      <td>0.346113</td>\n",
       "      <td>0.755285</td>\n",
       "      <td>-1.434863</td>\n",
       "      <td>0.365466</td>\n",
       "      <td>-0.381117</td>\n",
       "    </tr>\n",
       "    <tr>\n",
       "      <th>97572</th>\n",
       "      <td>0.079177</td>\n",
       "      <td>0.253096</td>\n",
       "      <td>0.510409</td>\n",
       "      <td>-0.228045</td>\n",
       "      <td>0.819389</td>\n",
       "      <td>0.234430</td>\n",
       "      <td>0.239079</td>\n",
       "      <td>0.337323</td>\n",
       "      <td>0.167214</td>\n",
       "      <td>-0.658218</td>\n",
       "      <td>...</td>\n",
       "      <td>0.573317</td>\n",
       "      <td>0.179001</td>\n",
       "      <td>-0.072554</td>\n",
       "      <td>0.861614</td>\n",
       "      <td>-1.218740</td>\n",
       "      <td>-0.140922</td>\n",
       "      <td>1.129120</td>\n",
       "      <td>-0.139683</td>\n",
       "      <td>0.114515</td>\n",
       "      <td>0.049627</td>\n",
       "    </tr>\n",
       "  </tbody>\n",
       "</table>\n",
       "<p>97573 rows × 30 columns</p>\n",
       "</div>"
      ],
      "text/plain": [
       "             0         1         2         3         4         5         6   \\\n",
       "0     -0.023857  0.698145  1.647817 -0.009554  1.303181  0.162096  0.434327   \n",
       "1      0.260839  0.612675  2.014230  0.121441 -0.816559  0.284699  0.482280   \n",
       "2      0.527197  1.051738  0.284978 -0.108563 -0.954801  0.301718  0.474045   \n",
       "3      0.376179  0.445397  0.685485  0.032689 -1.605751  0.343839  0.174283   \n",
       "4      0.252085  0.361741  1.059010  0.104622 -0.651614  0.339975  0.253447   \n",
       "...         ...       ...       ...       ...       ...       ...       ...   \n",
       "97568  0.252063  0.054477  0.380298 -0.036232 -1.005471  0.327484  0.164557   \n",
       "97569 -0.459390  0.138232 -1.504954 -0.127792  1.083336  0.181003  0.126632   \n",
       "97570 -0.349372  0.421996 -1.476419 -0.015994  1.812386  0.392780 -0.003219   \n",
       "97571  0.050182  0.346088 -0.437399 -0.172110  1.886432  0.426958  0.462852   \n",
       "97572  0.079177  0.253096  0.510409 -0.228045  0.819389  0.234430  0.239079   \n",
       "\n",
       "             7         8         9   ...        20        21        22  \\\n",
       "0     -1.678667  0.252368 -1.498314  ... -0.879557 -0.175128 -0.498197   \n",
       "1      0.179233  0.281227 -0.712338  ... -1.012894 -0.082516 -0.305419   \n",
       "2      0.999606  0.318987 -0.334104  ...  0.307652  0.436324 -0.097590   \n",
       "3      0.361205  0.282133 -0.426715  ... -0.427790 -0.210345 -0.169110   \n",
       "4      1.021600  0.463458 -0.883869  ... -0.839840 -0.188566 -0.206212   \n",
       "...         ...       ...       ...  ...       ...       ...       ...   \n",
       "97568  0.540161  0.157245  0.843312  ... -0.040203 -0.022366 -0.163603   \n",
       "97569 -1.130855 -0.271288  0.921351  ... -1.665752 -0.129056 -0.266652   \n",
       "97570 -0.594024  0.176381 -0.276295  ... -1.634133  0.048385 -0.289255   \n",
       "97571  0.580223  0.637776  0.388131  ... -0.705198  0.353627 -0.463801   \n",
       "97572  0.337323  0.167214 -0.658218  ...  0.573317  0.179001 -0.072554   \n",
       "\n",
       "             23        24        25        26        27        28        29  \n",
       "0      0.115287  1.640779  0.082409  1.497953  0.116839  0.114829  0.257356  \n",
       "1     -0.442082  2.326496  0.025421  1.941844  1.020679  0.317055  0.248593  \n",
       "2     -0.563716  1.280361  0.011321  2.084684 -0.893512  0.369019  0.249331  \n",
       "3     -0.024666  1.943300  0.041610  2.520197 -0.189592  0.274579  0.219191  \n",
       "4      0.224203  1.275067  0.040008  2.008775 -0.192023  0.349644  0.118984  \n",
       "...         ...       ...       ...       ...       ...       ...       ...  \n",
       "97568 -0.000305 -0.471740 -0.039819  1.182968 -1.321827  0.061175  0.160841  \n",
       "97569  1.417193 -0.067425 -0.077619 -0.359845  1.260643 -0.342096  0.137981  \n",
       "97570  1.237229  0.502203 -0.043584 -0.928989 -0.589505  0.009101  0.194208  \n",
       "97571  0.430544 -1.324370  0.346113  0.755285 -1.434863  0.365466 -0.381117  \n",
       "97572  0.861614 -1.218740 -0.140922  1.129120 -0.139683  0.114515  0.049627  \n",
       "\n",
       "[97573 rows x 30 columns]"
      ]
     },
     "execution_count": 9,
     "metadata": {},
     "output_type": "execute_result"
    }
   ],
   "source": [
    "pca_matrix = adata.obsm['X_scANVI']\n",
    "pca_df = pd.DataFrame(pca_matrix)\n",
    "pca_df\n"
   ]
  },
  {
   "cell_type": "markdown",
   "metadata": {},
   "source": [
    "### Differential abundance (DA) analysis with `milo`"
   ]
  },
  {
   "cell_type": "code",
   "execution_count": 10,
   "metadata": {},
   "outputs": [
    {
     "data": {
      "text/plain": [
       "AnnData object with n_obs × n_vars = 97573 × 27208\n",
       "    obs: 'sex', 'age', 'ethnicity', 'PaCO2', 'donor', 'infection', 'disease', 'SMK', 'illumina_stimunr', 'bd_rhapsody', 'n_genes', 'doublet_scores', 'predicted_doublets', 'batch', 'n_genes_by_counts', 'total_counts', 'total_counts_mt', 'pct_counts_mt', 'total_counts_ribo', 'pct_counts_ribo', 'percent_mt2', 'n_counts', 'percent_chrY', 'XIST-counts', 'S_score', 'G2M_score', 'condition', 'sample_group', 'IAV_score', 'group', 'Viral_score', 'cell_type', 'cell_states', 'leiden', 'cell_compartment', '_scvi_batch', '_scvi_labels', 'C_scANVI', 'viral_counts', 'infected_status'\n",
       "    var: 'mt', 'ribo'\n",
       "    uns: 'cell_states_colors', 'disease_colors', 'group_colors', 'infected_status_colors', 'infection_colors'\n",
       "    obsm: 'X_scANVI', 'X_scVI', 'X_umap'"
      ]
     },
     "execution_count": 10,
     "metadata": {},
     "output_type": "execute_result"
    }
   ],
   "source": [
    "adata_no_knn = adata.copy()\n",
    "adata_no_knn.obsp = None\n",
    "adata_no_knn.uns.pop(\"neighbors\")\n",
    "adata_no_knn"
   ]
  },
  {
   "cell_type": "markdown",
   "metadata": {},
   "source": [
    "- This can be converted to a SingleCellExperiment using R magic again"
   ]
  },
  {
   "cell_type": "code",
   "execution_count": 11,
   "metadata": {},
   "outputs": [
    {
     "name": "stdout",
     "output_type": "stream",
     "text": [
      "class: SingleCellExperiment \n",
      "dim: 27208 97573 \n",
      "metadata(5): cell_states_colors disease_colors group_colors\n",
      "  infected_status_colors infection_colors\n",
      "assays(1): X\n",
      "rownames(27208): A1BG A1BG-AS1 ... ZYX ZZEF1\n",
      "rowData names(2): mt ribo\n",
      "colnames(97573): 493638-ST07_CSE_CTRL-V1-uninfected\n",
      "  816750-ST07_CSE_CTRL-V1-uninfected ... 1638545-CSE03_IAV-V6-infected\n",
      "  163246-CSE03_IAV-V6-infected\n",
      "colData names(40): sex age ... viral_counts infected_status\n",
      "reducedDimNames(3): X_scANVI X_scVI UMAP\n",
      "mainExpName: NULL\n",
      "altExpNames(0):\n"
     ]
    }
   ],
   "source": [
    "%%R -i adata_no_knn\n",
    "adata_no_knn"
   ]
  },
  {
   "cell_type": "markdown",
   "metadata": {},
   "source": [
    "- Make a Milo class object for DA analysis"
   ]
  },
  {
   "cell_type": "code",
   "execution_count": 12,
   "metadata": {},
   "outputs": [
    {
     "name": "stdout",
     "output_type": "stream",
     "text": [
      "class: Milo \n",
      "dim: 27208 97573 \n",
      "metadata(5): cell_states_colors disease_colors group_colors\n",
      "  infected_status_colors infection_colors\n",
      "assays(1): X\n",
      "rownames(27208): A1BG A1BG-AS1 ... ZYX ZZEF1\n",
      "rowData names(2): mt ribo\n",
      "colnames(97573): 493638-ST07_CSE_CTRL-V1-uninfected\n",
      "  816750-ST07_CSE_CTRL-V1-uninfected ... 1638545-CSE03_IAV-V6-infected\n",
      "  163246-CSE03_IAV-V6-infected\n",
      "colData names(40): sex age ... viral_counts infected_status\n",
      "reducedDimNames(3): X_scANVI X_scVI UMAP\n",
      "mainExpName: NULL\n",
      "altExpNames(0):\n",
      "nhoods dimensions(2): 1 1\n",
      "nhoodCounts dimensions(2): 1 1\n",
      "nhoodDistances dimension(1): 0\n",
      "graph names(0):\n",
      "nhoodIndex names(1): 0\n",
      "nhoodExpression dimension(2): 1 1\n",
      "nhoodReducedDim names(0):\n",
      "nhoodGraph names(0):\n",
      "nhoodAdjacency dimension(2): 1 1\n"
     ]
    }
   ],
   "source": [
    "%%R \n",
    "milo <- Milo(adata_no_knn)\n",
    "milo"
   ]
  },
  {
   "cell_type": "markdown",
   "metadata": {},
   "source": [
    "- Add KNN graph"
   ]
  },
  {
   "cell_type": "code",
   "execution_count": 13,
   "metadata": {},
   "outputs": [],
   "source": [
    "knn_adjacency = adata.obsp[\"connectivities\"]"
   ]
  },
  {
   "cell_type": "code",
   "execution_count": 14,
   "metadata": {},
   "outputs": [],
   "source": [
    "%%R -i knn_adjacency\n",
    "\n",
    "milo_graph <- buildFromAdjacency(knn_adjacency, k = 50, is.binary = TRUE)\n",
    "graph(milo) <- miloR::graph(milo_graph)"
   ]
  },
  {
   "cell_type": "markdown",
   "metadata": {},
   "source": [
    "- Add PCA matrix from X_scANVI"
   ]
  },
  {
   "cell_type": "code",
   "execution_count": 15,
   "metadata": {},
   "outputs": [],
   "source": [
    "%%R -i pca_matrix\n",
    "\n",
    "reducedDims(milo)$PCA <- as.matrix(pca_matrix)"
   ]
  },
  {
   "cell_type": "markdown",
   "metadata": {},
   "source": [
    "### Run `milo` analysis "
   ]
  },
  {
   "cell_type": "code",
   "execution_count": 16,
   "metadata": {},
   "outputs": [
    {
     "name": "stderr",
     "output_type": "stream",
     "text": [
      "/var/folders/j1/l8rz6t7953z7vlpdytk0pbv40000gn/T/ipykernel_16408/3137461006.py:2: SettingWithCopyWarning: \n",
      "A value is trying to be set on a copy of a slice from a DataFrame\n",
      "\n",
      "See the caveats in the documentation: https://pandas.pydata.org/pandas-docs/stable/user_guide/indexing.html#returning-a-view-versus-a-copy\n",
      "  design_df.drop_duplicates(inplace = True)\n"
     ]
    },
    {
     "data": {
      "text/html": [
       "<div>\n",
       "<style scoped>\n",
       "    .dataframe tbody tr th:only-of-type {\n",
       "        vertical-align: middle;\n",
       "    }\n",
       "\n",
       "    .dataframe tbody tr th {\n",
       "        vertical-align: top;\n",
       "    }\n",
       "\n",
       "    .dataframe thead th {\n",
       "        text-align: right;\n",
       "    }\n",
       "</style>\n",
       "<table border=\"1\" class=\"dataframe\">\n",
       "  <thead>\n",
       "    <tr style=\"text-align: right;\">\n",
       "      <th></th>\n",
       "      <th>batch</th>\n",
       "      <th>donor</th>\n",
       "      <th>group</th>\n",
       "    </tr>\n",
       "    <tr>\n",
       "      <th>batch</th>\n",
       "      <th></th>\n",
       "      <th></th>\n",
       "      <th></th>\n",
       "    </tr>\n",
       "  </thead>\n",
       "  <tbody>\n",
       "    <tr>\n",
       "      <th>ST07_CSE_CTRL</th>\n",
       "      <td>ST07_CSE_CTRL</td>\n",
       "      <td>GNR-06</td>\n",
       "      <td>healthy_ctrl</td>\n",
       "    </tr>\n",
       "    <tr>\n",
       "      <th>CSE_06_CRTL</th>\n",
       "      <td>CSE_06_CRTL</td>\n",
       "      <td>GNR-07</td>\n",
       "      <td>healthy_ctrl</td>\n",
       "    </tr>\n",
       "    <tr>\n",
       "      <th>GER14_CRTL</th>\n",
       "      <td>GER14_CRTL</td>\n",
       "      <td>GER-14</td>\n",
       "      <td>healthy_ctrl</td>\n",
       "    </tr>\n",
       "    <tr>\n",
       "      <th>GnR08_CTRL</th>\n",
       "      <td>GnR08_CTRL</td>\n",
       "      <td>GNR-08</td>\n",
       "      <td>healthy_ctrl</td>\n",
       "    </tr>\n",
       "    <tr>\n",
       "      <th>GER12_CTRL</th>\n",
       "      <td>GER12_CTRL</td>\n",
       "      <td>GER-12</td>\n",
       "      <td>healthy_ctrl</td>\n",
       "    </tr>\n",
       "    <tr>\n",
       "      <th>GER02_CTRL</th>\n",
       "      <td>GER02_CTRL</td>\n",
       "      <td>GER-02</td>\n",
       "      <td>healthy_ctrl</td>\n",
       "    </tr>\n",
       "    <tr>\n",
       "      <th>ST09_CSE_IAV</th>\n",
       "      <td>ST09_CSE_IAV</td>\n",
       "      <td>CSE-07</td>\n",
       "      <td>copd_ctrl</td>\n",
       "    </tr>\n",
       "    <tr>\n",
       "      <th>GnR_07_CTRL</th>\n",
       "      <td>GnR_07_CTRL</td>\n",
       "      <td>CSE-06</td>\n",
       "      <td>copd_ctrl</td>\n",
       "    </tr>\n",
       "    <tr>\n",
       "      <th>CHE01_CTRL</th>\n",
       "      <td>CHE01_CTRL</td>\n",
       "      <td>CHE-01</td>\n",
       "      <td>copd_ctrl</td>\n",
       "    </tr>\n",
       "    <tr>\n",
       "      <th>CHE02_CTRL</th>\n",
       "      <td>CHE02_CTRL</td>\n",
       "      <td>CHE-02</td>\n",
       "      <td>copd_ctrl</td>\n",
       "    </tr>\n",
       "    <tr>\n",
       "      <th>CHE03_CTRL</th>\n",
       "      <td>CHE03_CTRL</td>\n",
       "      <td>CHE-03</td>\n",
       "      <td>copd_ctrl</td>\n",
       "    </tr>\n",
       "    <tr>\n",
       "      <th>CSE03_CTRL</th>\n",
       "      <td>CSE03_CTRL</td>\n",
       "      <td>CSE-03</td>\n",
       "      <td>copd_ctrl</td>\n",
       "    </tr>\n",
       "    <tr>\n",
       "      <th>ST08_GnR_CTRL</th>\n",
       "      <td>ST08_GnR_CTRL</td>\n",
       "      <td>GNR-06</td>\n",
       "      <td>healthy_iav</td>\n",
       "    </tr>\n",
       "    <tr>\n",
       "      <th>CSE_06_IAV</th>\n",
       "      <td>CSE_06_IAV</td>\n",
       "      <td>GNR-07</td>\n",
       "      <td>healthy_iav</td>\n",
       "    </tr>\n",
       "    <tr>\n",
       "      <th>GER14_IAV</th>\n",
       "      <td>GER14_IAV</td>\n",
       "      <td>GER-14</td>\n",
       "      <td>healthy_iav</td>\n",
       "    </tr>\n",
       "    <tr>\n",
       "      <th>GnR08_IAV</th>\n",
       "      <td>GnR08_IAV</td>\n",
       "      <td>GNR-08</td>\n",
       "      <td>healthy_iav</td>\n",
       "    </tr>\n",
       "    <tr>\n",
       "      <th>GER12_IAV</th>\n",
       "      <td>GER12_IAV</td>\n",
       "      <td>GER-12</td>\n",
       "      <td>healthy_iav</td>\n",
       "    </tr>\n",
       "    <tr>\n",
       "      <th>GER02_IAV</th>\n",
       "      <td>GER02_IAV</td>\n",
       "      <td>GER-02</td>\n",
       "      <td>healthy_iav</td>\n",
       "    </tr>\n",
       "    <tr>\n",
       "      <th>ST10_GnR_IAV</th>\n",
       "      <td>ST10_GnR_IAV</td>\n",
       "      <td>CSE-07</td>\n",
       "      <td>copd_iav</td>\n",
       "    </tr>\n",
       "    <tr>\n",
       "      <th>GnR_07_IAV</th>\n",
       "      <td>GnR_07_IAV</td>\n",
       "      <td>CSE-06</td>\n",
       "      <td>copd_iav</td>\n",
       "    </tr>\n",
       "    <tr>\n",
       "      <th>CHE01_IAV</th>\n",
       "      <td>CHE01_IAV</td>\n",
       "      <td>CHE-01</td>\n",
       "      <td>copd_iav</td>\n",
       "    </tr>\n",
       "    <tr>\n",
       "      <th>CHE02_IAV</th>\n",
       "      <td>CHE02_IAV</td>\n",
       "      <td>CHE-02</td>\n",
       "      <td>copd_iav</td>\n",
       "    </tr>\n",
       "    <tr>\n",
       "      <th>CHE03_IAV</th>\n",
       "      <td>CHE03_IAV</td>\n",
       "      <td>CHE-02</td>\n",
       "      <td>copd_iav</td>\n",
       "    </tr>\n",
       "    <tr>\n",
       "      <th>CSE03_IAV</th>\n",
       "      <td>CSE03_IAV</td>\n",
       "      <td>CSE-03</td>\n",
       "      <td>copd_iav</td>\n",
       "    </tr>\n",
       "  </tbody>\n",
       "</table>\n",
       "</div>"
      ],
      "text/plain": [
       "                       batch   donor         group\n",
       "batch                                             \n",
       "ST07_CSE_CTRL  ST07_CSE_CTRL  GNR-06  healthy_ctrl\n",
       "CSE_06_CRTL      CSE_06_CRTL  GNR-07  healthy_ctrl\n",
       "GER14_CRTL        GER14_CRTL  GER-14  healthy_ctrl\n",
       "GnR08_CTRL        GnR08_CTRL  GNR-08  healthy_ctrl\n",
       "GER12_CTRL        GER12_CTRL  GER-12  healthy_ctrl\n",
       "GER02_CTRL        GER02_CTRL  GER-02  healthy_ctrl\n",
       "ST09_CSE_IAV    ST09_CSE_IAV  CSE-07     copd_ctrl\n",
       "GnR_07_CTRL      GnR_07_CTRL  CSE-06     copd_ctrl\n",
       "CHE01_CTRL        CHE01_CTRL  CHE-01     copd_ctrl\n",
       "CHE02_CTRL        CHE02_CTRL  CHE-02     copd_ctrl\n",
       "CHE03_CTRL        CHE03_CTRL  CHE-03     copd_ctrl\n",
       "CSE03_CTRL        CSE03_CTRL  CSE-03     copd_ctrl\n",
       "ST08_GnR_CTRL  ST08_GnR_CTRL  GNR-06   healthy_iav\n",
       "CSE_06_IAV        CSE_06_IAV  GNR-07   healthy_iav\n",
       "GER14_IAV          GER14_IAV  GER-14   healthy_iav\n",
       "GnR08_IAV          GnR08_IAV  GNR-08   healthy_iav\n",
       "GER12_IAV          GER12_IAV  GER-12   healthy_iav\n",
       "GER02_IAV          GER02_IAV  GER-02   healthy_iav\n",
       "ST10_GnR_IAV    ST10_GnR_IAV  CSE-07      copd_iav\n",
       "GnR_07_IAV        GnR_07_IAV  CSE-06      copd_iav\n",
       "CHE01_IAV          CHE01_IAV  CHE-01      copd_iav\n",
       "CHE02_IAV          CHE02_IAV  CHE-02      copd_iav\n",
       "CHE03_IAV          CHE03_IAV  CHE-02      copd_iav\n",
       "CSE03_IAV          CSE03_IAV  CSE-03      copd_iav"
      ]
     },
     "execution_count": 16,
     "metadata": {},
     "output_type": "execute_result"
    }
   ],
   "source": [
    "design_df = adata.obs[[\"batch\",\"donor\", \"group\"]]\n",
    "design_df.drop_duplicates(inplace = True)\n",
    "design_df.index = design_df['batch']\n",
    "design_df"
   ]
  },
  {
   "cell_type": "code",
   "execution_count": 17,
   "metadata": {},
   "outputs": [],
   "source": [
    "%%R -i design_df -o DA_results\n",
    "\n",
    "## Define neighbourhoods\n",
    "milo <- makeNhoods(milo, prop = 0.1, k = 20, d = 30, refined = TRUE)\n",
    "\n",
    "## Count cells in neighbourhoods\n",
    "milo <- countCells(milo, meta.data = data.frame(colData(milo)), sample = \"batch\")\n",
    "\n",
    "## Calculate distances between cells in neighbourhoods for spatial FDR correction\n",
    "milo <- calcNhoodDistance(milo, d = 30)\n",
    "\n",
    "## Test for differential abundance\n",
    "DA_results <- testNhoods(milo, design = ~ group, design.df = design_df)"
   ]
  },
  {
   "cell_type": "markdown",
   "metadata": {},
   "source": [
    "### Explore neighbourhoods using a volcano plot\n",
    "\n",
    "- In the above dataframe, each row represents a neighbourhood (NOT a cell) and the log-Fold Change and adjusted p-value for differential abundance between stages are reported. We can start exploring the test results with a volcano plot."
   ]
  },
  {
   "cell_type": "code",
   "execution_count": null,
   "metadata": {},
   "outputs": [],
   "source": [
    "DA_results"
   ]
  },
  {
   "cell_type": "code",
   "execution_count": null,
   "metadata": {},
   "outputs": [],
   "source": [
    "plt.plot(DA_results.logFC, -np.log10(DA_results.SpatialFDR), '.')\n",
    "plt.xlabel(\"log-Fold Change\")\n",
    "plt.ylabel(\"- log10(Spatial FDR)\")"
   ]
  },
  {
   "cell_type": "markdown",
   "metadata": {},
   "source": [
    "### Visualizing results from Milo analysis"
   ]
  },
  {
   "cell_type": "code",
   "execution_count": null,
   "metadata": {},
   "outputs": [],
   "source": [
    "%%R\n",
    "milo <- buildNhoodGraph(milo)"
   ]
  },
  {
   "cell_type": "code",
   "execution_count": null,
   "metadata": {},
   "outputs": [],
   "source": [
    "%%R -w 1000 -h 800\n",
    "plotNhoodGraphDA(milo, DA_results, alpha = 0.05)"
   ]
  },
  {
   "cell_type": "code",
   "execution_count": null,
   "metadata": {},
   "outputs": [],
   "source": []
  }
 ],
 "metadata": {
  "kernelspec": {
   "display_name": "milopy",
   "language": "python",
   "name": "python3"
  },
  "language_info": {
   "codemirror_mode": {
    "name": "ipython",
    "version": 3
   },
   "file_extension": ".py",
   "mimetype": "text/x-python",
   "name": "python",
   "nbconvert_exporter": "python",
   "pygments_lexer": "ipython3",
   "version": "3.9.18"
  }
 },
 "nbformat": 4,
 "nbformat_minor": 2
}
