{
 "cells": [
  {
   "cell_type": "markdown",
   "metadata": {},
   "source": [
    "\n",
    "Compositional analysis of the COPD-IAV scRNA dataset using scCoda (pertpy):\n",
    "- Developed by: Christian Eger\n",
    "- Würzburg Institute for Systems Immunology - Faculty of Medicine - Julius Maximilian Universität Würzburg\n",
    "- Created on: 231214\n",
    "- Last modified: 231215<br>\n",
    "6 Patients with and 6 without chronic obstructive pulmonary disease (COPD).\n",
    "Epithelial cells extracted with a lung wash and exposed to IAV (Control and IAV n=3 for both COPD and healthy patients)\n",
    "--> scRNA-seq and cell types annotated"
   ]
  },
  {
   "cell_type": "markdown",
   "metadata": {},
   "source": [
    "### Preparation of the mamba environment"
   ]
  },
  {
   "cell_type": "markdown",
   "metadata": {},
   "source": [
    "Created mamba environment in /Users/egerc/miniforge3/envs/pertpy-env  \n",
    "mamba create -n pertpy-env python=3.10  \n",
    "mamba activate pertpy-env<br>  \n",
    "Manual git installation of pertpy necessary due to Apple silicon  \n",
    "git clone https://github.com/theislab/pertpy.git  \n",
    "cd pertpy  \n",
    "pip install .  "
   ]
  },
  {
   "cell_type": "code",
   "execution_count": 4,
   "metadata": {},
   "outputs": [],
   "source": [
    "import warnings\n",
    "\n",
    "import pandas as pd\n",
    "\n",
    "warnings.filterwarnings(\"ignore\")\n",
    "warnings.simplefilter(\"ignore\")\n",
    "\n",
    "import scanpy as sc\n",
    "import numpy as np\n",
    "#import tensorflow as tf\n",
    "\n",
    "import matplotlib.pyplot as plt\n",
    "import matplotlib\n",
    "import seaborn as sns\n",
    "import altair as alt\n",
    "import pertpy as pt\n"
   ]
  },
  {
   "cell_type": "code",
   "execution_count": 5,
   "metadata": {},
   "outputs": [
    {
     "name": "stdout",
     "output_type": "stream",
     "text": [
      "-----\n",
      "anndata     0.10.3\n",
      "scanpy      1.9.6\n",
      "-----\n",
      "PIL                         10.1.0\n",
      "absl                        NA\n",
      "adjustText                  0.8\n",
      "aiohttp                     3.9.1\n",
      "aiosignal                   1.3.1\n",
      "altair                      5.2.0\n",
      "annotated_types             0.6.0\n",
      "anyio                       NA\n",
      "appnope                     0.1.3\n",
      "arrow                       1.3.0\n",
      "arviz                       0.16.1\n",
      "asttokens                   NA\n",
      "async_timeout               4.0.3\n",
      "attr                        23.1.0\n",
      "attrs                       23.1.0\n",
      "backoff                     2.2.1\n",
      "bs4                         4.12.2\n",
      "certifi                     2023.11.17\n",
      "cffi                        1.16.0\n",
      "chardet                     5.2.0\n",
      "charset_normalizer          3.3.2\n",
      "chex                        0.1.7\n",
      "click                       8.1.7\n",
      "colorama                    0.4.6\n",
      "comm                        0.1.4\n",
      "contextlib2                 NA\n",
      "croniter                    NA\n",
      "custom_inherit              2.4.1\n",
      "cycler                      0.12.1\n",
      "cython_runtime              NA\n",
      "dateutil                    2.8.2\n",
      "debugpy                     1.8.0\n",
      "decorator                   5.1.1\n",
      "decoupler                   1.5.0\n",
      "deepdiff                    6.7.1\n",
      "docrep                      0.3.2\n",
      "etils                       1.6.0\n",
      "exceptiongroup              1.2.0\n",
      "executing                   2.0.1\n",
      "fastapi                     0.105.0\n",
      "flax                        0.7.5\n",
      "frozenlist                  1.4.0\n",
      "fsspec                      2023.12.2\n",
      "h5py                        3.10.0\n",
      "idna                        3.6\n",
      "igraph                      0.10.8\n",
      "importlib_resources         NA\n",
      "ipykernel                   6.26.0\n",
      "jax                         0.4.23\n",
      "jaxlib                      0.4.23\n",
      "jaxopt                      NA\n",
      "jedi                        0.19.1\n",
      "jinja2                      3.1.2\n",
      "joblib                      1.3.2\n",
      "jsonschema                  4.20.0\n",
      "jsonschema_specifications   NA\n",
      "kiwisolver                  1.4.5\n",
      "leidenalg                   0.10.1\n",
      "lightning                   2.0.9.post0\n",
      "lightning_cloud             0.5.57\n",
      "lightning_fabric            2.1.2\n",
      "lightning_utilities         0.10.0\n",
      "llvmlite                    0.41.1\n",
      "markupsafe                  2.1.3\n",
      "matplotlib                  3.8.2\n",
      "ml_collections              NA\n",
      "ml_dtypes                   0.3.1\n",
      "mpl_toolkits                NA\n",
      "mpmath                      1.3.0\n",
      "msgpack                     1.0.7\n",
      "mudata                      0.2.3\n",
      "multidict                   6.0.4\n",
      "multipart                   0.0.6\n",
      "multipledispatch            0.6.0\n",
      "natsort                     8.4.0\n",
      "numba                       0.58.1\n",
      "numpy                       1.26.2\n",
      "numpyro                     0.13.2\n",
      "opt_einsum                  v3.3.0\n",
      "optax                       0.1.7\n",
      "ordered_set                 4.1.0\n",
      "ott                         0.4.4\n",
      "packaging                   23.2\n",
      "pandas                      2.1.4\n",
      "parso                       0.8.3\n",
      "patsy                       0.5.4\n",
      "pertpy                      0.7.0\n",
      "pexpect                     4.8.0\n",
      "pickleshare                 0.7.5\n",
      "pkg_resources               NA\n",
      "platformdirs                4.1.0\n",
      "ply                         3.11\n",
      "png                         0.20220715.0\n",
      "prompt_toolkit              3.0.42\n",
      "psutil                      5.9.5\n",
      "ptyprocess                  0.7.0\n",
      "pure_eval                   0.2.2\n",
      "pycparser                   2.21\n",
      "pydantic                    2.1.1\n",
      "pydantic_core               2.4.0\n",
      "pydev_ipython               NA\n",
      "pydevconsole                NA\n",
      "pydevd                      2.9.5\n",
      "pydevd_file_utils           NA\n",
      "pydevd_plugins              NA\n",
      "pydevd_tracing              NA\n",
      "pygments                    2.17.2\n",
      "pyomo                       6.7.0\n",
      "pyparsing                   3.1.1\n",
      "pyro                        1.8.6\n",
      "pytorch_lightning           2.1.2\n",
      "pytz                        2023.3.post1\n",
      "referencing                 NA\n",
      "reportlab                   4.0.8\n",
      "requests                    2.31.0\n",
      "rich                        NA\n",
      "rpds                        NA\n",
      "rpy2                        3.5.11\n",
      "scipy                       1.11.4\n",
      "scvi                        1.0.4\n",
      "seaborn                     0.12.2\n",
      "session_info                1.0.0\n",
      "six                         1.16.0\n",
      "sklearn                     1.3.2\n",
      "skmisc                      0.3.0\n",
      "sniffio                     1.3.0\n",
      "soupsieve                   2.5\n",
      "sparse                      0.14.0\n",
      "sparsecca                   0.3.1\n",
      "stack_data                  0.6.2\n",
      "starlette                   0.27.0\n",
      "statsmodels                 0.14.0\n",
      "sympy                       1.12\n",
      "texttable                   1.7.0\n",
      "threadpoolctl               3.2.0\n",
      "toolz                       0.12.0\n",
      "torch                       2.1.1\n",
      "torchgen                    NA\n",
      "torchmetrics                1.2.1\n",
      "tornado                     6.3.3\n",
      "toyplot                     1.0.3\n",
      "toytree                     2.0.1\n",
      "tqdm                        4.66.1\n",
      "traitlets                   5.14.0\n",
      "tree                        0.1.8\n",
      "typing_extensions           NA\n",
      "tzlocal                     NA\n",
      "urllib3                     2.0.7\n",
      "uvicorn                     0.24.0.post1\n",
      "wcwidth                     0.2.12\n",
      "websocket                   1.7.0\n",
      "websockets                  12.0\n",
      "xarray                      2023.12.0\n",
      "xarray_einstats             0.6.0\n",
      "yaml                        6.0.1\n",
      "yarl                        1.9.4\n",
      "zmq                         25.1.2\n",
      "zoneinfo                    NA\n",
      "-----\n",
      "IPython             8.18.1\n",
      "jupyter_client      8.6.0\n",
      "jupyter_core        5.5.0\n",
      "-----\n",
      "Python 3.10.13 | packaged by conda-forge | (main, Oct 26 2023, 18:09:17) [Clang 16.0.6 ]\n",
      "macOS-14.2-arm64-arm-64bit\n",
      "-----\n",
      "Session information updated at 2023-12-14 22:09\n"
     ]
    }
   ],
   "source": [
    "sc.logging.print_versions()"
   ]
  },
  {
   "cell_type": "markdown",
   "metadata": {},
   "source": [
    "### Preparation of AnnData object\n",
    "\n",
    "1. Creation of adata from h5ad file\n",
    "2. Subsetting the adata dataframe to the cell_compartment of choice"
   ]
  },
  {
   "cell_type": "code",
   "execution_count": 6,
   "metadata": {},
   "outputs": [
    {
     "name": "stdout",
     "output_type": "stream",
     "text": [
      "AnnData object with n_obs × n_vars = 97573 × 27208\n",
      "    obs: 'sex', 'age', 'ethnicity', 'PaCO2', 'donor', 'infection', 'disease', 'SMK', 'illumina_stimunr', 'bd_rhapsody', 'n_genes', 'doublet_scores', 'predicted_doublets', 'batch', 'n_genes_by_counts', 'total_counts', 'total_counts_mt', 'pct_counts_mt', 'total_counts_ribo', 'pct_counts_ribo', 'percent_mt2', 'n_counts', 'percent_chrY', 'XIST-counts', 'S_score', 'G2M_score', 'condition', 'sample_group', 'IAV_score', 'group', 'Viral_score', 'cell_type', 'cell_states', 'leiden', 'cell_compartment', 'seed_labels', '_scvi_batch', '_scvi_labels', 'C_scANVI'\n",
      "    var: 'mt', 'ribo'\n",
      "    obsm: 'X_scANVI', 'X_scVI', 'X_umap'\n"
     ]
    }
   ],
   "source": [
    "adata = sc.read_h5ad(\"Marburg_cell_states_locked_scANVI_ctl230901.raw.h5ad\")\n",
    "print(adata)"
   ]
  },
  {
   "cell_type": "code",
   "execution_count": 7,
   "metadata": {},
   "outputs": [
    {
     "data": {
      "text/plain": [
       "['Ciliated',\n",
       " 'Club',\n",
       " 'Deuterosomal',\n",
       " 'Unknown',\n",
       " 'Goblet',\n",
       " 'Basal',\n",
       " 'Ionocyte',\n",
       " 'Secretory',\n",
       " 'SupraB',\n",
       " 'Epi']"
      ]
     },
     "execution_count": 7,
     "metadata": {},
     "output_type": "execute_result"
    }
   ],
   "source": [
    "adata.obs.cell_compartment.unique().tolist()\n",
    "#prints a list of possible cell_compartments to subset adata to\n"
   ]
  },
  {
   "cell_type": "code",
   "execution_count": 8,
   "metadata": {},
   "outputs": [
    {
     "data": {
      "text/plain": [
       "View of AnnData object with n_obs × n_vars = 8434 × 27208\n",
       "    obs: 'sex', 'age', 'ethnicity', 'PaCO2', 'donor', 'infection', 'disease', 'SMK', 'illumina_stimunr', 'bd_rhapsody', 'n_genes', 'doublet_scores', 'predicted_doublets', 'batch', 'n_genes_by_counts', 'total_counts', 'total_counts_mt', 'pct_counts_mt', 'total_counts_ribo', 'pct_counts_ribo', 'percent_mt2', 'n_counts', 'percent_chrY', 'XIST-counts', 'S_score', 'G2M_score', 'condition', 'sample_group', 'IAV_score', 'group', 'Viral_score', 'cell_type', 'cell_states', 'leiden', 'cell_compartment', 'seed_labels', '_scvi_batch', '_scvi_labels', 'C_scANVI'\n",
       "    var: 'mt', 'ribo'\n",
       "    obsm: 'X_scANVI', 'X_scVI', 'X_umap'"
      ]
     },
     "execution_count": 8,
     "metadata": {},
     "output_type": "execute_result"
    }
   ],
   "source": [
    "\n",
    "adata_cell_compartment = adata[adata.obs['cell_compartment'].isin(['Club'])]\n",
    "adata_cell_compartment\n"
   ]
  },
  {
   "cell_type": "code",
   "execution_count": 9,
   "metadata": {},
   "outputs": [
    {
     "data": {
      "text/html": [
       "<pre>MuData object with n_obs × n_vars = 8458 × 27214\n",
       "  2 modalities\n",
       "    rna:\t8434 x 27208\n",
       "      obs:\t&#x27;sex&#x27;, &#x27;age&#x27;, &#x27;ethnicity&#x27;, &#x27;PaCO2&#x27;, &#x27;donor&#x27;, &#x27;infection&#x27;, &#x27;disease&#x27;, &#x27;SMK&#x27;, &#x27;illumina_stimunr&#x27;, &#x27;bd_rhapsody&#x27;, &#x27;n_genes&#x27;, &#x27;doublet_scores&#x27;, &#x27;predicted_doublets&#x27;, &#x27;batch&#x27;, &#x27;n_genes_by_counts&#x27;, &#x27;total_counts&#x27;, &#x27;total_counts_mt&#x27;, &#x27;pct_counts_mt&#x27;, &#x27;total_counts_ribo&#x27;, &#x27;pct_counts_ribo&#x27;, &#x27;percent_mt2&#x27;, &#x27;n_counts&#x27;, &#x27;percent_chrY&#x27;, &#x27;XIST-counts&#x27;, &#x27;S_score&#x27;, &#x27;G2M_score&#x27;, &#x27;condition&#x27;, &#x27;sample_group&#x27;, &#x27;IAV_score&#x27;, &#x27;group&#x27;, &#x27;Viral_score&#x27;, &#x27;cell_type&#x27;, &#x27;cell_states&#x27;, &#x27;leiden&#x27;, &#x27;cell_compartment&#x27;, &#x27;seed_labels&#x27;, &#x27;_scvi_batch&#x27;, &#x27;_scvi_labels&#x27;, &#x27;C_scANVI&#x27;, &#x27;scCODA_sample_id&#x27;\n",
       "      var:\t&#x27;mt&#x27;, &#x27;ribo&#x27;\n",
       "      obsm:\t&#x27;X_scANVI&#x27;, &#x27;X_scVI&#x27;, &#x27;X_umap&#x27;\n",
       "    coda:\t24 x 6\n",
       "      obs:\t&#x27;infection&#x27;, &#x27;disease&#x27;, &#x27;group&#x27;, &#x27;batch&#x27;\n",
       "      var:\t&#x27;n_cells&#x27;</pre>"
      ],
      "text/plain": [
       "MuData object with n_obs × n_vars = 8458 × 27214\n",
       "  2 modalities\n",
       "    rna:\t8434 x 27208\n",
       "      obs:\t'sex', 'age', 'ethnicity', 'PaCO2', 'donor', 'infection', 'disease', 'SMK', 'illumina_stimunr', 'bd_rhapsody', 'n_genes', 'doublet_scores', 'predicted_doublets', 'batch', 'n_genes_by_counts', 'total_counts', 'total_counts_mt', 'pct_counts_mt', 'total_counts_ribo', 'pct_counts_ribo', 'percent_mt2', 'n_counts', 'percent_chrY', 'XIST-counts', 'S_score', 'G2M_score', 'condition', 'sample_group', 'IAV_score', 'group', 'Viral_score', 'cell_type', 'cell_states', 'leiden', 'cell_compartment', 'seed_labels', '_scvi_batch', '_scvi_labels', 'C_scANVI', 'scCODA_sample_id'\n",
       "      var:\t'mt', 'ribo'\n",
       "      obsm:\t'X_scANVI', 'X_scVI', 'X_umap'\n",
       "    coda:\t24 x 6\n",
       "      obs:\t'infection', 'disease', 'group', 'batch'\n",
       "      var:\t'n_cells'"
      ]
     },
     "execution_count": 9,
     "metadata": {},
     "output_type": "execute_result"
    }
   ],
   "source": [
    "sccoda_model = pt.tl.Sccoda()\n",
    "sccoda_data = sccoda_model.load(\n",
    "    adata_cell_compartment,\n",
    "    type=\"cell_level\",\n",
    "    generate_sample_level=True,\n",
    "    cell_type_identifier=\"cell_states\",\n",
    "    sample_identifier=\"batch\",\n",
    "    covariate_obs=[\"infection\", \"disease\", \"group\"],\n",
    ")\n",
    "# https://pertpy.readthedocs.io/en/latest/usage/tools/pertpy.tools.Sccoda.html#pertpy.tools.Sccoda.load\n",
    "sccoda_data"
   ]
  },
  {
   "cell_type": "code",
   "execution_count": 10,
   "metadata": {},
   "outputs": [
    {
     "data": {
      "image/png": "[encoded data removed]",
      "text/plain": [
       "<Figure size 1200x600 with 1 Axes>"
      ]
     },
     "metadata": {},
     "output_type": "display_data"
    }
   ],
   "source": [
    "pt.pl.coda.boxplots(\n",
    "    sccoda_data,\n",
    "    modality_key=\"coda\",\n",
    "    feature_name=\"group\",\n",
    "    y_scale=\"count\",\n",
    "    plot_facets=False,\n",
    "    figsize=(12, 6),\n",
    "    dpi=100,\n",
    "    cmap=\"Spectral\",\n",
    "    add_dots=True,\n",
    "    show_legend=\"True\",\n",
    "    level_order=[],\n",
    "    args_swarmplot={\"palette\": [\"blue\"]},\n",
    "    args_boxplot={\"order\": None,\n",
    "                  \"orient\": \"v\",\n",
    "                  \"color\": \"green\",\n",
    "                  \"saturation\": 1,\n",
    "                  \"dodge\": True,\n",
    "                  \"width\": 1,\n",
    "                  \"linewidth\": 1.6}\n",
    ")\n",
    "#Parameters: https://pertpy.readthedocs.io/en/latest/usage/tools/pertpy.tools.Sccoda.html#pertpy.tools.Sccoda.plot_boxplots\n",
    "\n",
    "plt.show()\n"
   ]
  },
  {
   "cell_type": "code",
   "execution_count": 8,
   "metadata": {},
   "outputs": [
    {
     "data": {
      "image/png": "[encoded data removed]",
      "text/plain": [
       "<Figure size 400x200 with 1 Axes>"
      ]
     },
     "metadata": {},
     "output_type": "display_data"
    }
   ],
   "source": [
    "pt.pl.coda.stacked_barplot(\n",
    "    sccoda_data, \n",
    "    modality_key=\"coda\",\n",
    "    feature_name=\"group\", \n",
    "    figsize=(4, 2)\n",
    ")\n",
    "plt.show()"
   ]
  },
  {
   "cell_type": "markdown",
   "metadata": {},
   "source": [
    "### Data modelling using ScCoda"
   ]
  },
  {
   "cell_type": "markdown",
   "metadata": {},
   "source": [
    "Function sccoda.run_nuts() broken at the moment\n",
    "https://github.com/theislab/pertpy/issues/454\n",
    "Downgrading Jax didn't solve the issue for me."
   ]
  },
  {
   "cell_type": "markdown",
   "metadata": {},
   "source": [
    "--> solution: completely new environment, install jax=0.4.20 prior to installing pertpy"
   ]
  },
  {
   "cell_type": "code",
   "execution_count": 11,
   "metadata": {},
   "outputs": [
    {
     "data": {
      "text/html": [
       "<pre style=\"white-space:pre;overflow-x:auto;line-height:normal;font-family:Menlo,'DejaVu Sans Mono',consolas,'Courier New',monospace\"><span style=\"color: #000080; text-decoration-color: #000080; font-weight: bold\">Automatic reference selection! Reference cell type set to TCN1+Club</span>\n",
       "</pre>\n"
      ],
      "text/plain": [
       "\u001b[1;34mAutomatic reference selection! Reference cell type set to TCN1+Club\u001b[0m\n"
      ]
     },
     "metadata": {},
     "output_type": "display_data"
    },
    {
     "data": {
      "text/html": [
       "<pre style=\"white-space:pre;overflow-x:auto;line-height:normal;font-family:Menlo,'DejaVu Sans Mono',consolas,'Courier New',monospace\">Zero counts encountered in data! Added a pseudocount of <span style=\"color: #008080; text-decoration-color: #008080; font-weight: bold\">0.5</span>.\n",
       "</pre>\n"
      ],
      "text/plain": [
       "Zero counts encountered in data! Added a pseudocount of \u001b[1;36m0.5\u001b[0m.\n"
      ]
     },
     "metadata": {},
     "output_type": "display_data"
    },
    {
     "name": "stderr",
     "output_type": "stream",
     "text": [
      "sample: 100%|██████████| 11000/11000 [00:40<00:00, 271.31it/s, 255 steps of size 1.95e-02. acc. prob=0.75]\n"
     ]
    }
   ],
   "source": [
    "sccoda_data = sccoda_model.prepare(\n",
    "    sccoda_data,\n",
    "    modality_key=\"coda\",\n",
    "    formula=\"group\",\n",
    "    reference_cell_type=\"automatic\",\n",
    ")\n",
    "sccoda_model.run_nuts(sccoda_data, modality_key=\"coda\", rng_key=1234)"
   ]
  },
  {
   "cell_type": "code",
   "execution_count": 10,
   "metadata": {},
   "outputs": [
    {
     "data": {
      "text/html": [
       "<div>\n",
       "<style scoped>\n",
       "    .dataframe tbody tr th:only-of-type {\n",
       "        vertical-align: middle;\n",
       "    }\n",
       "\n",
       "    .dataframe tbody tr th {\n",
       "        vertical-align: top;\n",
       "    }\n",
       "\n",
       "    .dataframe thead th {\n",
       "        text-align: right;\n",
       "    }\n",
       "</style>\n",
       "<table border=\"1\" class=\"dataframe\">\n",
       "  <thead>\n",
       "    <tr style=\"text-align: right;\">\n",
       "      <th></th>\n",
       "      <th>Final Parameter</th>\n",
       "      <th>HDI 3%</th>\n",
       "      <th>HDI 97%</th>\n",
       "      <th>SD</th>\n",
       "      <th>Inclusion probability</th>\n",
       "      <th>Expected Sample</th>\n",
       "      <th>log2-fold change</th>\n",
       "    </tr>\n",
       "    <tr>\n",
       "      <th>Cell Type</th>\n",
       "      <th></th>\n",
       "      <th></th>\n",
       "      <th></th>\n",
       "      <th></th>\n",
       "      <th></th>\n",
       "      <th></th>\n",
       "      <th></th>\n",
       "    </tr>\n",
       "  </thead>\n",
       "  <tbody>\n",
       "    <tr>\n",
       "      <th>DHRS9+Club</th>\n",
       "      <td>0.000000</td>\n",
       "      <td>-0.066</td>\n",
       "      <td>1.700</td>\n",
       "      <td>0.530</td>\n",
       "      <td>0.5850</td>\n",
       "      <td>48.192266</td>\n",
       "      <td>1.725107</td>\n",
       "    </tr>\n",
       "    <tr>\n",
       "      <th>ImmuneClub</th>\n",
       "      <td>-2.339067</td>\n",
       "      <td>-3.214</td>\n",
       "      <td>-1.498</td>\n",
       "      <td>0.447</td>\n",
       "      <td>1.0000</td>\n",
       "      <td>86.585424</td>\n",
       "      <td>-1.649453</td>\n",
       "    </tr>\n",
       "    <tr>\n",
       "      <th>MHCII+Club</th>\n",
       "      <td>0.000000</td>\n",
       "      <td>-0.117</td>\n",
       "      <td>1.604</td>\n",
       "      <td>0.500</td>\n",
       "      <td>0.5645</td>\n",
       "      <td>56.554149</td>\n",
       "      <td>1.725107</td>\n",
       "    </tr>\n",
       "    <tr>\n",
       "      <th>SCGB1+KRT5-FOXA1+iav_Club</th>\n",
       "      <td>0.000000</td>\n",
       "      <td>-0.475</td>\n",
       "      <td>1.234</td>\n",
       "      <td>0.331</td>\n",
       "      <td>0.3814</td>\n",
       "      <td>39.495967</td>\n",
       "      <td>1.725107</td>\n",
       "    </tr>\n",
       "    <tr>\n",
       "      <th>TCN1+Club</th>\n",
       "      <td>0.000000</td>\n",
       "      <td>0.000</td>\n",
       "      <td>0.000</td>\n",
       "      <td>0.000</td>\n",
       "      <td>0.0000</td>\n",
       "      <td>81.630140</td>\n",
       "      <td>1.725107</td>\n",
       "    </tr>\n",
       "    <tr>\n",
       "      <th>iav-lip_Club</th>\n",
       "      <td>0.000000</td>\n",
       "      <td>-0.466</td>\n",
       "      <td>1.259</td>\n",
       "      <td>0.312</td>\n",
       "      <td>0.3606</td>\n",
       "      <td>39.417054</td>\n",
       "      <td>1.725107</td>\n",
       "    </tr>\n",
       "  </tbody>\n",
       "</table>\n",
       "</div>"
      ],
      "text/plain": [
       "                           Final Parameter  HDI 3%  HDI 97%     SD  \\\n",
       "Cell Type                                                            \n",
       "DHRS9+Club                        0.000000  -0.066    1.700  0.530   \n",
       "ImmuneClub                       -2.339067  -3.214   -1.498  0.447   \n",
       "MHCII+Club                        0.000000  -0.117    1.604  0.500   \n",
       "SCGB1+KRT5-FOXA1+iav_Club         0.000000  -0.475    1.234  0.331   \n",
       "TCN1+Club                         0.000000   0.000    0.000  0.000   \n",
       "iav-lip_Club                      0.000000  -0.466    1.259  0.312   \n",
       "\n",
       "                           Inclusion probability  Expected Sample  \\\n",
       "Cell Type                                                           \n",
       "DHRS9+Club                                0.5850        48.192266   \n",
       "ImmuneClub                                1.0000        86.585424   \n",
       "MHCII+Club                                0.5645        56.554149   \n",
       "SCGB1+KRT5-FOXA1+iav_Club                 0.3814        39.495967   \n",
       "TCN1+Club                                 0.0000        81.630140   \n",
       "iav-lip_Club                              0.3606        39.417054   \n",
       "\n",
       "                           log2-fold change  \n",
       "Cell Type                                    \n",
       "DHRS9+Club                         1.725107  \n",
       "ImmuneClub                        -1.649453  \n",
       "MHCII+Club                         1.725107  \n",
       "SCGB1+KRT5-FOXA1+iav_Club          1.725107  \n",
       "TCN1+Club                          1.725107  \n",
       "iav-lip_Club                       1.725107  "
      ]
     },
     "execution_count": 10,
     "metadata": {},
     "output_type": "execute_result"
    }
   ],
   "source": [
    "sccoda_data[\"coda\"].varm[\"effect_df_group[T.healthy_iav]\"]"
   ]
  },
  {
   "cell_type": "code",
   "execution_count": 11,
   "metadata": {},
   "outputs": [
    {
     "data": {
      "text/plain": [
       "AxisArrays with keys: intercept_df, effect_df_group[T.healthy_iav], effect_df_group[T.copd_ctrl], effect_df_group[T.copd_iav]"
      ]
     },
     "execution_count": 11,
     "metadata": {},
     "output_type": "execute_result"
    }
   ],
   "source": [
    "sccoda_data[\"coda\"].varm"
   ]
  },
  {
   "cell_type": "code",
   "execution_count": 12,
   "metadata": {},
   "outputs": [
    {
     "data": {
      "text/html": [
       "<pre>MuData object with n_obs × n_vars = 8458 × 27214\n",
       "  2 modalities\n",
       "    rna:\t8434 x 27208\n",
       "      obs:\t&#x27;sex&#x27;, &#x27;age&#x27;, &#x27;ethnicity&#x27;, &#x27;PaCO2&#x27;, &#x27;donor&#x27;, &#x27;infection&#x27;, &#x27;disease&#x27;, &#x27;SMK&#x27;, &#x27;illumina_stimunr&#x27;, &#x27;bd_rhapsody&#x27;, &#x27;n_genes&#x27;, &#x27;doublet_scores&#x27;, &#x27;predicted_doublets&#x27;, &#x27;batch&#x27;, &#x27;n_genes_by_counts&#x27;, &#x27;total_counts&#x27;, &#x27;total_counts_mt&#x27;, &#x27;pct_counts_mt&#x27;, &#x27;total_counts_ribo&#x27;, &#x27;pct_counts_ribo&#x27;, &#x27;percent_mt2&#x27;, &#x27;n_counts&#x27;, &#x27;percent_chrY&#x27;, &#x27;XIST-counts&#x27;, &#x27;S_score&#x27;, &#x27;G2M_score&#x27;, &#x27;condition&#x27;, &#x27;sample_group&#x27;, &#x27;IAV_score&#x27;, &#x27;group&#x27;, &#x27;Viral_score&#x27;, &#x27;cell_type&#x27;, &#x27;cell_states&#x27;, &#x27;leiden&#x27;, &#x27;cell_compartment&#x27;, &#x27;seed_labels&#x27;, &#x27;_scvi_batch&#x27;, &#x27;_scvi_labels&#x27;, &#x27;C_scANVI&#x27;, &#x27;scCODA_sample_id&#x27;\n",
       "      var:\t&#x27;mt&#x27;, &#x27;ribo&#x27;\n",
       "      obsm:\t&#x27;X_scANVI&#x27;, &#x27;X_scVI&#x27;, &#x27;X_umap&#x27;\n",
       "    coda:\t24 x 6\n",
       "      obs:\t&#x27;infection&#x27;, &#x27;disease&#x27;, &#x27;group&#x27;, &#x27;batch&#x27;\n",
       "      var:\t&#x27;n_cells&#x27;\n",
       "      uns:\t&#x27;scCODA_params&#x27;\n",
       "      obsm:\t&#x27;covariate_matrix&#x27;, &#x27;sample_counts&#x27;\n",
       "      varm:\t&#x27;intercept_df&#x27;, &#x27;effect_df_group[T.healthy_iav]&#x27;, &#x27;effect_df_group[T.copd_ctrl]&#x27;, &#x27;effect_df_group[T.copd_iav]&#x27;</pre>"
      ],
      "text/plain": [
       "MuData object with n_obs × n_vars = 8458 × 27214\n",
       "  2 modalities\n",
       "    rna:\t8434 x 27208\n",
       "      obs:\t'sex', 'age', 'ethnicity', 'PaCO2', 'donor', 'infection', 'disease', 'SMK', 'illumina_stimunr', 'bd_rhapsody', 'n_genes', 'doublet_scores', 'predicted_doublets', 'batch', 'n_genes_by_counts', 'total_counts', 'total_counts_mt', 'pct_counts_mt', 'total_counts_ribo', 'pct_counts_ribo', 'percent_mt2', 'n_counts', 'percent_chrY', 'XIST-counts', 'S_score', 'G2M_score', 'condition', 'sample_group', 'IAV_score', 'group', 'Viral_score', 'cell_type', 'cell_states', 'leiden', 'cell_compartment', 'seed_labels', '_scvi_batch', '_scvi_labels', 'C_scANVI', 'scCODA_sample_id'\n",
       "      var:\t'mt', 'ribo'\n",
       "      obsm:\t'X_scANVI', 'X_scVI', 'X_umap'\n",
       "    coda:\t24 x 6\n",
       "      obs:\t'infection', 'disease', 'group', 'batch'\n",
       "      var:\t'n_cells'\n",
       "      uns:\t'scCODA_params'\n",
       "      obsm:\t'covariate_matrix', 'sample_counts'\n",
       "      varm:\t'intercept_df', 'effect_df_group[T.healthy_iav]', 'effect_df_group[T.copd_ctrl]', 'effect_df_group[T.copd_iav]'"
      ]
     },
     "execution_count": 12,
     "metadata": {},
     "output_type": "execute_result"
    }
   ],
   "source": [
    "sccoda_data"
   ]
  },
  {
   "cell_type": "code",
   "execution_count": 13,
   "metadata": {},
   "outputs": [],
   "source": [
    "sccoda_model.set_fdr(sccoda_data, 0.2)"
   ]
  },
  {
   "cell_type": "code",
   "execution_count": 14,
   "metadata": {},
   "outputs": [
    {
     "data": {
      "text/plain": [
       "Covariate             Cell Type                \n",
       "group[T.healthy_iav]  DHRS9+Club                    True\n",
       "                      ImmuneClub                    True\n",
       "                      MHCII+Club                    True\n",
       "                      SCGB1+KRT5-FOXA1+iav_Club    False\n",
       "                      TCN1+Club                    False\n",
       "                      iav-lip_Club                 False\n",
       "group[T.copd_ctrl]    DHRS9+Club                   False\n",
       "                      ImmuneClub                   False\n",
       "                      MHCII+Club                   False\n",
       "                      SCGB1+KRT5-FOXA1+iav_Club    False\n",
       "                      TCN1+Club                    False\n",
       "                      iav-lip_Club                 False\n",
       "group[T.copd_iav]     DHRS9+Club                    True\n",
       "                      ImmuneClub                    True\n",
       "                      MHCII+Club                    True\n",
       "                      SCGB1+KRT5-FOXA1+iav_Club     True\n",
       "                      TCN1+Club                    False\n",
       "                      iav-lip_Club                  True\n",
       "Name: Final Parameter, dtype: bool"
      ]
     },
     "execution_count": 14,
     "metadata": {},
     "output_type": "execute_result"
    }
   ],
   "source": [
    "sccoda_model.credible_effects(sccoda_data, modality_key=\"coda\")"
   ]
  },
  {
   "cell_type": "markdown",
   "metadata": {},
   "source": [
    "### Plotting of cell_states change of given cell_compartment in groups healthy_iav, copd_ctrl and copd_iav with healthy_ctrl as a reference"
   ]
  },
  {
   "cell_type": "code",
   "execution_count": 15,
   "metadata": {},
   "outputs": [
    {
     "data": {
      "image/png": "[encoded data removed]",
      "text/plain": [
       "<Figure size 1200x300 with 2 Axes>"
      ]
     },
     "metadata": {},
     "output_type": "display_data"
    }
   ],
   "source": [
    "pt.pl.coda.effects_barplot(sccoda_data, \"coda\", \"group\")\n",
    "plt.show()"
   ]
  }
 ],
 "metadata": {
  "kernelspec": {
   "display_name": "Python 3",
   "language": "python",
   "name": "python3"
  },
  "language_info": {
   "codemirror_mode": {
    "name": "ipython",
    "version": 3
   },
   "file_extension": ".py",
   "mimetype": "text/x-python",
   "name": "python",
   "nbconvert_exporter": "python",
   "pygments_lexer": "ipython3",
   "version": "3.10.13"
  }
 },
 "nbformat": 4,
 "nbformat_minor": 2
}
