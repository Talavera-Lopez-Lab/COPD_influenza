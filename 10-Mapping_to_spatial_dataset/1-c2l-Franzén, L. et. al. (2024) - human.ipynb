{
 "cells": [
  {
   "cell_type": "markdown",
   "metadata": {},
   "source": [
    "# Label Transfer of Healthy Control cell compartments via Haber 2020 to spatial dataset"
   ]
  },
  {
   "cell_type": "code",
   "execution_count": 1,
   "metadata": {},
   "outputs": [
    {
     "name": "stderr",
     "output_type": "stream",
     "text": [
      "/home/ceger/miniforge3/envs/squidpy-env/lib/python3.11/site-packages/tqdm/auto.py:21: TqdmWarning: IProgress not found. Please update jupyter and ipywidgets. See https://ipywidgets.readthedocs.io/en/stable/user_install.html\n",
      "  from .autonotebook import tqdm as notebook_tqdm\n"
     ]
    }
   ],
   "source": [
    "from pathlib import Path\n",
    "import scanpy as sc\n",
    "import squidpy as sq\n",
    "import pandas as pd\n",
    "import os\n",
    "import tempfile\n",
    "\n",
    "import anndata\n",
    "import matplotlib.pyplot as plt\n",
    "import numpy as np\n",
    "import pandas as pd\n",
    "import scanpy as sc\n",
    "import scvi\n",
    "import seaborn as sns\n",
    "import torch\n",
    "from scvi.model.utils import mde"
   ]
  },
  {
   "cell_type": "markdown",
   "metadata": {},
   "source": [
    "## Set Device"
   ]
  },
  {
   "cell_type": "code",
   "execution_count": 2,
   "metadata": {},
   "outputs": [
    {
     "name": "stdout",
     "output_type": "stream",
     "text": [
      "Number of available CUDA devices: 2\n",
      "Device 0: NVIDIA RTX 6000 Ada Generation\n",
      "Device 1: NVIDIA RTX 6000 Ada Generation\n"
     ]
    }
   ],
   "source": [
    "if torch.cuda.is_available():\n",
    "    print(f\"Number of available CUDA devices: {torch.cuda.device_count()}\")\n",
    "    for i in range(torch.cuda.device_count()):\n",
    "        print(f\"Device {i}: {torch.cuda.get_device_name(i)}\")\n",
    "else:\n",
    "    print(\"No CUDA devices available\")"
   ]
  },
  {
   "cell_type": "code",
   "execution_count": 3,
   "metadata": {},
   "outputs": [],
   "source": [
    "device = torch.cuda.device(0)"
   ]
  },
  {
   "cell_type": "markdown",
   "metadata": {},
   "source": [
    "## Data Prep"
   ]
  },
  {
   "cell_type": "code",
   "execution_count": 4,
   "metadata": {},
   "outputs": [],
   "source": [
    "global_repo_data = Path.cwd() / '..' / '.data'\n",
    "local_folder_data = Path.cwd() / '.data'\n",
    "figures_dir = Path.cwd() / 'figures'\n",
    "figures_dir.mkdir(exist_ok=True)\n"
   ]
  },
  {
   "cell_type": "code",
   "execution_count": 5,
   "metadata": {},
   "outputs": [
    {
     "data": {
      "text/plain": [
       "AnnData object with n_obs × n_vars = 22588 × 27208\n",
       "    obs: 'sex', 'age', 'ethnicity', 'PaCO2', 'donor', 'infection', 'disease', 'SMK', 'illumina_stimunr', 'bd_rhapsody', 'n_genes', 'doublet_scores', 'predicted_doublets', 'batch', 'n_genes_by_counts', 'total_counts', 'total_counts_mt', 'pct_counts_mt', 'total_counts_ribo', 'pct_counts_ribo', 'percent_mt2', 'n_counts', 'percent_chrY', 'XIST-counts', 'S_score', 'G2M_score', 'condition', 'sample_group', 'IAV_score', 'group', 'Viral_score', 'cell_type', 'cell_states', 'leiden', 'cell_compartment', '_scvi_batch', '_scvi_labels', 'C_scANVI', 'viral_counts', 'infected_status', 'seed_labels', 'batch-scANVI'\n",
       "    var: 'mt', 'ribo'\n",
       "    uns: 'cell_compartment_colors', 'cell_states_colors', 'disease_colors', 'group_colors', 'infection_colors'\n",
       "    obsm: 'X_scANVI', 'X_umap'"
      ]
     },
     "execution_count": 5,
     "metadata": {},
     "output_type": "execute_result"
    }
   ],
   "source": [
    "'''Labelled reference dataset'''\n",
    "adata_copd = sc.read_h5ad(global_repo_data / 'Marburg_cell_states_locked_ctl240709.raw.h5ad')\n",
    "adata_copd = adata_copd[adata_copd.obs['group'] == 'healthy_ctrl'].copy()\n",
    "cell_states = adata_copd.obs['cell_states']\n",
    "batches_copd = list(adata_copd.obs['batch'].unique())\n",
    "adata_copd"
   ]
  },
  {
   "cell_type": "code",
   "execution_count": 6,
   "metadata": {},
   "outputs": [
    {
     "data": {
      "text/plain": [
       "AnnData object with n_obs × n_vars = 101699 × 27260\n",
       "    obs: 'in_tissue', 'array_row', 'array_col', 'orig.ident', 'sample_name_x', 'sample_id', 'slide_id_x', 'slide_ca_x', 'condition_x', 'subject_alias_x', 'species_x', 'tissue_x', 'subject_gender_x', 'tissue_alias_x', 'B_tissue_selection_x', 'fibrotic_extent_score_by_pathologist_0.3', 'replicate_x', 'annotation', 'annotation_FF', 'nCount_RNA', 'nFeature_RNA', 'nCount_SCT', 'nFeature_SCT', 'percent.mt', 'percent.hb', 'percent.rp', 'percent.chrY', 'factor_14_cutoff', 'f14_subclusters', 'f14_c0_nbs_clusters', 'd_c0', 'r_dist_F14_C0', 'c2l_AT1', 'c2l_AT2', 'c2l_B.Cells', 'c2l_Basal', 'c2l_Ciliated', 'c2l_Differentiating.Ciliated', 'c2l_Endothelial.Cells', 'c2l_Fibroblasts', 'c2l_HAS1.High.Fibroblasts', 'c2l_KRT5..KRT17.', 'c2l_Lymphatic.Endothelial.Cells', 'c2l_MUC5AC..High', 'c2l_MUC5B.', 'c2l_Macrophages', 'c2l_Mast.Cells', 'c2l_Mesothelial.Cells', 'c2l_Monocytes', 'c2l_Myofibroblasts', 'c2l_NK.Cells', 'c2l_PLIN2..Fibroblasts', 'c2l_Plasma.Cells', 'c2l_Proliferating.Epithelial.Cells', 'c2l_Proliferating.Macrophages', 'c2l_Proliferating.T.Cells', 'c2l_SCGB3A2.', 'c2l_SCGB3A2..SCGB1A1.', 'c2l_Smooth.Muscle.Cells', 'c2l_T.Cells', 'c2l_Transitional.AT2', 'c2l_cDCs', 'c2l_pDCs', 'sample_name_y', 'slide_id_y', 'slide_ca_y', 'condition_y', 'subject_alias_y', 'tissue_alias_y', 'B_tissue_selection_y', 'fibrotic_extent_score_by_pathologist_0-3', 'replicate_y', 'species_y', 'tissue_y', 'subject_gender_y', 'n_counts'\n",
       "    var: 'n_cells'\n",
       "    uns: 'spatial'\n",
       "    obsm: 'spatial'"
      ]
     },
     "execution_count": 6,
     "metadata": {},
     "output_type": "execute_result"
    }
   ],
   "source": [
    "'''Unlabelled query dataset'''\n",
    "adata_spatial = sc.read_h5ad(local_folder_data / 'Franzen_L_2024_human.h5ad')\n",
    "adata_spatial"
   ]
  }
 ],
 "metadata": {
  "kernelspec": {
   "display_name": "squidpy-env",
   "language": "python",
   "name": "python3"
  },
  "language_info": {
   "codemirror_mode": {
    "name": "ipython",
    "version": 3
   },
   "file_extension": ".py",
   "mimetype": "text/x-python",
   "name": "python",
   "nbconvert_exporter": "python",
   "pygments_lexer": "ipython3",
   "version": "3.11.10"
  }
 },
 "nbformat": 4,
 "nbformat_minor": 2
}
